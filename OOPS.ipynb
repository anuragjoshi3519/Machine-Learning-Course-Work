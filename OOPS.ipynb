{
 "cells": [
  {
   "cell_type": "markdown",
   "metadata": {},
   "source": [
    "# OOPs - Classes and Objects"
   ]
  },
  {
   "cell_type": "code",
   "execution_count": 21,
   "metadata": {},
   "outputs": [],
   "source": [
    "users={\n",
    "    \"Anurag\":\"Joshi\",\n",
    "    \"Jacob\": \"Hatt\",\n",
    "    \"John\": \"Wick\"\n",
    "}\n",
    "\n",
    "\n",
    "def login_required(func):\n",
    "    def wrapper(user, pwd,*args,**kwargs):\n",
    "        if user in users and users[user]==pwd:\n",
    "            func(*args,**kwargs)\n",
    "        else:\n",
    "            print(\"Authentication failed!\")\n",
    "    return wrapper\n"
   ]
  },
  {
   "cell_type": "code",
   "execution_count": 26,
   "metadata": {},
   "outputs": [],
   "source": [
    "class Human:\n",
    "    legs=2\n",
    "    arms=2\n",
    "    eyes=2\n",
    "    nose=1\n",
    "    ears=2\n",
    "    fingers=10\n",
    "    toes=10\n",
    "    #These are all class variable, common for all human objects\n",
    "    \n",
    "    def __init__(self,name,nationality,religion,height,weight,age):\n",
    "        self.name=name\n",
    "        self.nationality=nationality\n",
    "        self.religion=religion\n",
    "        self.age=age\n",
    "        self.height=height\n",
    "        self.weight=weight\n",
    "        self.skills=[]\n",
    "        self.__secretMessage=''\n",
    "       \n",
    "    def printInfo(self):\n",
    "        l1=list(self.__dict__.keys())\n",
    "        for i in l1[:-2]:\n",
    "            print(\"{} : {}\".format(i,self.__dict__[i])) \n",
    "            \n",
    "        #l2=list(self.__class__.__dict__.keys())    \n",
    "        #for i in l2[1:8] :    \n",
    "        #    print(\"{} : {}\".format(i,self.__class__.__dict__[i]))\n",
    "        \n",
    "    def addSkills(self,*args):        # public function\n",
    "        for i in args:\n",
    "            self.skills.append(i)\n",
    "            \n",
    "        check=input(\"Want to add a secret message?(Y/N): \")\n",
    "        if check.upper()=='Y':\n",
    "            message=input(\"Type it: \")\n",
    "            self.__secretMessage=message\n",
    "        else:\n",
    "            pass\n",
    "           \n",
    "    def printSkills(self):            # public function\n",
    "        print(\"%s's skills are: \"%self.name)\n",
    "        for i in self.skills:\n",
    "            print(i)\n",
    "        if self.__secretMessage!='':    \n",
    "            check=input(\"Wish to print the secret message(Y/N): \")\n",
    "            if check.upper()==\"Y\":\n",
    "                self.__printSecretMessage()\n",
    "            \n",
    "            \n",
    "            \n",
    "    def __printSecretMessage(self):            #private function\n",
    "        print(\"\\nSecret Message: \"+ self.__secretMessage)"
   ]
  },
  {
   "cell_type": "code",
   "execution_count": 27,
   "metadata": {},
   "outputs": [
    {
     "name": "stdout",
     "output_type": "stream",
     "text": [
      "Want to add a secret message?(Y/N): n\n",
      "name : Anurag\n",
      "nationality : Indian\n",
      "religion : Hindu\n",
      "age : 21\n",
      "height : 6 feet\n",
      "weight : 74 kgs\n",
      "Anurag's skills are: \n",
      "knows ReactJS\n",
      "knows Python\n",
      "Knows C++\n"
     ]
    }
   ],
   "source": [
    "obj1= Human('Anurag','Indian','Hindu','6 feet','74 kgs','21')\n",
    "obj1.addSkills(\"knows ReactJS\",\"knows Python\",\"Knows C++\")\n",
    "obj1.printInfo()\n",
    "obj1.printSkills()"
   ]
  },
  {
   "cell_type": "markdown",
   "metadata": {},
   "source": [
    "# Inheritance"
   ]
  },
  {
   "cell_type": "code",
   "execution_count": 13,
   "metadata": {},
   "outputs": [],
   "source": [
    "class SuperHuman(Human):     #inheriting from Human class\n",
    "    \n",
    "    def __init__(self,name,nationality,religion,height,weight,age,powers):\n",
    "        Human.__init__(self,name,nationality,religion,height,weight,age)\n",
    "        self.powers=powers\n",
    "        \n",
    "    def printPowers(self):\n",
    "        print(\"\\n%s's powers:\"%self.name)\n",
    "        j=1\n",
    "        for i in self.powers:\n",
    "            print(\"{}) {}\".format(j,i))\n",
    "            j+=1"
   ]
  },
  {
   "cell_type": "code",
   "execution_count": 14,
   "metadata": {},
   "outputs": [],
   "source": [
    "objS=SuperHuman('Anurag','Indian','Hindu','6 feet','74 kgs','21',['Can Fly','Can go Invisible'])"
   ]
  },
  {
   "cell_type": "code",
   "execution_count": 15,
   "metadata": {},
   "outputs": [
    {
     "name": "stdout",
     "output_type": "stream",
     "text": [
      "name : Anurag\n",
      "nationality : Indian\n",
      "religion : Hindu\n",
      "age : 21\n",
      "height : 6 feet\n",
      "weight : 74 kgs\n",
      "skills : []\n",
      "\n",
      "Anurag's powers:\n",
      "1) Can Fly\n",
      "2) Can go Invisible\n"
     ]
    }
   ],
   "source": [
    "objS.printInfo()\n",
    "objS.printPowers()"
   ]
  },
  {
   "cell_type": "code",
   "execution_count": null,
   "metadata": {},
   "outputs": [],
   "source": []
  },
  {
   "cell_type": "code",
   "execution_count": null,
   "metadata": {},
   "outputs": [],
   "source": []
  }
 ],
 "metadata": {
  "kernelspec": {
   "display_name": "Python 3",
   "language": "python",
   "name": "python3"
  },
  "language_info": {
   "codemirror_mode": {
    "name": "ipython",
    "version": 3
   },
   "file_extension": ".py",
   "mimetype": "text/x-python",
   "name": "python",
   "nbconvert_exporter": "python",
   "pygments_lexer": "ipython3",
   "version": "3.7.2"
  }
 },
 "nbformat": 4,
 "nbformat_minor": 2
}
