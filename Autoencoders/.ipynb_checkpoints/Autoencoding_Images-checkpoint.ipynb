{
 "cells": [
  {
   "cell_type": "code",
   "execution_count": 149,
   "metadata": {},
   "outputs": [],
   "source": [
    "import numpy as np\n",
    "import matplotlib.pyplot as plt\n",
    "from tensorflow.keras.datasets import mnist\n",
    "from tensorflow.keras.models import Sequential, Model\n",
    "from tensorflow.keras.layers import Dense, Conv2D, Flatten, Conv2DTranspose, LeakyReLU, Reshape, Input\n",
    "from tensorflow.keras.optimizers import Adam"
   ]
  },
  {
   "cell_type": "code",
   "execution_count": 33,
   "metadata": {},
   "outputs": [
    {
     "name": "stdout",
     "output_type": "stream",
     "text": [
      "(60000, 28, 28) (10000, 28, 28)\n"
     ]
    }
   ],
   "source": [
    "(XTrain,_), (XTest,_)= mnist.load_data()\n",
    "print(XTrain.shape,XTest.shape)"
   ]
  },
  {
   "cell_type": "code",
   "execution_count": 34,
   "metadata": {},
   "outputs": [
    {
     "data": {
      "text/plain": [
       "<matplotlib.image.AxesImage at 0x7fe7c173f4d0>"
      ]
     },
     "execution_count": 34,
     "metadata": {},
     "output_type": "execute_result"
    },
    {
     "data": {
      "image/png": "[encoded data removed]",
      "text/plain": [
       "<Figure size 432x288 with 1 Axes>"
      ]
     },
     "metadata": {
      "needs_background": "light"
     },
     "output_type": "display_data"
    }
   ],
   "source": [
    "plt.imshow(XTrain[0],cmap='gray')"
   ]
  },
  {
   "cell_type": "code",
   "execution_count": 35,
   "metadata": {},
   "outputs": [
    {
     "name": "stdout",
     "output_type": "stream",
     "text": [
      "(60000, 28, 28, 1)\n"
     ]
    }
   ],
   "source": [
    "## Reshaping images\n",
    "XTrain = XTrain.reshape((*XTrain.shape,1))\n",
    "XTest = XTest.reshape((*XTest.shape,1))\n",
    "\n",
    "## Normalizing Images\n",
    "XTrain=XTrain/255.\n",
    "XTest=XTest/255.\n",
    "\n",
    "print(XTrain.shape)"
   ]
  },
  {
   "cell_type": "markdown",
   "metadata": {},
   "source": [
    "## Autoencoder Architecture"
   ]
  },
  {
   "cell_type": "markdown",
   "metadata": {},
   "source": [
    "### Encoder"
   ]
  },
  {
   "cell_type": "code",
   "execution_count": 150,
   "metadata": {},
   "outputs": [
    {
     "name": "stdout",
     "output_type": "stream",
     "text": [
      "Model: \"sequential_26\"\n",
      "_________________________________________________________________\n",
      "Layer (type)                 Output Shape              Param #   \n",
      "=================================================================\n",
      "conv2d_43 (Conv2D)           (None, 14, 14, 32)        320       \n",
      "_________________________________________________________________\n",
      "leaky_re_lu_42 (LeakyReLU)   (None, 14, 14, 32)        0         \n",
      "_________________________________________________________________\n",
      "conv2d_44 (Conv2D)           (None, 7, 7, 64)          18496     \n",
      "_________________________________________________________________\n",
      "leaky_re_lu_43 (LeakyReLU)   (None, 7, 7, 64)          0         \n",
      "_________________________________________________________________\n",
      "flatten_11 (Flatten)         (None, 3136)              0         \n",
      "_________________________________________________________________\n",
      "dense_18 (Dense)             (None, 128)               401536    \n",
      "_________________________________________________________________\n",
      "dense_19 (Dense)             (None, 64)                8256      \n",
      "=================================================================\n",
      "Total params: 428,608\n",
      "Trainable params: 428,608\n",
      "Non-trainable params: 0\n",
      "_________________________________________________________________\n"
     ]
    }
   ],
   "source": [
    "encoder = Sequential()\n",
    "\n",
    "encoder.add(Conv2D(32,kernel_size=(3,3),padding='same',strides=(2,2),input_shape=(28,28,1))) \n",
    "encoder.add(LeakyReLU())\n",
    "encoder.add(Conv2D(64,kernel_size=(3,3),padding='same',strides=(2,2)))\n",
    "encoder.add(LeakyReLU())\n",
    "encoder.add(Flatten())\n",
    "encoder.add(Dense(128,activation='relu'))\n",
    "encoder.add(Dense(64,activation='relu'))\n",
    "\n",
    "encoder.summary()"
   ]
  },
  {
   "cell_type": "code",
   "execution_count": 151,
   "metadata": {},
   "outputs": [
    {
     "name": "stdout",
     "output_type": "stream",
     "text": [
      "Model: \"sequential_27\"\n",
      "_________________________________________________________________\n",
      "Layer (type)                 Output Shape              Param #   \n",
      "=================================================================\n",
      "dense_20 (Dense)             (None, 128)               8320      \n",
      "_________________________________________________________________\n",
      "dense_21 (Dense)             (None, 3136)              404544    \n",
      "_________________________________________________________________\n",
      "reshape_6 (Reshape)          (None, 7, 7, 64)          0         \n",
      "_________________________________________________________________\n",
      "conv2d_transpose_17 (Conv2DT (None, 14, 14, 32)        18464     \n",
      "_________________________________________________________________\n",
      "leaky_re_lu_44 (LeakyReLU)   (None, 14, 14, 32)        0         \n",
      "_________________________________________________________________\n",
      "conv2d_transpose_18 (Conv2DT (None, 28, 28, 1)         289       \n",
      "=================================================================\n",
      "Total params: 431,617\n",
      "Trainable params: 431,617\n",
      "Non-trainable params: 0\n",
      "_________________________________________________________________\n"
     ]
    }
   ],
   "source": [
    "decoder = Sequential()\n",
    "\n",
    "decoder.add(Dense(128,activation='relu',input_shape=(64,)))\n",
    "decoder.add(Dense(3136,activation='relu'))\n",
    "decoder.add(Reshape((7,7,64)))\n",
    "decoder.add(Conv2DTranspose(32,kernel_size=(3,3),padding='same',strides=(2,2))) \n",
    "decoder.add(LeakyReLU())\n",
    "decoder.add(Conv2DTranspose(1,kernel_size=(3,3),padding='same',strides=(2,2),activation='sigmoid')) \n",
    "decoder.summary()"
   ]
  },
  {
   "cell_type": "code",
   "execution_count": 152,
   "metadata": {},
   "outputs": [
    {
     "name": "stdout",
     "output_type": "stream",
     "text": [
      "Model: \"model_5\"\n",
      "_________________________________________________________________\n",
      "Layer (type)                 Output Shape              Param #   \n",
      "=================================================================\n",
      "input_11 (InputLayer)        [(None, 28, 28, 1)]       0         \n",
      "_________________________________________________________________\n",
      "sequential_26 (Sequential)   (None, 64)                428608    \n",
      "_________________________________________________________________\n",
      "sequential_27 (Sequential)   (None, 28, 28, 1)         431617    \n",
      "=================================================================\n",
      "Total params: 860,225\n",
      "Trainable params: 860,225\n",
      "Non-trainable params: 0\n",
      "_________________________________________________________________\n"
     ]
    }
   ],
   "source": [
    "inputs = Input(shape=(28,28,1))\n",
    "x = encoder(inputs)\n",
    "outputs = decoder(x)\n",
    "\n",
    "autoencoder = Model(inputs=inputs,outputs=outputs)\n",
    "autoencoder.summary()"
   ]
  },
  {
   "cell_type": "code",
   "execution_count": 153,
   "metadata": {
    "scrolled": true
   },
   "outputs": [
    {
     "name": "stdout",
     "output_type": "stream",
     "text": [
      "Epoch 1/15\n",
      "60000/60000 [==============================] - 28s 473us/sample - loss: 0.1569 - accuracy: 0.8054\n",
      "Epoch 2/15\n",
      "60000/60000 [==============================] - 30s 508us/sample - loss: 0.0973 - accuracy: 0.8129\n",
      "Epoch 3/15\n",
      "60000/60000 [==============================] - 30s 507us/sample - loss: 0.0885 - accuracy: 0.8140\n",
      "Epoch 4/15\n",
      "60000/60000 [==============================] - 30s 504us/sample - loss: 0.0845 - accuracy: 0.8144\n",
      "Epoch 5/15\n",
      "60000/60000 [==============================] - 31s 513us/sample - loss: 0.0827 - accuracy: 0.8146\n",
      "Epoch 6/15\n",
      "60000/60000 [==============================] - 31s 522us/sample - loss: 0.0810 - accuracy: 0.8147\n",
      "Epoch 7/15\n",
      "60000/60000 [==============================] - 29s 483us/sample - loss: 0.0802 - accuracy: 0.8148\n",
      "Epoch 8/15\n",
      "60000/60000 [==============================] - 29s 478us/sample - loss: 0.0793 - accuracy: 0.8148\n",
      "Epoch 9/15\n",
      "60000/60000 [==============================] - 29s 487us/sample - loss: 0.0786 - accuracy: 0.8149\n",
      "Epoch 10/15\n",
      "60000/60000 [==============================] - 29s 483us/sample - loss: 0.0782 - accuracy: 0.8149\n",
      "Epoch 11/15\n",
      "60000/60000 [==============================] - 30s 493us/sample - loss: 0.0778 - accuracy: 0.8149\n",
      "Epoch 12/15\n",
      "60000/60000 [==============================] - 31s 519us/sample - loss: 0.0776 - accuracy: 0.8150\n",
      "Epoch 13/15\n",
      "60000/60000 [==============================] - 32s 530us/sample - loss: 0.0773 - accuracy: 0.8150\n",
      "Epoch 14/15\n",
      "60000/60000 [==============================] - 33s 549us/sample - loss: 0.0768 - accuracy: 0.8150\n",
      "Epoch 15/15\n",
      "60000/60000 [==============================] - 32s 527us/sample - loss: 0.0766 - accuracy: 0.8150\n"
     ]
    },
    {
     "data": {
      "text/plain": [
       "<tensorflow.python.keras.callbacks.History at 0x7fe75e27e810>"
      ]
     },
     "execution_count": 153,
     "metadata": {},
     "output_type": "execute_result"
    }
   ],
   "source": [
    "autoencoder.compile(optimizer=Adam(lr=0.01),loss='binary_crossentropy',metrics=['accuracy'])\n",
    "autoencoder.fit(XTrain,XTrain,batch_size=128,epochs=15)"
   ]
  },
  {
   "cell_type": "markdown",
   "metadata": {},
   "source": [
    "## Autoencoder predictions"
   ]
  },
  {
   "cell_type": "code",
   "execution_count": 227,
   "metadata": {},
   "outputs": [
    {
     "name": "stdout",
     "output_type": "stream",
     "text": [
      "Original Image\t\t\t\t Reconstructed Image \n"
     ]
    },
    {
     "data": {
      "image/png": "[encoded data removed]",
      "text/plain": [
       "<Figure size 864x864 with 16 Axes>"
      ]
     },
     "metadata": {
      "needs_background": "light"
     },
     "output_type": "display_data"
    }
   ],
   "source": [
    "fig = plt.figure(figsize=(12,12))\n",
    "idx = 1\n",
    "n = 8\n",
    "print('Original Image\\t\\t\\t\\t Reconstructed Image ')\n",
    "for _ in range(n):\n",
    "    ax=fig.add_subplot(n,2,idx)\n",
    "    ax.imshow(XTest[idx].reshape(28,28), cmap='gray')\n",
    "    out = autoencoder.predict(np.expand_dims(XTest[idx],axis=0))\n",
    "    idx+=1\n",
    "    \n",
    "    ax1=fig.add_subplot(n,2,idx)\n",
    "    ax1.imshow(out[0].reshape(28,28), cmap='gray')\n",
    "    idx+=1 "
   ]
  },
  {
   "cell_type": "code",
   "execution_count": 226,
   "metadata": {},
   "outputs": [
    {
     "data": {
      "text/plain": [
       "<matplotlib.image.AxesImage at 0x7fe747955450>"
      ]
     },
     "execution_count": 226,
     "metadata": {},
     "output_type": "execute_result"
    },
    {
     "data": {
      "image/png": "[encoded data removed]",
      "text/plain": [
       "<Figure size 432x288 with 1 Axes>"
      ]
     },
     "metadata": {
      "needs_background": "light"
     },
     "output_type": "display_data"
    }
   ],
   "source": [
    "out = autoencoder.predict(np.random.randn(784).reshape((1,28,28,1)))\n",
    "plt.imshow(out[0].reshape(28,28), cmap='gray')"
   ]
  },
  {
   "cell_type": "code",
   "execution_count": null,
   "metadata": {},
   "outputs": [],
   "source": []
  },
  {
   "cell_type": "code",
   "execution_count": null,
   "metadata": {},
   "outputs": [],
   "source": []
  }
 ],
 "metadata": {
  "kernelspec": {
   "display_name": "Python 3",
   "language": "python",
   "name": "python3"
  },
  "language_info": {
   "codemirror_mode": {
    "name": "ipython",
    "version": 3
   },
   "file_extension": ".py",
   "mimetype": "text/x-python",
   "name": "python",
   "nbconvert_exporter": "python",
   "pygments_lexer": "ipython3",
   "version": "3.7.4"
  }
 },
 "nbformat": 4,
 "nbformat_minor": 2
}
