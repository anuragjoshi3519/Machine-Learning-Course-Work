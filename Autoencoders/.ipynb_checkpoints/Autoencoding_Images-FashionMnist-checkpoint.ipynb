{
 "cells": [
  {
   "cell_type": "code",
   "execution_count": 58,
   "metadata": {},
   "outputs": [],
   "source": [
    "import numpy as np\n",
    "import matplotlib.pyplot as plt\n",
    "from tensorflow.keras.datasets import fashion_mnist\n",
    "from tensorflow.keras.models import Sequential, Model\n",
    "from tensorflow.keras.layers import Dense, Conv2D, Flatten, Conv2DTranspose, LeakyReLU, Reshape, Input, GaussianNoise\n",
    "from tensorflow.keras.optimizers import Adam"
   ]
  },
  {
   "cell_type": "code",
   "execution_count": 2,
   "metadata": {},
   "outputs": [
    {
     "name": "stdout",
     "output_type": "stream",
     "text": [
      "(60000, 28, 28) (10000, 28, 28)\n"
     ]
    }
   ],
   "source": [
    "(XTrain,_), (XTest,_)= fashion_mnist.load_data()\n",
    "print(XTrain.shape,XTest.shape)"
   ]
  },
  {
   "cell_type": "code",
   "execution_count": 3,
   "metadata": {},
   "outputs": [
    {
     "data": {
      "text/plain": [
       "<matplotlib.image.AxesImage at 0x7f6eb74edf50>"
      ]
     },
     "execution_count": 3,
     "metadata": {},
     "output_type": "execute_result"
    },
    {
     "data": {
      "image/png": "[encoded data removed]",
      "text/plain": [
       "<Figure size 432x288 with 1 Axes>"
      ]
     },
     "metadata": {
      "needs_background": "light"
     },
     "output_type": "display_data"
    }
   ],
   "source": [
    "plt.imshow(XTrain[0],cmap='gray')"
   ]
  },
  {
   "cell_type": "code",
   "execution_count": 4,
   "metadata": {},
   "outputs": [
    {
     "name": "stdout",
     "output_type": "stream",
     "text": [
      "(60000, 28, 28, 1)\n"
     ]
    }
   ],
   "source": [
    "## Reshaping images\n",
    "XTrain = XTrain.reshape((*XTrain.shape,1))\n",
    "XTest = XTest.reshape((*XTest.shape,1))\n",
    "\n",
    "## Normalizing Images\n",
    "XTrain=XTrain/255.\n",
    "XTest=XTest/255.\n",
    "\n",
    "print(XTrain.shape)"
   ]
  },
  {
   "cell_type": "markdown",
   "metadata": {},
   "source": [
    "## Autoencoder Architecture"
   ]
  },
  {
   "cell_type": "markdown",
   "metadata": {},
   "source": [
    "### Encoder"
   ]
  },
  {
   "cell_type": "code",
   "execution_count": 42,
   "metadata": {},
   "outputs": [
    {
     "name": "stdout",
     "output_type": "stream",
     "text": [
      "Model: \"sequential_22\"\n",
      "_________________________________________________________________\n",
      "Layer (type)                 Output Shape              Param #   \n",
      "=================================================================\n",
      "conv2d_28 (Conv2D)           (None, 26, 26, 32)        320       \n",
      "_________________________________________________________________\n",
      "leaky_re_lu_51 (LeakyReLU)   (None, 26, 26, 32)        0         \n",
      "_________________________________________________________________\n",
      "conv2d_29 (Conv2D)           (None, 12, 12, 64)        18496     \n",
      "_________________________________________________________________\n",
      "leaky_re_lu_52 (LeakyReLU)   (None, 12, 12, 64)        0         \n",
      "_________________________________________________________________\n",
      "conv2d_30 (Conv2D)           (None, 6, 6, 128)         73856     \n",
      "_________________________________________________________________\n",
      "leaky_re_lu_53 (LeakyReLU)   (None, 6, 6, 128)         0         \n",
      "_________________________________________________________________\n",
      "conv2d_31 (Conv2D)           (None, 3, 3, 128)         147584    \n",
      "_________________________________________________________________\n",
      "leaky_re_lu_54 (LeakyReLU)   (None, 3, 3, 128)         0         \n",
      "_________________________________________________________________\n",
      "flatten_11 (Flatten)         (None, 1152)              0         \n",
      "_________________________________________________________________\n",
      "dense_44 (Dense)             (None, 256)               295168    \n",
      "_________________________________________________________________\n",
      "dense_45 (Dense)             (None, 128)               32896     \n",
      "=================================================================\n",
      "Total params: 568,320\n",
      "Trainable params: 568,320\n",
      "Non-trainable params: 0\n",
      "_________________________________________________________________\n"
     ]
    }
   ],
   "source": [
    "encoder = Sequential()\n",
    "\n",
    "encoder.add(Conv2D(32,kernel_size=(3,3),input_shape=(28,28,1)))\n",
    "encoder.add(LeakyReLU())\n",
    "encoder.add(Conv2D(64,kernel_size=(3,3),strides=(2,2)))\n",
    "encoder.add(LeakyReLU())\n",
    "encoder.add(Conv2D(128,kernel_size=(3,3),padding='same',strides=(2,2)))\n",
    "encoder.add(LeakyReLU())\n",
    "encoder.add(Conv2D(128,kernel_size=(3,3),padding='same',strides=(2,2)))\n",
    "encoder.add(LeakyReLU())\n",
    "encoder.add(Flatten())\n",
    "encoder.add(Dense(256,activation='relu'))\n",
    "encoder.add(Dense(128,activation='relu'))\n",
    "\n",
    "encoder.summary()"
   ]
  },
  {
   "cell_type": "code",
   "execution_count": 43,
   "metadata": {},
   "outputs": [
    {
     "name": "stdout",
     "output_type": "stream",
     "text": [
      "Model: \"sequential_23\"\n",
      "_________________________________________________________________\n",
      "Layer (type)                 Output Shape              Param #   \n",
      "=================================================================\n",
      "dense_46 (Dense)             (None, 256)               33024     \n",
      "_________________________________________________________________\n",
      "dense_47 (Dense)             (None, 1152)              296064    \n",
      "_________________________________________________________________\n",
      "reshape_11 (Reshape)         (None, 3, 3, 128)         0         \n",
      "_________________________________________________________________\n",
      "conv2d_transpose_34 (Conv2DT (None, 6, 6, 128)         147584    \n",
      "_________________________________________________________________\n",
      "leaky_re_lu_55 (LeakyReLU)   (None, 6, 6, 128)         0         \n",
      "_________________________________________________________________\n",
      "conv2d_transpose_35 (Conv2DT (None, 13, 13, 64)        73792     \n",
      "_________________________________________________________________\n",
      "leaky_re_lu_56 (LeakyReLU)   (None, 13, 13, 64)        0         \n",
      "_________________________________________________________________\n",
      "conv2d_transpose_36 (Conv2DT (None, 26, 26, 32)        18464     \n",
      "_________________________________________________________________\n",
      "leaky_re_lu_57 (LeakyReLU)   (None, 26, 26, 32)        0         \n",
      "_________________________________________________________________\n",
      "conv2d_transpose_37 (Conv2DT (None, 28, 28, 1)         289       \n",
      "=================================================================\n",
      "Total params: 569,217\n",
      "Trainable params: 569,217\n",
      "Non-trainable params: 0\n",
      "_________________________________________________________________\n"
     ]
    }
   ],
   "source": [
    "decoder = Sequential()\n",
    "\n",
    "decoder.add(Dense(256,activation='relu',input_shape=(128,)))\n",
    "decoder.add(Dense(1152,activation='relu'))\n",
    "decoder.add(Reshape((3,3,128)))\n",
    "decoder.add(Conv2DTranspose(128,kernel_size=(3,3),padding='same',strides=(2,2)))\n",
    "decoder.add(LeakyReLU())\n",
    "decoder.add(Conv2DTranspose(64,kernel_size=(3,3),strides=(2,2)))\n",
    "decoder.add(LeakyReLU())\n",
    "decoder.add(Conv2DTranspose(32,kernel_size=(3,3),padding='same',strides=(2,2)))\n",
    "decoder.add(LeakyReLU())\n",
    "decoder.add(Conv2DTranspose(1,kernel_size=(3,3),activation='sigmoid'))\n",
    "decoder.summary()"
   ]
  },
  {
   "cell_type": "code",
   "execution_count": 44,
   "metadata": {},
   "outputs": [
    {
     "name": "stdout",
     "output_type": "stream",
     "text": [
      "Model: \"model_4\"\n",
      "_________________________________________________________________\n",
      "Layer (type)                 Output Shape              Param #   \n",
      "=================================================================\n",
      "input_5 (InputLayer)         [(None, 28, 28, 1)]       0         \n",
      "_________________________________________________________________\n",
      "sequential_22 (Sequential)   (None, 128)               568320    \n",
      "_________________________________________________________________\n",
      "sequential_23 (Sequential)   (None, 28, 28, 1)         569217    \n",
      "=================================================================\n",
      "Total params: 1,137,537\n",
      "Trainable params: 1,137,537\n",
      "Non-trainable params: 0\n",
      "_________________________________________________________________\n"
     ]
    }
   ],
   "source": [
    "inputs = Input(shape=(28,28,1))\n",
    "x = encoder(inputs)\n",
    "outputs = decoder(x)\n",
    "\n",
    "autoencoder = Model(inputs=inputs,outputs=outputs)\n",
    "autoencoder.summary()"
   ]
  },
  {
   "cell_type": "code",
   "execution_count": 53,
   "metadata": {
    "scrolled": true
   },
   "outputs": [
    {
     "name": "stdout",
     "output_type": "stream",
     "text": [
      "Epoch 1/10\n",
      "60000/60000 [==============================] - 85s 1ms/sample - loss: 0.2562 - accuracy: 0.5097\n",
      "Epoch 2/10\n",
      "60000/60000 [==============================] - 85s 1ms/sample - loss: 0.2557 - accuracy: 0.5097\n",
      "Epoch 3/10\n",
      "60000/60000 [==============================] - 84s 1ms/sample - loss: 0.2556 - accuracy: 0.5097\n",
      "Epoch 4/10\n",
      "60000/60000 [==============================] - 82s 1ms/sample - loss: 0.2554 - accuracy: 0.5097\n",
      "Epoch 5/10\n",
      "60000/60000 [==============================] - 84s 1ms/sample - loss: 0.2553 - accuracy: 0.5097\n",
      "Epoch 6/10\n",
      "60000/60000 [==============================] - 82s 1ms/sample - loss: 0.2551 - accuracy: 0.5097\n",
      "Epoch 7/10\n",
      "60000/60000 [==============================] - 82s 1ms/sample - loss: 0.2549 - accuracy: 0.5097\n",
      "Epoch 8/10\n",
      "60000/60000 [==============================] - 87s 1ms/sample - loss: 0.2548 - accuracy: 0.5098\n",
      "Epoch 9/10\n",
      "60000/60000 [==============================] - 88s 1ms/sample - loss: 0.2547 - accuracy: 0.5098\n",
      "Epoch 10/10\n",
      "60000/60000 [==============================] - 88s 1ms/sample - loss: 0.2546 - accuracy: 0.5098\n"
     ]
    },
    {
     "data": {
      "text/plain": [
       "<tensorflow.python.keras.callbacks.History at 0x7f6e33252a10>"
      ]
     },
     "execution_count": 53,
     "metadata": {},
     "output_type": "execute_result"
    }
   ],
   "source": [
    "autoencoder.compile(optimizer='adam',loss='binary_crossentropy',metrics=['accuracy'])\n",
    "autoencoder.fit(XTrain,XTrain,batch_size=64,epochs=10)"
   ]
  },
  {
   "cell_type": "markdown",
   "metadata": {},
   "source": [
    "## Autoencoder predictions"
   ]
  },
  {
   "cell_type": "code",
   "execution_count": 57,
   "metadata": {},
   "outputs": [
    {
     "name": "stdout",
     "output_type": "stream",
     "text": [
      "Original Image\t\t\t\t Reconstructed Image \n"
     ]
    },
    {
     "data": {
      "image/png": "[encoded data removed]",
      "text/plain": [
       "<Figure size 864x864 with 10 Axes>"
      ]
     },
     "metadata": {
      "needs_background": "light"
     },
     "output_type": "display_data"
    }
   ],
   "source": [
    "fig = plt.figure(figsize=(12,12))\n",
    "idx = 1\n",
    "n = 5\n",
    "print('Original Image\\t\\t\\t\\t Reconstructed Image ')\n",
    "for _ in range(n):\n",
    "    ax=fig.add_subplot(n,2,idx)\n",
    "    ax.imshow(XTest[idx].reshape(28,28), cmap='gray')\n",
    "    out = autoencoder.predict(np.expand_dims(XTest[idx],axis=0))\n",
    "    idx+=1\n",
    "    \n",
    "    ax1=fig.add_subplot(n,2,idx)\n",
    "    ax1.imshow(out[0].reshape(28,28), cmap='gray')\n",
    "    idx+=1 "
   ]
  },
  {
   "cell_type": "code",
   "execution_count": null,
   "metadata": {},
   "outputs": [],
   "source": []
  },
  {
   "cell_type": "code",
   "execution_count": null,
   "metadata": {},
   "outputs": [],
   "source": []
  },
  {
   "cell_type": "code",
   "execution_count": null,
   "metadata": {},
   "outputs": [],
   "source": []
  }
 ],
 "metadata": {
  "kernelspec": {
   "display_name": "Python 3",
   "language": "python",
   "name": "python3"
  },
  "language_info": {
   "codemirror_mode": {
    "name": "ipython",
    "version": 3
   },
   "file_extension": ".py",
   "mimetype": "text/x-python",
   "name": "python",
   "nbconvert_exporter": "python",
   "pygments_lexer": "ipython3",
   "version": "3.7.4"
  }
 },
 "nbformat": 4,
 "nbformat_minor": 2
}
