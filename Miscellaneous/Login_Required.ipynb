{
 "cells": [
  {
   "cell_type": "markdown",
   "metadata": {},
   "source": [
    "## Decorators"
   ]
  },
  {
   "cell_type": "code",
   "execution_count": 5,
   "metadata": {},
   "outputs": [
    {
     "name": "stdout",
     "output_type": "stream",
     "text": [
      "Authentication failed!\n"
     ]
    }
   ],
   "source": [
    "users={\n",
    "    \"anurag\":\"joshi\",\n",
    "    \"hello\": \"world\",\n",
    "    \"john\":\"wick\"\n",
    "}\n",
    "\n",
    "\n",
    "def login_required(func):\n",
    "    def wrapper(user, pwd,*args,**kwargs):\n",
    "        if user in users and users[user]==pwd:\n",
    "            func(*args,**kwargs)\n",
    "        else:\n",
    "            print(\"Authentication failed!\")\n",
    "    return wrapper\n",
    "\n"
   ]
  },
  {
   "cell_type": "markdown",
   "metadata": {},
   "source": [
    "## Block 1 and 2 works the same,  2nd block is a decorator"
   ]
  },
  {
   "cell_type": "code",
   "execution_count": 7,
   "metadata": {},
   "outputs": [
    {
     "name": "stdout",
     "output_type": "stream",
     "text": [
      "sum is 90\n"
     ]
    }
   ],
   "source": [
    "#Block 1:\n",
    "\n",
    "def add(a,b):\n",
    "    print(\"sum is %d\"%(a+b))\n",
    "add=login_required(add)\n",
    "\n",
    "#Calling\n",
    "add(\"anurag\",\"joshi\",34,56)"
   ]
  },
  {
   "cell_type": "code",
   "execution_count": 9,
   "metadata": {},
   "outputs": [
    {
     "name": "stdout",
     "output_type": "stream",
     "text": [
      "Authentication failed!\n"
     ]
    }
   ],
   "source": [
    "#Block 2:\n",
    "\n",
    "@login_required\n",
    "def add(a,b):\n",
    "    print(\"Sum is %d\"%(a+b))\n",
    "    \n",
    "    \n",
    "#Calling\n",
    "add(\"hello\",\"World\",5,7)"
   ]
  },
  {
   "cell_type": "code",
   "execution_count": null,
   "metadata": {},
   "outputs": [],
   "source": []
  }
 ],
 "metadata": {
  "kernelspec": {
   "display_name": "Python 3",
   "language": "python",
   "name": "python3"
  },
  "language_info": {
   "codemirror_mode": {
    "name": "ipython",
    "version": 3
   },
   "file_extension": ".py",
   "mimetype": "text/x-python",
   "name": "python",
   "nbconvert_exporter": "python",
   "pygments_lexer": "ipython3",
   "version": "3.7.2"
  }
 },
 "nbformat": 4,
 "nbformat_minor": 2
}
