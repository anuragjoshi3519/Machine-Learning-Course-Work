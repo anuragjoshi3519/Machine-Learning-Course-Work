{
 "cells": [
  {
   "cell_type": "markdown",
   "metadata": {},
   "source": [
    "## Vectors\n",
    "- Dot Product of vectors $\\vec{a}$ and $\\vec{b}$: $\\vec{a}\\cdot\\vec{b} = |\\vec{a}||\\vec{b}|\\cos(\\theta)$\n",
    "- Scalar Projection of vector a onto vector b: $a_b = \\frac{\\vec{a}\\cdot\\vec{b}}{|\\vec{b}|}$\n",
    "- Vector Projection of vector a onto vector b: $a_b = \\frac{\\vec{a}\\cdot\\vec{b}}{|\\vec{b}|}\\frac{\\vec{b}}{|\\vec{b}|}$\n",
    "\n",
    "For more info : [Search anything here](https://www.google.com/)"
   ]
  },
  {
   "cell_type": "markdown",
   "metadata": {},
   "source": [
    "### Plotting Vectors"
   ]
  },
  {
   "cell_type": "code",
   "execution_count": 17,
   "metadata": {},
   "outputs": [
    {
     "name": "stdout",
     "output_type": "stream",
     "text": [
      "Exception reporting mode: Verbose\n"
     ]
    }
   ],
   "source": [
    "import numpy as np\n",
    "import matplotlib.pyplot as plt\n",
    "%xmode verbose"
   ]
  },
  {
   "cell_type": "code",
   "execution_count": 39,
   "metadata": {},
   "outputs": [
    {
     "data": {
      "image/png": "[encoded data removed]",
      "text/plain": [
       "<Figure size 432x288 with 1 Axes>"
      ]
     },
     "metadata": {
      "needs_background": "light"
     },
     "output_type": "display_data"
    }
   ],
   "source": [
    "## plt.quiver plots a vector\n",
    "plt.grid(True)\n",
    "plt.quiver(*(0,0,3,4),scale_units='xy',angles='xy',scale=1)\n",
    "plt.xlim(-6,6)\n",
    "plt.ylim(-6,6)\n",
    "plt.show()"
   ]
  },
  {
   "cell_type": "code",
   "execution_count": 61,
   "metadata": {},
   "outputs": [],
   "source": [
    "def plot_vectors(list_of_vectors):\n",
    "    for o1,o2,x,y in list_of_vectors:\n",
    "        plt.quiver(o1,o2,x,y,scale_units='xy',angles='xy',scale=1,color='r')\n",
    "    \n",
    "    plt.grid(True)\n",
    "    plt.xlim(-6,6)\n",
    "    plt.ylim(-6,6)\n",
    "    plt.show()"
   ]
  },
  {
   "cell_type": "code",
   "execution_count": 62,
   "metadata": {},
   "outputs": [
    {
     "data": {
      "image/png": "[encoded data removed]",
      "text/plain": [
       "<Figure size 432x288 with 1 Axes>"
      ]
     },
     "metadata": {
      "needs_background": "light"
     },
     "output_type": "display_data"
    }
   ],
   "source": [
    "plot_vectors([[0,0,1,2],[0,0,3,4],[0,0,4,-2],[0,0,-4,5]])"
   ]
  },
  {
   "cell_type": "code",
   "execution_count": null,
   "metadata": {},
   "outputs": [],
   "source": []
  },
  {
   "cell_type": "code",
   "execution_count": null,
   "metadata": {},
   "outputs": [],
   "source": []
  }
 ],
 "metadata": {
  "kernelspec": {
   "display_name": "Python 3",
   "language": "python",
   "name": "python3"
  },
  "language_info": {
   "codemirror_mode": {
    "name": "ipython",
    "version": 3
   },
   "file_extension": ".py",
   "mimetype": "text/x-python",
   "name": "python",
   "nbconvert_exporter": "python",
   "pygments_lexer": "ipython3",
   "version": "3.7.4"
  }
 },
 "nbformat": 4,
 "nbformat_minor": 2
}
