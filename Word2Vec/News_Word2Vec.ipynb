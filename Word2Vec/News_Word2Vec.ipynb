{
 "cells": [
  {
   "cell_type": "code",
   "execution_count": 14,
   "metadata": {},
   "outputs": [],
   "source": [
    "from gensim.models import Word2Vec\n",
    "from gensim.models import KeyedVectors\n",
    "import nltk"
   ]
  },
  {
   "cell_type": "code",
   "execution_count": 2,
   "metadata": {},
   "outputs": [],
   "source": [
    "def readFile(path):\n",
    "    with open(path,'r',encoding='utf-8') as f:\n",
    "        return f.read().lower()\n",
    "text = readFile('bollywood.txt')"
   ]
  },
  {
   "cell_type": "markdown",
   "metadata": {},
   "source": [
    "## Preprocessing Data"
   ]
  },
  {
   "cell_type": "code",
   "execution_count": 3,
   "metadata": {},
   "outputs": [],
   "source": [
    "from nltk import sent_tokenize, word_tokenize\n",
    "from nltk.corpus import stopwords\n",
    "sw = set(stopwords.words('english'))\n",
    "#print(len(sw))"
   ]
  },
  {
   "cell_type": "code",
   "execution_count": 4,
   "metadata": {},
   "outputs": [],
   "source": [
    "## tokenzize sentences\n",
    "sentences = sent_tokenize(text)\n",
    "\n",
    "## word tokenize\n",
    "data = [word_tokenize(sent) for sent in sentences]\n",
    "\n",
    "for i in range(len(data)):\n",
    "    data[i]=[w for w in data[i] if w not in sw and len(w)>2]"
   ]
  },
  {
   "cell_type": "code",
   "execution_count": 5,
   "metadata": {},
   "outputs": [
    {
     "name": "stdout",
     "output_type": "stream",
     "text": [
      "[['deepika', 'padukone', 'ranveer', 'singh', 'wedding', 'one', 'biggest', 'bollywood', 'events', 'happened', '2018.', 'deepika', 'ranveer', 'celebrations', 'hooked', 'phones', 'waiting', 'come', 'also', 'gave', 'enough', 'reason', 'believe', 'stylish', 'two', 'couple'], ['airport', 'looks', 'reception', 'parties', 'everything', 'entire', 'timeline', 'deepika', 'ranveer', 'wedding', 'style', 'file'], ['ambanis', 'deepika', 'ranveer', 'priyanka', 'nick'], ['man', 'proves', 'wedding', 'year', 'year', 'year', 'big', 'fat', 'lavish', 'extravagant', 'weddings'], ['isha', 'ambani', 'anand', 'piramal', 'deepika', 'padukone', 'ranveer', 'singh', 'priyanka', 'chopra', 'nick', 'jonas', 'kapil', 'sharma', 'ginni', 'chatrath', '2018', 'saw', 'many', 'grand', 'weddings'], ['nothing', 'beats', 'man', 'wedding', 'year', 'award', 'social', 'media'], ['priyanka', 'also', 'shared', 'video', 'featuring', 'nick', 'jonaswas', 'also', 'celebrating', 'family', 'first', 'celebrated', 'christmas', 'london', 'pictures', 'priyanka', 'chopra', 'nick', 'jonas', 'new', 'year', 'celebrations', 'outstanding'], ['priyanka', 'chopra', 'nick', 'shared', 'glimpses', 'celebration', 'verbier', 'switzerland'], ['priyanka', 'chopra', 'married', 'nick', 'jonas', 'december', 'three', 'wedding', 'receptions', 'one', 'new', 'delhi', 'two', 'mumbai'], ['year', 'year', 'big', 'fat', 'lavish', 'extravagant', 'weddings'], ['isha', 'ambani', 'anand', 'piramal', 'deepika', 'padukone', 'ranveer', 'singh', 'priyanka', 'chopra', 'nick', 'jonas', 'kapil', 'sharma', 'ginni', 'chatrath', '2018', 'saw', 'many', 'grand', 'weddings'], ['nothing', 'beats', 'man', 'wedding', 'year', 'award', 'social', 'media'], ['kapil', 'sharma', 'ginni', 'chatrath', 'jaggo', 'night', 'december', 'made', 'even', 'special', 'industry', 'friends'], ['kapil', 'sharma', 'ginni', 'chatrath', 'friends', 'long', 'time'], ['virat', 'side', 'actress', 'wife', 'anushka', 'sharma', 'pleasure', 'audience'], ['couple', 'rang', 'new', 'year', 'style', 'morning', 'saw', 'virat', 'dress', 'squad', 'attire', 'anushka', 'pink', 'salwar', 'suit'], ['isha', 'ambani', 'married', 'anand', 'piramal', 'year']]\n"
     ]
    }
   ],
   "source": [
    "print(data)"
   ]
  },
  {
   "cell_type": "markdown",
   "metadata": {},
   "source": [
    "### Model fitting"
   ]
  },
  {
   "cell_type": "code",
   "execution_count": 6,
   "metadata": {},
   "outputs": [],
   "source": [
    "model=Word2Vec(data,window=10,size=300,min_count=1)"
   ]
  },
  {
   "cell_type": "code",
   "execution_count": 7,
   "metadata": {},
   "outputs": [
    {
     "data": {
      "text/plain": [
       "{'deepika': <gensim.models.keyedvectors.Vocab at 0x7f4c1f6f2350>,\n",
       " 'padukone': <gensim.models.keyedvectors.Vocab at 0x7f4c1f6f2450>,\n",
       " 'ranveer': <gensim.models.keyedvectors.Vocab at 0x7f4c1f6f2490>,\n",
       " 'singh': <gensim.models.keyedvectors.Vocab at 0x7f4c1f6f2510>,\n",
       " 'wedding': <gensim.models.keyedvectors.Vocab at 0x7f4c1f6f2250>,\n",
       " 'one': <gensim.models.keyedvectors.Vocab at 0x7f4c1f6f1d10>,\n",
       " 'biggest': <gensim.models.keyedvectors.Vocab at 0x7f4c1f6f1d50>,\n",
       " 'bollywood': <gensim.models.keyedvectors.Vocab at 0x7f4c1f6f1d90>,\n",
       " 'events': <gensim.models.keyedvectors.Vocab at 0x7f4c1f6f2090>,\n",
       " 'happened': <gensim.models.keyedvectors.Vocab at 0x7f4c1f6f1b10>,\n",
       " '2018.': <gensim.models.keyedvectors.Vocab at 0x7f4c1f6f1ed0>,\n",
       " 'celebrations': <gensim.models.keyedvectors.Vocab at 0x7f4c1f6f1f90>,\n",
       " 'hooked': <gensim.models.keyedvectors.Vocab at 0x7f4c1f6f1690>,\n",
       " 'phones': <gensim.models.keyedvectors.Vocab at 0x7f4c1f6f1750>,\n",
       " 'waiting': <gensim.models.keyedvectors.Vocab at 0x7f4c1f6f17d0>,\n",
       " 'come': <gensim.models.keyedvectors.Vocab at 0x7f4c1f6f1810>,\n",
       " 'also': <gensim.models.keyedvectors.Vocab at 0x7f4c1f6f1850>,\n",
       " 'gave': <gensim.models.keyedvectors.Vocab at 0x7f4c1f6f1890>,\n",
       " 'enough': <gensim.models.keyedvectors.Vocab at 0x7f4c1f6f1910>,\n",
       " 'reason': <gensim.models.keyedvectors.Vocab at 0x7f4c1f6f1950>,\n",
       " 'believe': <gensim.models.keyedvectors.Vocab at 0x7f4c1f6f1a10>,\n",
       " 'stylish': <gensim.models.keyedvectors.Vocab at 0x7f4c1f6f1090>,\n",
       " 'two': <gensim.models.keyedvectors.Vocab at 0x7f4c1f6f1210>,\n",
       " 'couple': <gensim.models.keyedvectors.Vocab at 0x7f4c1f6f12d0>,\n",
       " 'airport': <gensim.models.keyedvectors.Vocab at 0x7f4c1f6f1390>,\n",
       " 'looks': <gensim.models.keyedvectors.Vocab at 0x7f4c1f6f1450>,\n",
       " 'reception': <gensim.models.keyedvectors.Vocab at 0x7f4c1f6ec4d0>,\n",
       " 'parties': <gensim.models.keyedvectors.Vocab at 0x7f4c1f6ec5d0>,\n",
       " 'everything': <gensim.models.keyedvectors.Vocab at 0x7f4c1f6ec690>,\n",
       " 'entire': <gensim.models.keyedvectors.Vocab at 0x7f4c1f6ec6d0>,\n",
       " 'timeline': <gensim.models.keyedvectors.Vocab at 0x7f4c1f6ec7d0>,\n",
       " 'style': <gensim.models.keyedvectors.Vocab at 0x7f4c1f6ec850>,\n",
       " 'file': <gensim.models.keyedvectors.Vocab at 0x7f4c1f6ec8d0>,\n",
       " 'ambanis': <gensim.models.keyedvectors.Vocab at 0x7f4c1f6ec950>,\n",
       " 'priyanka': <gensim.models.keyedvectors.Vocab at 0x7f4c1f6eca10>,\n",
       " 'nick': <gensim.models.keyedvectors.Vocab at 0x7f4c1f6eca50>,\n",
       " 'man': <gensim.models.keyedvectors.Vocab at 0x7f4c1f6eca90>,\n",
       " 'proves': <gensim.models.keyedvectors.Vocab at 0x7f4c1f6ecad0>,\n",
       " 'year': <gensim.models.keyedvectors.Vocab at 0x7f4c1f6ecb10>,\n",
       " 'big': <gensim.models.keyedvectors.Vocab at 0x7f4c1f6ecb50>,\n",
       " 'fat': <gensim.models.keyedvectors.Vocab at 0x7f4c1f6ecbd0>,\n",
       " 'lavish': <gensim.models.keyedvectors.Vocab at 0x7f4c1f6ecc10>,\n",
       " 'extravagant': <gensim.models.keyedvectors.Vocab at 0x7f4c1f6ecc50>,\n",
       " 'weddings': <gensim.models.keyedvectors.Vocab at 0x7f4c1f6ecd10>,\n",
       " 'isha': <gensim.models.keyedvectors.Vocab at 0x7f4c1f6ecd50>,\n",
       " 'ambani': <gensim.models.keyedvectors.Vocab at 0x7f4c1f6ecd90>,\n",
       " 'anand': <gensim.models.keyedvectors.Vocab at 0x7f4c1f6ece10>,\n",
       " 'piramal': <gensim.models.keyedvectors.Vocab at 0x7f4c1f6ecf10>,\n",
       " 'chopra': <gensim.models.keyedvectors.Vocab at 0x7f4c1f6ecf50>,\n",
       " 'jonas': <gensim.models.keyedvectors.Vocab at 0x7f4c1f6ecfd0>,\n",
       " 'kapil': <gensim.models.keyedvectors.Vocab at 0x7f4c1f6edf10>,\n",
       " 'sharma': <gensim.models.keyedvectors.Vocab at 0x7f4c1f6edf90>,\n",
       " 'ginni': <gensim.models.keyedvectors.Vocab at 0x7f4c1f6edf50>,\n",
       " 'chatrath': <gensim.models.keyedvectors.Vocab at 0x7f4c1f6eda50>,\n",
       " '2018': <gensim.models.keyedvectors.Vocab at 0x7f4c1f6eda90>,\n",
       " 'saw': <gensim.models.keyedvectors.Vocab at 0x7f4c1f6edb10>,\n",
       " 'many': <gensim.models.keyedvectors.Vocab at 0x7f4c1f6edb50>,\n",
       " 'grand': <gensim.models.keyedvectors.Vocab at 0x7f4c1f6edbd0>,\n",
       " 'nothing': <gensim.models.keyedvectors.Vocab at 0x7f4c1f6edc50>,\n",
       " 'beats': <gensim.models.keyedvectors.Vocab at 0x7f4c1f6edc90>,\n",
       " 'award': <gensim.models.keyedvectors.Vocab at 0x7f4c1f6edd10>,\n",
       " 'social': <gensim.models.keyedvectors.Vocab at 0x7f4c1f6ede10>,\n",
       " 'media': <gensim.models.keyedvectors.Vocab at 0x7f4c1f6ed810>,\n",
       " 'shared': <gensim.models.keyedvectors.Vocab at 0x7f4c1f6ed910>,\n",
       " 'video': <gensim.models.keyedvectors.Vocab at 0x7f4c1f6ed350>,\n",
       " 'featuring': <gensim.models.keyedvectors.Vocab at 0x7f4c1f6ed410>,\n",
       " 'jonaswas': <gensim.models.keyedvectors.Vocab at 0x7f4c1f6ed490>,\n",
       " 'celebrating': <gensim.models.keyedvectors.Vocab at 0x7f4c1f6ed4d0>,\n",
       " 'family': <gensim.models.keyedvectors.Vocab at 0x7f4c1f6ed510>,\n",
       " 'first': <gensim.models.keyedvectors.Vocab at 0x7f4c1f6ed550>,\n",
       " 'celebrated': <gensim.models.keyedvectors.Vocab at 0x7f4c1f6ed610>,\n",
       " 'christmas': <gensim.models.keyedvectors.Vocab at 0x7f4c1f6ed690>,\n",
       " 'london': <gensim.models.keyedvectors.Vocab at 0x7f4c1f6ed710>,\n",
       " 'pictures': <gensim.models.keyedvectors.Vocab at 0x7f4c1f6ed090>,\n",
       " 'new': <gensim.models.keyedvectors.Vocab at 0x7f4c1f6ed0d0>,\n",
       " 'outstanding': <gensim.models.keyedvectors.Vocab at 0x7f4c1f6ed150>,\n",
       " 'glimpses': <gensim.models.keyedvectors.Vocab at 0x7f4c1f6ed1d0>,\n",
       " 'celebration': <gensim.models.keyedvectors.Vocab at 0x7f4c1f6ed210>,\n",
       " 'verbier': <gensim.models.keyedvectors.Vocab at 0x7f4c1f6e8710>,\n",
       " 'switzerland': <gensim.models.keyedvectors.Vocab at 0x7f4c1f6ead10>,\n",
       " 'married': <gensim.models.keyedvectors.Vocab at 0x7f4c1f6eac10>,\n",
       " 'december': <gensim.models.keyedvectors.Vocab at 0x7f4c1f827190>,\n",
       " 'three': <gensim.models.keyedvectors.Vocab at 0x7f4c1f6f4d50>,\n",
       " 'receptions': <gensim.models.keyedvectors.Vocab at 0x7f4c1f6f4f10>,\n",
       " 'delhi': <gensim.models.keyedvectors.Vocab at 0x7f4c1f6f4e50>,\n",
       " 'mumbai': <gensim.models.keyedvectors.Vocab at 0x7f4c1f6f4690>,\n",
       " 'jaggo': <gensim.models.keyedvectors.Vocab at 0x7f4c1f6f4190>,\n",
       " 'night': <gensim.models.keyedvectors.Vocab at 0x7f4c1f6f4790>,\n",
       " 'made': <gensim.models.keyedvectors.Vocab at 0x7f4c1f6f47d0>,\n",
       " 'even': <gensim.models.keyedvectors.Vocab at 0x7f4c1f6f4890>,\n",
       " 'special': <gensim.models.keyedvectors.Vocab at 0x7f4c1f6f4910>,\n",
       " 'industry': <gensim.models.keyedvectors.Vocab at 0x7f4c1f6f4a50>,\n",
       " 'friends': <gensim.models.keyedvectors.Vocab at 0x7f4c1f6f4a90>,\n",
       " 'long': <gensim.models.keyedvectors.Vocab at 0x7f4c1f6f4ad0>,\n",
       " 'time': <gensim.models.keyedvectors.Vocab at 0x7f4c1f6f4b90>,\n",
       " 'virat': <gensim.models.keyedvectors.Vocab at 0x7f4c1f6f4c10>,\n",
       " 'side': <gensim.models.keyedvectors.Vocab at 0x7f4c1f6f4250>,\n",
       " 'actress': <gensim.models.keyedvectors.Vocab at 0x7f4c1f6f4210>,\n",
       " 'wife': <gensim.models.keyedvectors.Vocab at 0x7f4c1f6f4290>,\n",
       " 'anushka': <gensim.models.keyedvectors.Vocab at 0x7f4c1f6f43d0>,\n",
       " 'pleasure': <gensim.models.keyedvectors.Vocab at 0x7f4c1f6f4410>,\n",
       " 'audience': <gensim.models.keyedvectors.Vocab at 0x7f4c1f6f4450>,\n",
       " 'rang': <gensim.models.keyedvectors.Vocab at 0x7f4c1f6f44d0>,\n",
       " 'morning': <gensim.models.keyedvectors.Vocab at 0x7f4c1f6f4510>,\n",
       " 'dress': <gensim.models.keyedvectors.Vocab at 0x7f4c1f6f4550>,\n",
       " 'squad': <gensim.models.keyedvectors.Vocab at 0x7f4c1f6f45d0>,\n",
       " 'attire': <gensim.models.keyedvectors.Vocab at 0x7f4c1f6f4610>,\n",
       " 'pink': <gensim.models.keyedvectors.Vocab at 0x7f4c1f6f4650>,\n",
       " 'salwar': <gensim.models.keyedvectors.Vocab at 0x7f4c1f6f4090>,\n",
       " 'suit': <gensim.models.keyedvectors.Vocab at 0x7f4c1f6f4f50>}"
      ]
     },
     "execution_count": 7,
     "metadata": {},
     "output_type": "execute_result"
    }
   ],
   "source": [
    "model.wv.vocab"
   ]
  },
  {
   "cell_type": "code",
   "execution_count": 8,
   "metadata": {},
   "outputs": [
    {
     "data": {
      "text/plain": [
       "[('gave', 0.14813387393951416),\n",
       " ('pink', 0.13625593483448029),\n",
       " ('nothing', 0.11375275254249573),\n",
       " ('biggest', 0.10445012152194977),\n",
       " ('one', 0.10273955762386322)]"
      ]
     },
     "execution_count": 8,
     "metadata": {},
     "output_type": "execute_result"
    }
   ],
   "source": [
    "model.wv.most_similar(positive=['ranveer'],topn=5)"
   ]
  },
  {
   "cell_type": "code",
   "execution_count": 9,
   "metadata": {},
   "outputs": [
    {
     "data": {
      "text/plain": [
       "array([-8.12310667e-04,  7.82231684e-04, -1.43088924e-03,  4.78402762e-05,\n",
       "       -4.84022632e-04, -8.77525948e-04,  8.96761718e-04, -8.43661430e-04,\n",
       "        6.88471890e-04,  6.96541450e-04, -1.06374931e-03,  3.86825355e-04,\n",
       "       -1.43368705e-03,  1.02044211e-03, -1.00134930e-03,  6.62262901e-04,\n",
       "        1.65235065e-03, -1.70519721e-04,  1.32994901e-03,  2.55778374e-04,\n",
       "       -1.14946300e-03,  4.82315634e-04,  1.81993208e-04,  1.04468796e-04,\n",
       "       -5.01475297e-04, -1.39339338e-03, -1.16379815e-03,  3.94264789e-04,\n",
       "        1.01102889e-03,  7.53835368e-04, -2.21742594e-04, -2.59849709e-04,\n",
       "        1.30138337e-03,  1.04881614e-03,  1.84030705e-05,  1.30017207e-03,\n",
       "       -1.62545976e-03, -1.40053814e-03, -3.44083848e-04, -1.28416275e-03,\n",
       "       -1.80258779e-04,  5.94195953e-05, -1.59642729e-03,  1.18005660e-03,\n",
       "        1.08751131e-03, -1.33009044e-05, -4.72075335e-04,  1.03194301e-03,\n",
       "        1.50428317e-03,  1.11021509e-03,  1.49750500e-04, -1.36088382e-03,\n",
       "       -7.97121553e-04,  8.50072189e-04, -1.48474635e-03,  2.78195424e-04,\n",
       "       -1.35833179e-04,  2.47399894e-05,  3.32124357e-04,  1.05205877e-03,\n",
       "        1.45071733e-03,  1.27701112e-03, -1.62014307e-03,  1.51734659e-03,\n",
       "       -3.94297385e-04, -1.53009227e-04,  5.94234851e-04, -1.52520754e-03,\n",
       "        7.26578641e-04,  1.43168657e-03, -1.04269281e-03,  4.48079052e-04,\n",
       "        8.00768263e-04,  1.44558516e-03, -1.24295976e-03,  6.19020604e-04,\n",
       "        7.35720329e-04, -1.25423016e-04,  5.52812824e-04,  1.39207928e-03,\n",
       "        1.78173854e-04,  3.68949200e-04, -1.06376014e-03, -8.32231948e-04,\n",
       "       -3.23451270e-04, -8.53889869e-05, -1.21806003e-03, -9.01589636e-04,\n",
       "       -1.29527040e-03,  4.91708925e-05, -8.37147876e-04, -3.22286680e-04,\n",
       "       -1.65985734e-03,  1.33659400e-03, -7.71169842e-04,  1.11798733e-03,\n",
       "       -5.33161103e-04, -9.70166235e-04, -1.28082163e-03, -1.37147051e-03,\n",
       "        6.10834628e-04, -1.15564128e-03,  1.36908831e-03,  4.49252228e-04,\n",
       "       -1.67024008e-03,  1.66607916e-03, -7.62966811e-04, -1.16906676e-03,\n",
       "        9.77936783e-04,  1.12351659e-03,  1.44029339e-03,  5.85694565e-04,\n",
       "       -8.09250196e-06, -8.14577506e-04, -1.17581501e-03, -1.04348909e-03,\n",
       "        1.88565173e-04, -6.39629259e-04, -1.24744687e-03,  7.65585399e-04,\n",
       "       -1.38045766e-03,  1.33658363e-03,  1.63367239e-03,  1.39960169e-03,\n",
       "       -1.16076932e-04,  1.00431580e-03,  1.44366245e-03, -1.91777333e-04,\n",
       "       -5.70112024e-04, -9.69743473e-04, -2.02736541e-04, -1.58145919e-03,\n",
       "        9.02957981e-04, -1.60706567e-03,  3.98222473e-05,  1.58182066e-03,\n",
       "       -1.17835391e-03, -1.20340951e-03, -1.00337085e-03,  7.63731543e-04,\n",
       "        7.34674919e-04,  7.49443367e-04,  3.13599419e-04, -7.54959707e-04,\n",
       "       -1.02608744e-03, -9.50550602e-04,  1.50449213e-03,  9.18894773e-04,\n",
       "       -8.87083996e-04, -4.38245886e-04,  1.61475991e-03,  1.44296745e-03,\n",
       "       -1.24191679e-03,  1.17552839e-03, -1.64036895e-03, -1.43314910e-03,\n",
       "        1.30289467e-03, -4.98650152e-05,  1.26265455e-03,  1.36801752e-03,\n",
       "        5.73560421e-04, -8.09366116e-04, -1.56213308e-03, -1.61521486e-03,\n",
       "        8.61698238e-04, -1.16179825e-03,  1.09009887e-03, -1.12492335e-03,\n",
       "        1.35563640e-03,  1.29878800e-03, -2.88085575e-04, -6.67636457e-04,\n",
       "       -3.87775595e-04,  1.26833073e-03,  1.42532657e-03,  8.48498603e-04,\n",
       "       -1.22681039e-03,  1.08852074e-03, -1.38349377e-03,  8.81240587e-04,\n",
       "        8.29967496e-04,  1.08788745e-03,  1.05070136e-03,  6.28368347e-04,\n",
       "        9.32056864e-04,  1.21336407e-03,  1.32156943e-03, -1.24206138e-03,\n",
       "       -1.39284326e-04, -9.19355778e-04,  1.49436505e-03, -9.86178638e-04,\n",
       "        5.73891215e-04, -9.57073411e-04,  2.10772778e-04,  1.07832672e-03,\n",
       "        4.65879828e-04,  1.27522252e-03,  1.24108908e-03, -4.15433344e-04,\n",
       "       -4.74973116e-04,  5.48706797e-04,  1.07086220e-04, -1.33157871e-03,\n",
       "       -3.24089080e-04,  8.66911723e-04, -4.63929726e-04,  5.05741860e-04,\n",
       "       -1.41982816e-03, -3.84074141e-04,  4.88763217e-05,  5.81822474e-04,\n",
       "       -1.56740332e-03,  1.82741074e-04,  4.89949947e-04, -9.87302046e-04,\n",
       "        3.59806261e-04, -1.02304725e-03, -1.37403095e-03, -8.38849402e-04,\n",
       "       -1.06288085e-03, -1.28609594e-03,  1.50957459e-03, -1.47428364e-03,\n",
       "        5.47055097e-04, -1.01565383e-03,  9.69201268e-04, -7.44327088e-04,\n",
       "        5.56334970e-04,  1.34339614e-03,  1.21446478e-03,  1.58372306e-04,\n",
       "       -7.92332517e-04,  1.35610125e-03, -1.02779991e-03,  1.49263721e-03,\n",
       "       -1.10824069e-04, -2.73116020e-04,  2.32043385e-04,  1.40400219e-03,\n",
       "       -1.60668872e-03,  1.45205064e-03,  2.69128825e-04, -4.56639013e-04,\n",
       "       -1.31970388e-03, -2.86842056e-04, -1.03006419e-03, -1.57928647e-04,\n",
       "       -8.02944007e-04, -1.57594355e-03,  7.67475940e-05,  1.36175333e-03,\n",
       "        1.30502100e-03,  1.11601409e-03,  3.72750801e-04, -3.12123477e-04,\n",
       "        1.42145669e-03, -1.28803356e-03,  1.51355180e-03, -2.20385758e-04,\n",
       "        1.03901769e-03,  1.15115014e-04, -6.15244498e-04, -1.62357953e-03,\n",
       "       -3.28827562e-04,  9.92925954e-04, -1.52906892e-03,  6.72993046e-05,\n",
       "       -1.35232962e-03,  1.27735373e-03,  1.70480896e-04, -1.65836839e-03,\n",
       "       -1.25065900e-03,  1.40118797e-03,  1.66907208e-03, -4.03315964e-04,\n",
       "       -3.66452296e-04, -9.57340933e-04,  3.53188079e-04,  1.65639643e-03,\n",
       "        1.36030430e-03,  7.19922187e-04,  1.45918480e-03, -1.31158356e-03,\n",
       "       -3.87286273e-04,  1.49647926e-03,  1.12430961e-03,  1.29596551e-03,\n",
       "        8.68889736e-04,  8.08775891e-04,  3.37558042e-04,  9.28281981e-04,\n",
       "       -5.02665818e-04,  1.23487948e-03,  1.61966728e-03, -1.50805525e-03,\n",
       "        2.50884295e-05,  1.08396448e-03, -7.79524213e-04, -7.89784361e-04],\n",
       "      dtype=float32)"
      ]
     },
     "execution_count": 9,
     "metadata": {},
     "output_type": "execute_result"
    }
   ],
   "source": [
    "model.wv['ranveer']"
   ]
  },
  {
   "cell_type": "code",
   "execution_count": 10,
   "metadata": {},
   "outputs": [],
   "source": [
    "from sklearn.metrics.pairwise import cosine_similarity"
   ]
  },
  {
   "cell_type": "code",
   "execution_count": 11,
   "metadata": {},
   "outputs": [
    {
     "data": {
      "text/plain": [
       "array([[0.00750983]], dtype=float32)"
      ]
     },
     "execution_count": 11,
     "metadata": {},
     "output_type": "execute_result"
    }
   ],
   "source": [
    "cosine_similarity([model.wv['ranveer']],[model.wv['singh']])"
   ]
  },
  {
   "cell_type": "code",
   "execution_count": 12,
   "metadata": {},
   "outputs": [],
   "source": [
    "def predict_word(a,b,c,word_vectors):\n",
    "    \n",
    "    a,b,c = a.lower(),b.lower(),c.lower()\n",
    "    \n",
    "    max_similarity = -100 \n",
    "    \n",
    "    d = None\n",
    "    \n",
    "    words = [\"ranveer\",\"deepika\",\"padukone\",\"singh\",\"nick\",\"jonas\",\"chopra\",\"priyanka\",\"virat\",\"anushka\",\"kapil\",\"ginni\"]\n",
    "    \n",
    "    wa,wb,wc = word_vectors[a],word_vectors[b],word_vectors[c]\n",
    "    \n",
    "    #to find d s.t similarity(|b-a|,|d-c|) should be max\n",
    "    \n",
    "    for w in words:\n",
    "        if w in [a,b,c]:\n",
    "            continue\n",
    "        \n",
    "        wv = word_vectors[w]\n",
    "        sim = cosine_similarity([wb-wa],[wv-wc])\n",
    "        \n",
    "        if sim > max_similarity:\n",
    "            max_similarity = sim\n",
    "            d = w\n",
    "            \n",
    "    return d"
   ]
  },
  {
   "cell_type": "code",
   "execution_count": 233,
   "metadata": {},
   "outputs": [
    {
     "data": {
      "text/plain": [
       "'padukone'"
      ]
     },
     "execution_count": 233,
     "metadata": {},
     "output_type": "execute_result"
    }
   ],
   "source": [
    "predict_word(\"priyanka\",\"jonas\",\"nick\",model.wv)"
   ]
  },
  {
   "cell_type": "code",
   "execution_count": 223,
   "metadata": {},
   "outputs": [],
   "source": [
    "model.wv.save_word2vec_format('bollywood.bin')"
   ]
  },
  {
   "cell_type": "code",
   "execution_count": 20,
   "metadata": {},
   "outputs": [],
   "source": [
    "m1=KeyedVectors.load_word2vec_format('/home/joshi_anurag/Desktop/CodingBlocksAssignments/Word2Vec Challenge/googlenewsvectorsnegative300/GoogleNews-vectors-negative300.bin',binary=True)"
   ]
  },
  {
   "cell_type": "code",
   "execution_count": null,
   "metadata": {},
   "outputs": [
    {
     "name": "stderr",
     "output_type": "stream",
     "text": [
      "/home/joshi_anurag/anaconda3/lib/python3.7/site-packages/ipykernel_launcher.py:1: DeprecationWarning: Call to deprecated `wv` (Attribute will be removed in 4.0.0, use self instead).\n",
      "  \"\"\"Entry point for launching an IPython kernel.\n"
     ]
    }
   ],
   "source": [
    "m1.wv.most_similar(positive=['car'],topn=10)"
   ]
  },
  {
   "cell_type": "code",
   "execution_count": null,
   "metadata": {},
   "outputs": [],
   "source": []
  }
 ],
 "metadata": {
  "kernelspec": {
   "display_name": "Python 3",
   "language": "python",
   "name": "python3"
  },
  "language_info": {
   "codemirror_mode": {
    "name": "ipython",
    "version": 3
   },
   "file_extension": ".py",
   "mimetype": "text/x-python",
   "name": "python",
   "nbconvert_exporter": "python",
   "pygments_lexer": "ipython3",
   "version": "3.7.4"
  }
 },
 "nbformat": 4,
 "nbformat_minor": 2
}
