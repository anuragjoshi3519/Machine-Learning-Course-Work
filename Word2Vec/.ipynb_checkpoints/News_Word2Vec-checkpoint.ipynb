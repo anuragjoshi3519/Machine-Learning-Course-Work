{
 "cells": [
  {
   "cell_type": "code",
   "execution_count": 34,
   "metadata": {},
   "outputs": [],
   "source": [
    "from gensim.models import Word2Vec\n",
    "from gensim.models import keyedvectors\n",
    "import nltk"
   ]
  },
  {
   "cell_type": "code",
   "execution_count": 224,
   "metadata": {},
   "outputs": [],
   "source": [
    "def readFile(path):\n",
    "    with open(path,'r',encoding='utf-8') as f:\n",
    "        return f.read().lower()\n",
    "text = readFile('bollywood.txt')"
   ]
  },
  {
   "cell_type": "markdown",
   "metadata": {},
   "source": [
    "## Preprocessing Data"
   ]
  },
  {
   "cell_type": "code",
   "execution_count": 225,
   "metadata": {},
   "outputs": [],
   "source": [
    "from nltk import sent_tokenize, word_tokenize\n",
    "from nltk.corpus import stopwords\n",
    "sw = set(stopwords.words('english'))\n",
    "#print(len(sw))"
   ]
  },
  {
   "cell_type": "code",
   "execution_count": 226,
   "metadata": {},
   "outputs": [],
   "source": [
    "## tokenzize sentences\n",
    "sentences = sent_tokenize(text)\n",
    "\n",
    "## word tokenize\n",
    "data = [word_tokenize(sent) for sent in sentences]\n",
    "\n",
    "for i in range(len(data)):\n",
    "    data[i]=[w for w in data[i] if w not in sw and len(w)>2]"
   ]
  },
  {
   "cell_type": "code",
   "execution_count": 227,
   "metadata": {},
   "outputs": [
    {
     "name": "stdout",
     "output_type": "stream",
     "text": [
      "[['deepika', 'padukone', 'ranveer', 'singh', 'wedding', 'one', 'biggest', 'bollywood', 'events', 'happened', '2018.', 'deepika', 'ranveer', 'celebrations', 'hooked', 'phones', 'waiting', 'come', 'also', 'gave', 'enough', 'reason', 'believe', 'stylish', 'two', 'couple'], ['airport', 'looks', 'reception', 'parties', 'everything', 'entire', 'timeline', 'deepika', 'ranveer', 'wedding', 'style', 'file'], ['ambanis', 'deepika', 'ranveer', 'priyanka', 'nick'], ['man', 'proves', 'wedding', 'year', 'year', 'year', 'big', 'fat', 'lavish', 'extravagant', 'weddings'], ['isha', 'ambani', 'anand', 'piramal', 'deepika', 'padukone', 'ranveer', 'singh', 'priyanka', 'chopra', 'nick', 'jonas', 'kapil', 'sharma', 'ginni', 'chatrath', '2018', 'saw', 'many', 'grand', 'weddings'], ['nothing', 'beats', 'man', 'wedding', 'year', 'award', 'social', 'media'], ['priyanka', 'also', 'shared', 'video', 'featuring', 'nick', 'jonaswas', 'also', 'celebrating', 'family', 'first', 'celebrated', 'christmas', 'london', 'pictures', 'priyanka', 'chopra', 'nick', 'jonas', 'new', 'year', 'celebrations', 'outstanding'], ['priyanka', 'chopra', 'nick', 'shared', 'glimpses', 'celebration', 'verbier', 'switzerland'], ['priyanka', 'chopra', 'married', 'nick', 'jonas', 'december', 'three', 'wedding', 'receptions', 'one', 'new', 'delhi', 'two', 'mumbai'], ['year', 'year', 'big', 'fat', 'lavish', 'extravagant', 'weddings'], ['isha', 'ambani', 'anand', 'piramal', 'deepika', 'padukone', 'ranveer', 'singh', 'priyanka', 'chopra', 'nick', 'jonas', 'kapil', 'sharma', 'ginni', 'chatrath', '2018', 'saw', 'many', 'grand', 'weddings'], ['nothing', 'beats', 'man', 'wedding', 'year', 'award', 'social', 'media'], ['kapil', 'sharma', 'ginni', 'chatrath', 'jaggo', 'night', 'december', 'made', 'even', 'special', 'industry', 'friends'], ['kapil', 'sharma', 'ginni', 'chatrath', 'friends', 'long', 'time'], ['virat', 'side', 'actress', 'wife', 'anushka', 'sharma', 'pleasure', 'audience'], ['couple', 'rang', 'new', 'year', 'style', 'morning', 'saw', 'virat', 'dress', 'squad', 'attire', 'anushka', 'pink', 'salwar', 'suit'], ['isha', 'ambani', 'married', 'anand', 'piramal', 'year']]\n"
     ]
    }
   ],
   "source": [
    "print(data)"
   ]
  },
  {
   "cell_type": "markdown",
   "metadata": {},
   "source": [
    "### Model fitting"
   ]
  },
  {
   "cell_type": "code",
   "execution_count": 228,
   "metadata": {},
   "outputs": [],
   "source": [
    "model=Word2Vec(data,window=10,size=300,min_count=1)"
   ]
  },
  {
   "cell_type": "code",
   "execution_count": 192,
   "metadata": {
    "collapsed": true
   },
   "outputs": [
    {
     "data": {
      "text/plain": [
       "{'deepika': <gensim.models.keyedvectors.Vocab at 0x7fd697b97e50>,\n",
       " 'padukone': <gensim.models.keyedvectors.Vocab at 0x7fd697b97f10>,\n",
       " 'ranveer': <gensim.models.keyedvectors.Vocab at 0x7fd697b97f50>,\n",
       " 'singh': <gensim.models.keyedvectors.Vocab at 0x7fd697b97290>,\n",
       " 'wedding': <gensim.models.keyedvectors.Vocab at 0x7fd697b97210>,\n",
       " 'one': <gensim.models.keyedvectors.Vocab at 0x7fd697b979d0>,\n",
       " 'biggest': <gensim.models.keyedvectors.Vocab at 0x7fd697b97e90>,\n",
       " 'bollywood': <gensim.models.keyedvectors.Vocab at 0x7fd697b97c50>,\n",
       " 'events': <gensim.models.keyedvectors.Vocab at 0x7fd697b972d0>,\n",
       " 'happened': <gensim.models.keyedvectors.Vocab at 0x7fd697b97490>,\n",
       " '2018.': <gensim.models.keyedvectors.Vocab at 0x7fd697b97f90>,\n",
       " 'celebrations': <gensim.models.keyedvectors.Vocab at 0x7fd697b97790>,\n",
       " 'hooked': <gensim.models.keyedvectors.Vocab at 0x7fd697b97650>,\n",
       " 'phones': <gensim.models.keyedvectors.Vocab at 0x7fd697b97990>,\n",
       " 'waiting': <gensim.models.keyedvectors.Vocab at 0x7fd697b97690>,\n",
       " 'come': <gensim.models.keyedvectors.Vocab at 0x7fd697b97710>,\n",
       " 'also': <gensim.models.keyedvectors.Vocab at 0x7fd697b97310>,\n",
       " 'gave': <gensim.models.keyedvectors.Vocab at 0x7fd697b97050>,\n",
       " 'enough': <gensim.models.keyedvectors.Vocab at 0x7fd697b970d0>,\n",
       " 'reason': <gensim.models.keyedvectors.Vocab at 0x7fd697b97590>,\n",
       " 'believe': <gensim.models.keyedvectors.Vocab at 0x7fd697b97dd0>,\n",
       " 'stylish': <gensim.models.keyedvectors.Vocab at 0x7fd697bbae90>,\n",
       " 'two': <gensim.models.keyedvectors.Vocab at 0x7fd697bbafd0>,\n",
       " 'couple': <gensim.models.keyedvectors.Vocab at 0x7fd697bbaa50>,\n",
       " 'airport': <gensim.models.keyedvectors.Vocab at 0x7fd697bba190>,\n",
       " 'looks': <gensim.models.keyedvectors.Vocab at 0x7fd697bba790>,\n",
       " 'reception': <gensim.models.keyedvectors.Vocab at 0x7fd697bba890>,\n",
       " 'parties': <gensim.models.keyedvectors.Vocab at 0x7fd697bba1d0>,\n",
       " 'everything': <gensim.models.keyedvectors.Vocab at 0x7fd697bba4d0>,\n",
       " 'entire': <gensim.models.keyedvectors.Vocab at 0x7fd697bba490>,\n",
       " 'timeline': <gensim.models.keyedvectors.Vocab at 0x7fd697bba3d0>,\n",
       " 'style': <gensim.models.keyedvectors.Vocab at 0x7fd697bbadd0>,\n",
       " 'file': <gensim.models.keyedvectors.Vocab at 0x7fd697bbad50>,\n",
       " 'ambanis': <gensim.models.keyedvectors.Vocab at 0x7fd697bbab90>,\n",
       " 'priyanka': <gensim.models.keyedvectors.Vocab at 0x7fd697bba390>,\n",
       " 'nick': <gensim.models.keyedvectors.Vocab at 0x7fd697bbac50>,\n",
       " 'man': <gensim.models.keyedvectors.Vocab at 0x7fd697bbad10>,\n",
       " 'proves': <gensim.models.keyedvectors.Vocab at 0x7fd697bba590>,\n",
       " 'year': <gensim.models.keyedvectors.Vocab at 0x7fd697bba350>,\n",
       " 'big': <gensim.models.keyedvectors.Vocab at 0x7fd697bbaed0>,\n",
       " 'fat': <gensim.models.keyedvectors.Vocab at 0x7fd697bba090>,\n",
       " 'lavish': <gensim.models.keyedvectors.Vocab at 0x7fd697bba210>,\n",
       " 'extravagant': <gensim.models.keyedvectors.Vocab at 0x7fd697f165d0>,\n",
       " 'weddings': <gensim.models.keyedvectors.Vocab at 0x7fd697f16710>,\n",
       " 'isha': <gensim.models.keyedvectors.Vocab at 0x7fd697f164d0>,\n",
       " 'ambani': <gensim.models.keyedvectors.Vocab at 0x7fd697f16150>,\n",
       " 'anand': <gensim.models.keyedvectors.Vocab at 0x7fd697f16210>,\n",
       " 'piramal': <gensim.models.keyedvectors.Vocab at 0x7fd697f16050>,\n",
       " 'chopra': <gensim.models.keyedvectors.Vocab at 0x7fd697f16fd0>,\n",
       " 'jonas': <gensim.models.keyedvectors.Vocab at 0x7fd697f16d50>,\n",
       " 'kapil': <gensim.models.keyedvectors.Vocab at 0x7fd697f16ad0>,\n",
       " 'sharma': <gensim.models.keyedvectors.Vocab at 0x7fd697f16890>,\n",
       " 'ginni': <gensim.models.keyedvectors.Vocab at 0x7fd697f16a90>,\n",
       " 'chatrath': <gensim.models.keyedvectors.Vocab at 0x7fd697f16d10>,\n",
       " '2018': <gensim.models.keyedvectors.Vocab at 0x7fd697f16b50>,\n",
       " 'saw': <gensim.models.keyedvectors.Vocab at 0x7fd697f16550>,\n",
       " 'many': <gensim.models.keyedvectors.Vocab at 0x7fd697f16390>,\n",
       " 'grand': <gensim.models.keyedvectors.Vocab at 0x7fd697f16850>,\n",
       " 'nothing': <gensim.models.keyedvectors.Vocab at 0x7fd697f16f90>,\n",
       " 'beats': <gensim.models.keyedvectors.Vocab at 0x7fd697f16290>,\n",
       " 'award': <gensim.models.keyedvectors.Vocab at 0x7fd697f16ed0>,\n",
       " 'social': <gensim.models.keyedvectors.Vocab at 0x7fd697f16f50>,\n",
       " 'media': <gensim.models.keyedvectors.Vocab at 0x7fd697f16cd0>,\n",
       " 'shared': <gensim.models.keyedvectors.Vocab at 0x7fd697f16090>,\n",
       " 'video': <gensim.models.keyedvectors.Vocab at 0x7fd697f16490>,\n",
       " 'featuring': <gensim.models.keyedvectors.Vocab at 0x7fd697f16410>,\n",
       " 'jonaswas': <gensim.models.keyedvectors.Vocab at 0x7fd697f2d290>,\n",
       " 'celebrating': <gensim.models.keyedvectors.Vocab at 0x7fd697f2d610>,\n",
       " 'family': <gensim.models.keyedvectors.Vocab at 0x7fd697f2d950>,\n",
       " 'first': <gensim.models.keyedvectors.Vocab at 0x7fd697ebeb10>,\n",
       " 'celebrated': <gensim.models.keyedvectors.Vocab at 0x7fd697f2bdd0>,\n",
       " 'christmas': <gensim.models.keyedvectors.Vocab at 0x7fd697f2b790>,\n",
       " 'london': <gensim.models.keyedvectors.Vocab at 0x7fd697f2b1d0>,\n",
       " 'pictures': <gensim.models.keyedvectors.Vocab at 0x7fd697f2be90>,\n",
       " 'new': <gensim.models.keyedvectors.Vocab at 0x7fd697f2b450>,\n",
       " 'outstanding': <gensim.models.keyedvectors.Vocab at 0x7fd697f2bd90>,\n",
       " 'glimpses': <gensim.models.keyedvectors.Vocab at 0x7fd697f36150>,\n",
       " 'celebration': <gensim.models.keyedvectors.Vocab at 0x7fd697f36890>,\n",
       " 'verbier': <gensim.models.keyedvectors.Vocab at 0x7fd697f36950>,\n",
       " 'switzerland': <gensim.models.keyedvectors.Vocab at 0x7fd697f36450>,\n",
       " 'married': <gensim.models.keyedvectors.Vocab at 0x7fd697f36410>,\n",
       " 'december': <gensim.models.keyedvectors.Vocab at 0x7fd697f364d0>,\n",
       " 'three': <gensim.models.keyedvectors.Vocab at 0x7fd697f36f50>,\n",
       " 'receptions': <gensim.models.keyedvectors.Vocab at 0x7fd697f366d0>,\n",
       " 'delhi': <gensim.models.keyedvectors.Vocab at 0x7fd697f36d10>,\n",
       " 'mumbai': <gensim.models.keyedvectors.Vocab at 0x7fd697f36550>,\n",
       " 'jaggo': <gensim.models.keyedvectors.Vocab at 0x7fd697f36290>,\n",
       " 'night': <gensim.models.keyedvectors.Vocab at 0x7fd697f36050>,\n",
       " 'made': <gensim.models.keyedvectors.Vocab at 0x7fd697f36d90>,\n",
       " 'even': <gensim.models.keyedvectors.Vocab at 0x7fd697f36a50>,\n",
       " 'special': <gensim.models.keyedvectors.Vocab at 0x7fd697f37990>,\n",
       " 'industry': <gensim.models.keyedvectors.Vocab at 0x7fd697f37710>,\n",
       " 'friends': <gensim.models.keyedvectors.Vocab at 0x7fd697f37f10>,\n",
       " 'long': <gensim.models.keyedvectors.Vocab at 0x7fd697f37bd0>,\n",
       " 'time': <gensim.models.keyedvectors.Vocab at 0x7fd697f37a90>,\n",
       " 'virat': <gensim.models.keyedvectors.Vocab at 0x7fd697f37090>,\n",
       " 'side': <gensim.models.keyedvectors.Vocab at 0x7fd697f37810>,\n",
       " 'actress': <gensim.models.keyedvectors.Vocab at 0x7fd697e38910>,\n",
       " 'wife': <gensim.models.keyedvectors.Vocab at 0x7fd697e38f90>,\n",
       " 'anushka': <gensim.models.keyedvectors.Vocab at 0x7fd697e38a90>,\n",
       " 'pleasure': <gensim.models.keyedvectors.Vocab at 0x7fd697e38310>,\n",
       " 'audience': <gensim.models.keyedvectors.Vocab at 0x7fd697e38950>,\n",
       " 'rang': <gensim.models.keyedvectors.Vocab at 0x7fd697e38cd0>,\n",
       " 'morning': <gensim.models.keyedvectors.Vocab at 0x7fd697e38690>,\n",
       " 'dress': <gensim.models.keyedvectors.Vocab at 0x7fd697e38110>,\n",
       " 'squad': <gensim.models.keyedvectors.Vocab at 0x7fd697e38f50>,\n",
       " 'attire': <gensim.models.keyedvectors.Vocab at 0x7fd697e38b10>,\n",
       " 'pink': <gensim.models.keyedvectors.Vocab at 0x7fd697e38bd0>,\n",
       " 'salwar': <gensim.models.keyedvectors.Vocab at 0x7fd697e38e50>,\n",
       " 'suit': <gensim.models.keyedvectors.Vocab at 0x7fd697e38050>}"
      ]
     },
     "execution_count": 192,
     "metadata": {},
     "output_type": "execute_result"
    }
   ],
   "source": [
    "model.wv.vocab"
   ]
  },
  {
   "cell_type": "code",
   "execution_count": 229,
   "metadata": {},
   "outputs": [
    {
     "data": {
      "text/plain": [
       "[('time', 0.1621292531490326),\n",
       " ('family', 0.15123243629932404),\n",
       " ('enough', 0.11875852197408676),\n",
       " ('two', 0.1178688257932663),\n",
       " ('year', 0.11628086119890213)]"
      ]
     },
     "execution_count": 229,
     "metadata": {},
     "output_type": "execute_result"
    }
   ],
   "source": [
    "model.wv.most_similar(positive=['ranveer'],topn=5)"
   ]
  },
  {
   "cell_type": "code",
   "execution_count": 230,
   "metadata": {
    "collapsed": true
   },
   "outputs": [
    {
     "data": {
      "text/plain": [
       "array([-4.9576174e-05,  1.1563996e-03,  1.1647266e-03, -1.5923550e-03,\n",
       "        1.5192624e-03,  1.5804584e-03,  4.9857510e-04, -6.5344817e-04,\n",
       "       -5.5866886e-04,  1.0831465e-03,  1.4099061e-03,  8.4724248e-04,\n",
       "       -1.2089808e-04, -1.1066712e-03,  3.8131923e-04,  1.6176284e-03,\n",
       "        8.7947637e-04, -4.3790584e-05,  1.0746100e-03,  6.2979071e-04,\n",
       "        4.8808366e-04,  1.5120747e-03, -1.6385667e-03,  1.4271392e-03,\n",
       "       -1.6042073e-03,  3.3787874e-04,  4.0556485e-04,  1.3392861e-03,\n",
       "       -2.4434747e-05, -1.4593005e-03,  8.7512645e-04,  1.5344392e-04,\n",
       "       -1.3757002e-03,  3.4490225e-04,  1.2294865e-03, -8.7240868e-04,\n",
       "        1.6538419e-03, -1.6486273e-03, -1.1518156e-03,  1.9316835e-04,\n",
       "       -7.9177803e-04,  1.5267155e-04, -1.0761034e-03,  9.9954405e-04,\n",
       "        9.3230506e-04, -2.0623815e-04,  9.0483821e-04,  1.2857298e-04,\n",
       "       -9.6193026e-04,  8.7377761e-04, -7.5513136e-04, -5.6689611e-04,\n",
       "       -7.9268427e-04,  6.1476516e-04,  1.5321745e-03, -1.6280505e-04,\n",
       "        4.2754909e-04, -7.3910243e-04, -4.2508022e-04,  1.4911753e-03,\n",
       "        9.4950927e-05,  6.9423427e-04, -6.0649973e-04,  1.2227671e-03,\n",
       "       -9.1086986e-05, -1.2849763e-03, -1.3137568e-03, -1.1204151e-03,\n",
       "        3.5917945e-04, -4.0607655e-04,  1.3533466e-03, -5.4703187e-04,\n",
       "        1.5912378e-03, -1.4934179e-03,  4.2821551e-04, -8.1716914e-04,\n",
       "        9.1154524e-04, -7.5772725e-04,  1.7471706e-04, -5.4581428e-04,\n",
       "       -1.0764126e-03,  2.7169872e-04,  6.2554388e-04,  6.2425609e-04,\n",
       "       -1.5515189e-03, -7.4886327e-04, -1.4185807e-03, -5.4674043e-04,\n",
       "        4.1755193e-04,  1.3726255e-03, -3.8549051e-04,  1.4803185e-03,\n",
       "       -1.5510984e-03,  7.0785644e-04,  1.6384084e-03,  1.0498695e-03,\n",
       "       -1.4841962e-03,  1.5912588e-03,  1.1760515e-04,  1.2826957e-03,\n",
       "        2.0500133e-04,  8.5283030e-04,  9.8548189e-04, -6.8004912e-05,\n",
       "       -8.9085294e-04,  1.6053127e-03, -3.2118490e-04,  1.3808483e-03,\n",
       "       -1.2232283e-04, -9.6891832e-04,  1.6553869e-03,  1.4265083e-03,\n",
       "        1.2639301e-03,  2.5429952e-04, -4.6142438e-04, -2.3277076e-05,\n",
       "       -5.2342180e-04,  3.4835676e-04,  6.0286163e-04, -4.5762601e-04,\n",
       "       -5.6286802e-04, -1.9928881e-04, -9.6019113e-04,  1.6894532e-04,\n",
       "        1.1513318e-03, -7.8506069e-04, -1.3770153e-04,  2.6587589e-04,\n",
       "       -1.4372622e-03, -1.2347312e-04,  5.2690698e-06, -1.1828421e-03,\n",
       "       -4.4500246e-04, -1.5136665e-03,  1.2071187e-04, -1.0427631e-03,\n",
       "       -7.8694575e-04, -7.3189905e-04, -5.4488360e-04, -1.2764566e-03,\n",
       "       -1.0830621e-03,  3.6333912e-04, -1.2422432e-03,  1.1560328e-03,\n",
       "        1.9778329e-04, -1.1090458e-03,  1.4251688e-03,  6.0247921e-04,\n",
       "       -2.6946209e-04,  1.3449035e-03,  1.5310154e-03,  1.0142382e-03,\n",
       "       -1.3035932e-03, -1.1312730e-03, -5.3648713e-05,  2.6583523e-04,\n",
       "       -8.4727019e-04,  4.6028488e-04,  1.2940892e-03, -1.5479733e-03,\n",
       "       -1.1510540e-03, -4.1573707e-04,  8.2484417e-04, -4.8506516e-04,\n",
       "        8.8423118e-04, -1.5619727e-05,  4.8067674e-04,  7.1072811e-04,\n",
       "       -5.1728485e-04, -6.1065762e-04, -1.6086510e-03,  1.0673869e-03,\n",
       "       -7.2001154e-04, -1.3632135e-03, -1.4868450e-03, -1.4586531e-03,\n",
       "       -1.9794184e-04,  6.7833596e-04,  1.1629929e-03, -3.5594923e-05,\n",
       "        3.2000677e-04, -7.3381979e-04,  4.6837877e-04, -1.4150275e-03,\n",
       "        1.4794647e-03, -1.5992519e-03,  1.0141004e-04, -9.1849397e-05,\n",
       "        1.3473475e-03,  5.8136974e-04, -8.7738573e-04,  5.8647606e-04,\n",
       "       -1.5541561e-03, -1.5765472e-04, -6.3693296e-05,  4.2863560e-04,\n",
       "        1.4865207e-03, -1.1908287e-04,  1.1207496e-03, -1.1651929e-03,\n",
       "        6.2444247e-05, -1.2486767e-03,  1.0393229e-03, -3.8608903e-04,\n",
       "        1.4257425e-03,  1.4224256e-03,  6.9001311e-05,  6.4556149e-04,\n",
       "       -2.8246132e-04, -1.1438464e-03, -7.3787477e-04,  1.3819506e-04,\n",
       "        3.1520045e-04, -3.5765488e-04, -8.1733329e-04, -8.8810740e-04,\n",
       "       -5.5930286e-04, -1.0440690e-03, -1.5393691e-03, -9.3794760e-04,\n",
       "        5.9454251e-05, -1.5562162e-03,  4.9712689e-04,  9.6730987e-04,\n",
       "        1.4869141e-03, -1.4317696e-03,  1.0761537e-03,  5.8929867e-04,\n",
       "       -6.5889612e-06,  1.2951762e-03,  4.7436453e-04,  1.4955667e-03,\n",
       "        1.2232757e-03, -6.3566526e-04, -4.5394117e-04, -1.5899518e-03,\n",
       "        1.0137508e-03, -1.3291176e-03,  3.0463192e-04,  6.9734681e-04,\n",
       "        9.0055994e-04, -6.9455127e-04, -5.5926578e-04, -5.7495496e-04,\n",
       "       -9.5093361e-05, -1.3428461e-03, -7.8096968e-04, -4.5176261e-04,\n",
       "       -8.9408574e-04, -6.0893643e-05, -1.6001996e-03,  3.7373882e-04,\n",
       "        1.1801403e-03, -5.0655764e-04,  1.6402409e-03,  3.4155714e-04,\n",
       "       -6.7528716e-04, -1.4624100e-03, -8.1006344e-04,  8.6559105e-04,\n",
       "       -9.3275291e-04,  1.0739403e-03, -1.4725087e-04, -7.9374766e-04,\n",
       "       -7.8311656e-05,  1.1593263e-03, -1.0555686e-03, -1.2809775e-03,\n",
       "        2.2771135e-04,  1.3506135e-03,  1.0514357e-03, -1.0124187e-03,\n",
       "       -2.9214096e-04, -5.9859653e-05,  1.4992163e-03,  7.6375442e-04,\n",
       "       -6.3810282e-04, -1.4089984e-03,  5.8904930e-04,  7.2470703e-04,\n",
       "       -9.7026752e-04, -1.1459873e-05, -7.9085206e-04, -4.3405901e-04,\n",
       "       -2.1050619e-04, -8.6012128e-04,  1.0362625e-03, -1.4366254e-03,\n",
       "        2.0375894e-04, -6.6077319e-04,  4.8209878e-04,  5.6911825e-04,\n",
       "       -1.5401457e-03, -7.0577145e-05, -7.9802307e-04,  1.0296463e-03,\n",
       "        4.3719585e-04,  1.6171905e-03,  1.6522642e-03, -3.9585886e-04],\n",
       "      dtype=float32)"
      ]
     },
     "execution_count": 230,
     "metadata": {},
     "output_type": "execute_result"
    }
   ],
   "source": [
    "model.wv['ranveer']"
   ]
  },
  {
   "cell_type": "code",
   "execution_count": 195,
   "metadata": {},
   "outputs": [],
   "source": [
    "from sklearn.metrics.pairwise import cosine_similarity"
   ]
  },
  {
   "cell_type": "code",
   "execution_count": 231,
   "metadata": {},
   "outputs": [
    {
     "data": {
      "text/plain": [
       "array([[-0.03994962]], dtype=float32)"
      ]
     },
     "execution_count": 231,
     "metadata": {},
     "output_type": "execute_result"
    }
   ],
   "source": [
    "cosine_similarity([model.wv['ranveer']],[model.wv['singh']])"
   ]
  },
  {
   "cell_type": "code",
   "execution_count": 232,
   "metadata": {},
   "outputs": [],
   "source": [
    "def predict_word(a,b,c,word_vectors):\n",
    "    \n",
    "    a,b,c = a.lower(),b.lower(),c.lower()\n",
    "    \n",
    "    max_similarity = -100 \n",
    "    \n",
    "    d = None\n",
    "    \n",
    "    words = [\"ranveer\",\"deepika\",\"padukone\",\"singh\",\"nick\",\"jonas\",\"chopra\",\"priyanka\",\"virat\",\"anushka\",\"kapil\",\"ginni\"]\n",
    "    \n",
    "    wa,wb,wc = word_vectors[a],word_vectors[b],word_vectors[c]\n",
    "    \n",
    "    #to find d s.t similarity(|b-a|,|d-c|) should be max\n",
    "    \n",
    "    for w in words:\n",
    "        if w in [a,b,c]:\n",
    "            continue\n",
    "        \n",
    "        wv = word_vectors[w]\n",
    "        sim = cosine_similarity([wb-wa],[wv-wc])\n",
    "        \n",
    "        if sim > max_similarity:\n",
    "            max_similarity = sim\n",
    "            d = w\n",
    "            \n",
    "    return d"
   ]
  },
  {
   "cell_type": "code",
   "execution_count": 233,
   "metadata": {},
   "outputs": [
    {
     "data": {
      "text/plain": [
       "'padukone'"
      ]
     },
     "execution_count": 233,
     "metadata": {},
     "output_type": "execute_result"
    }
   ],
   "source": [
    "predict_word(\"priyanka\",\"jonas\",\"nick\",model.wv)"
   ]
  },
  {
   "cell_type": "code",
   "execution_count": 223,
   "metadata": {},
   "outputs": [],
   "source": [
    "model.wv.save_word2vec_format('bollywood.bin')"
   ]
  },
  {
   "cell_type": "code",
   "execution_count": null,
   "metadata": {},
   "outputs": [],
   "source": []
  }
 ],
 "metadata": {
  "kernelspec": {
   "display_name": "Python 3",
   "language": "python",
   "name": "python3"
  },
  "language_info": {
   "codemirror_mode": {
    "name": "ipython",
    "version": 3
   },
   "file_extension": ".py",
   "mimetype": "text/x-python",
   "name": "python",
   "nbconvert_exporter": "python",
   "pygments_lexer": "ipython3",
   "version": "3.7.4"
  }
 },
 "nbformat": 4,
 "nbformat_minor": 2
}
