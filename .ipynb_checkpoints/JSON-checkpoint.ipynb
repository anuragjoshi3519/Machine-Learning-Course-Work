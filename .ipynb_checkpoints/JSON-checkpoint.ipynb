{
 "cells": [
  {
   "cell_type": "markdown",
   "metadata": {},
   "source": [
    "# Working with JSON"
   ]
  },
  {
   "cell_type": "code",
   "execution_count": 4,
   "metadata": {},
   "outputs": [],
   "source": [
    "import json\n",
    "import pprint"
   ]
  },
  {
   "cell_type": "code",
   "execution_count": 14,
   "metadata": {},
   "outputs": [],
   "source": [
    "book={\n",
    "    \"name\":\"Basics Of Living\",\n",
    "    \"Publisher\":\"McGraw Hills\",\n",
    "    \"Authors\":[\n",
    "        {\n",
    "            \"name\":\"Anurag Joshi\",\n",
    "            \"age\": 21\n",
    "        },\n",
    "        {\n",
    "            \"name\":\"Jason Hatt\",\n",
    "            \"age\": 28\n",
    "        }\n",
    "    ]\n",
    "}\n",
    "\n",
    "with open(\"myJsonFile.JSON\",\"w\") as f:\n",
    "    json.dump(book,f)\n",
    "    "
   ]
  },
  {
   "cell_type": "code",
   "execution_count": 29,
   "metadata": {},
   "outputs": [
    {
     "name": "stdout",
     "output_type": "stream",
     "text": [
      "{'name': 'Basics Of Living', 'Publisher': 'McGraw Hills', 'Authors': [{'name': 'Anurag Joshi', 'age': 21}, {'name': 'Jason Hatt', 'age': 28}]}\n",
      "<class 'dict'>\n"
     ]
    }
   ],
   "source": [
    "f=open(\"myJsonFile.JSON\",\"r\")\n",
    "s=json.load(f)\n",
    "#pprint.pprint(s)\n",
    "print(s)\n",
    "print(type(s))"
   ]
  },
  {
   "cell_type": "code",
   "execution_count": 26,
   "metadata": {},
   "outputs": [
    {
     "name": "stdout",
     "output_type": "stream",
     "text": [
      "{\"name\": \"Basics Of Living\", \"Publisher\": \"McGraw Hills\", \"Authors\": [{\"name\": \"Anurag Joshi\", \"age\": 21}, {\"name\": \"Jason Hatt\", \"age\": 28}]}\n",
      "<class 'str'>\n"
     ]
    }
   ],
   "source": [
    "str1=json.dumps(book)  # dumps data as json string into str1\n",
    "print(str1)\n",
    "print(type(str1))"
   ]
  },
  {
   "cell_type": "code",
   "execution_count": 28,
   "metadata": {},
   "outputs": [
    {
     "name": "stdout",
     "output_type": "stream",
     "text": [
      "{'name': 'Basics Of Living', 'Publisher': 'McGraw Hills', 'Authors': [{'name': 'Anurag Joshi', 'age': 21}, {'name': 'Jason Hatt', 'age': 28}]}\n",
      "<class 'dict'>\n"
     ]
    }
   ],
   "source": [
    "jsonObject= json.loads(str1)  # loading json string into python object\n",
    "print(jsonObject)\n",
    "print(type(jsonObject))"
   ]
  },
  {
   "cell_type": "code",
   "execution_count": null,
   "metadata": {},
   "outputs": [],
   "source": []
  }
 ],
 "metadata": {
  "kernelspec": {
   "display_name": "Python 3",
   "language": "python",
   "name": "python3"
  },
  "language_info": {
   "codemirror_mode": {
    "name": "ipython",
    "version": 3
   },
   "file_extension": ".py",
   "mimetype": "text/x-python",
   "name": "python",
   "nbconvert_exporter": "python",
   "pygments_lexer": "ipython3",
   "version": "3.7.2"
  }
 },
 "nbformat": 4,
 "nbformat_minor": 2
}
