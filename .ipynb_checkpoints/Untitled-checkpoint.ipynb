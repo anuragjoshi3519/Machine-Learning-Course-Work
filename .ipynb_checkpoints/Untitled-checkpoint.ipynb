{
 "cells": [
  {
   "cell_type": "code",
   "execution_count": 2,
   "metadata": {},
   "outputs": [
    {
     "data": {
      "text/plain": [
       "[0, 0, 0, 0, 0, 0, 0, 0, 0, 0]"
      ]
     },
     "execution_count": 2,
     "metadata": {},
     "output_type": "execute_result"
    }
   ],
   "source": [
    "[0]*10"
   ]
  },
  {
   "cell_type": "code",
   "execution_count": 3,
   "metadata": {},
   "outputs": [],
   "source": [
    "import random"
   ]
  },
  {
   "cell_type": "code",
   "execution_count": 79,
   "metadata": {},
   "outputs": [
    {
     "name": "stdout",
     "output_type": "stream",
     "text": [
      "1\n"
     ]
    }
   ],
   "source": [
    "print(random.randint(0,10))"
   ]
  },
  {
   "cell_type": "code",
   "execution_count": 80,
   "metadata": {},
   "outputs": [],
   "source": [
    "n=5"
   ]
  },
  {
   "cell_type": "code",
   "execution_count": 81,
   "metadata": {},
   "outputs": [],
   "source": [
    "board=[ [0]*n ]*n"
   ]
  },
  {
   "cell_type": "code",
   "execution_count": 108,
   "metadata": {},
   "outputs": [
    {
     "data": {
      "text/plain": [
       "[1, 3, 0, 3]"
      ]
     },
     "execution_count": 108,
     "metadata": {},
     "output_type": "execute_result"
    }
   ],
   "source": [
    "n=4\n",
    "board=[ [0]*n ]*n\n",
    "makeRandomBoard(board,n)\n",
    "board"
   ]
  },
  {
   "cell_type": "code",
   "execution_count": 133,
   "metadata": {},
   "outputs": [
    {
     "name": "stdout",
     "output_type": "stream",
     "text": [
      "Enter value of N: 100\n"
     ]
    },
    {
     "ename": "KeyboardInterrupt",
     "evalue": "",
     "output_type": "error",
     "traceback": [
      "\u001b[0;31m---------------------------------------------------------------------------\u001b[0m",
      "\u001b[0;31mKeyboardInterrupt\u001b[0m                         Traceback (most recent call last)",
      "\u001b[0;32m<ipython-input-133-1af92ea8c3de>\u001b[0m in \u001b[0;36m<module>\u001b[0;34m\u001b[0m\n\u001b[1;32m     79\u001b[0m         \u001b[0;32mraise\u001b[0m \u001b[0mException\u001b[0m\u001b[0;34m\u001b[0m\u001b[0;34m\u001b[0m\u001b[0m\n\u001b[1;32m     80\u001b[0m     \u001b[0;32melse\u001b[0m\u001b[0;34m:\u001b[0m\u001b[0;34m\u001b[0m\u001b[0;34m\u001b[0m\u001b[0m\n\u001b[0;32m---> 81\u001b[0;31m         \u001b[0mNQueenHillClimbing\u001b[0m\u001b[0;34m(\u001b[0m\u001b[0mn\u001b[0m\u001b[0;34m)\u001b[0m\u001b[0;34m\u001b[0m\u001b[0;34m\u001b[0m\u001b[0m\n\u001b[0m\u001b[1;32m     82\u001b[0m \u001b[0;34m\u001b[0m\u001b[0m\n\u001b[1;32m     83\u001b[0m \u001b[0;32mexcept\u001b[0m\u001b[0;34m(\u001b[0m\u001b[0mException\u001b[0m\u001b[0;34m)\u001b[0m\u001b[0;34m:\u001b[0m\u001b[0;34m\u001b[0m\u001b[0;34m\u001b[0m\u001b[0m\n",
      "\u001b[0;32m<ipython-input-133-1af92ea8c3de>\u001b[0m in \u001b[0;36mNQueenHillClimbing\u001b[0;34m(n)\u001b[0m\n\u001b[1;32m     68\u001b[0m \u001b[0;34m\u001b[0m\u001b[0m\n\u001b[1;32m     69\u001b[0m     \u001b[0;32mwhile\u001b[0m \u001b[0mgetScore\u001b[0m\u001b[0;34m(\u001b[0m\u001b[0mboard\u001b[0m\u001b[0;34m,\u001b[0m\u001b[0mn\u001b[0m\u001b[0;34m)\u001b[0m\u001b[0;34m!=\u001b[0m\u001b[0;36m0\u001b[0m\u001b[0;34m:\u001b[0m\u001b[0;34m\u001b[0m\u001b[0;34m\u001b[0m\u001b[0m\n\u001b[0;32m---> 70\u001b[0;31m         \u001b[0;32mif\u001b[0m \u001b[0mfindNextState\u001b[0m\u001b[0;34m(\u001b[0m\u001b[0mboard\u001b[0m\u001b[0;34m,\u001b[0m\u001b[0mn\u001b[0m\u001b[0;34m)\u001b[0m\u001b[0;34m==\u001b[0m\u001b[0;32mFalse\u001b[0m\u001b[0;34m:\u001b[0m\u001b[0;34m\u001b[0m\u001b[0;34m\u001b[0m\u001b[0m\n\u001b[0m\u001b[1;32m     71\u001b[0m             \u001b[0mmakeRandomBoard\u001b[0m\u001b[0;34m(\u001b[0m\u001b[0mboard\u001b[0m\u001b[0;34m,\u001b[0m\u001b[0mn\u001b[0m\u001b[0;34m)\u001b[0m\u001b[0;34m\u001b[0m\u001b[0;34m\u001b[0m\u001b[0m\n\u001b[1;32m     72\u001b[0m \u001b[0;34m\u001b[0m\u001b[0m\n",
      "\u001b[0;32m<ipython-input-133-1af92ea8c3de>\u001b[0m in \u001b[0;36mfindNextState\u001b[0;34m(board, n)\u001b[0m\n\u001b[1;32m     50\u001b[0m \u001b[0;32mdef\u001b[0m \u001b[0mfindNextState\u001b[0m\u001b[0;34m(\u001b[0m\u001b[0mboard\u001b[0m\u001b[0;34m,\u001b[0m\u001b[0mn\u001b[0m\u001b[0;34m)\u001b[0m\u001b[0;34m:\u001b[0m\u001b[0;34m\u001b[0m\u001b[0;34m\u001b[0m\u001b[0m\n\u001b[1;32m     51\u001b[0m     \u001b[0mmainScore\u001b[0m\u001b[0;34m=\u001b[0m\u001b[0mgetScore\u001b[0m\u001b[0;34m(\u001b[0m\u001b[0mboard\u001b[0m\u001b[0;34m,\u001b[0m\u001b[0mn\u001b[0m\u001b[0;34m)\u001b[0m\u001b[0;34m\u001b[0m\u001b[0;34m\u001b[0m\u001b[0m\n\u001b[0;32m---> 52\u001b[0;31m     \u001b[0mtempBoard\u001b[0m\u001b[0;34m=\u001b[0m\u001b[0msearchBoardHeuristic\u001b[0m\u001b[0;34m(\u001b[0m\u001b[0mboard\u001b[0m\u001b[0;34m,\u001b[0m\u001b[0mn\u001b[0m\u001b[0;34m)\u001b[0m\u001b[0;34m\u001b[0m\u001b[0;34m\u001b[0m\u001b[0m\n\u001b[0m\u001b[1;32m     53\u001b[0m \u001b[0;34m\u001b[0m\u001b[0m\n\u001b[1;32m     54\u001b[0m     \u001b[0;32mif\u001b[0m \u001b[0mgetScore\u001b[0m\u001b[0;34m(\u001b[0m\u001b[0mtempBoard\u001b[0m\u001b[0;34m,\u001b[0m\u001b[0mn\u001b[0m\u001b[0;34m)\u001b[0m\u001b[0;34m<\u001b[0m\u001b[0mmainScore\u001b[0m\u001b[0;34m:\u001b[0m\u001b[0;34m\u001b[0m\u001b[0;34m\u001b[0m\u001b[0m\n",
      "\u001b[0;32m<ipython-input-133-1af92ea8c3de>\u001b[0m in \u001b[0;36msearchBoardHeuristic\u001b[0;34m(board, n)\u001b[0m\n\u001b[1;32m     37\u001b[0m         \u001b[0;32mfor\u001b[0m \u001b[0mj\u001b[0m \u001b[0;32min\u001b[0m \u001b[0mrange\u001b[0m\u001b[0;34m(\u001b[0m\u001b[0;36m0\u001b[0m\u001b[0;34m,\u001b[0m\u001b[0mn\u001b[0m\u001b[0;34m)\u001b[0m\u001b[0;34m:\u001b[0m\u001b[0;34m\u001b[0m\u001b[0;34m\u001b[0m\u001b[0m\n\u001b[1;32m     38\u001b[0m             \u001b[0mnewBoard\u001b[0m\u001b[0;34m[\u001b[0m\u001b[0mi\u001b[0m\u001b[0;34m]\u001b[0m\u001b[0;34m=\u001b[0m\u001b[0mj\u001b[0m\u001b[0;34m\u001b[0m\u001b[0;34m\u001b[0m\u001b[0m\n\u001b[0;32m---> 39\u001b[0;31m             \u001b[0mk\u001b[0m\u001b[0;34m=\u001b[0m\u001b[0mgetScore\u001b[0m\u001b[0;34m(\u001b[0m\u001b[0mnewBoard\u001b[0m\u001b[0;34m,\u001b[0m\u001b[0mn\u001b[0m\u001b[0;34m)\u001b[0m\u001b[0;34m\u001b[0m\u001b[0;34m\u001b[0m\u001b[0m\n\u001b[0m\u001b[1;32m     40\u001b[0m             \u001b[0;32mif\u001b[0m \u001b[0mk\u001b[0m\u001b[0;34m==\u001b[0m\u001b[0mscore\u001b[0m\u001b[0;34m:\u001b[0m\u001b[0;34m\u001b[0m\u001b[0;34m\u001b[0m\u001b[0m\n\u001b[1;32m     41\u001b[0m                 \u001b[0mchoice\u001b[0m\u001b[0;34m.\u001b[0m\u001b[0mappend\u001b[0m\u001b[0;34m(\u001b[0m\u001b[0mj\u001b[0m\u001b[0;34m)\u001b[0m\u001b[0;34m\u001b[0m\u001b[0;34m\u001b[0m\u001b[0m\n",
      "\u001b[0;32m<ipython-input-133-1af92ea8c3de>\u001b[0m in \u001b[0;36mgetScore\u001b[0;34m(board, n)\u001b[0m\n\u001b[1;32m     19\u001b[0m                 \u001b[0mscore\u001b[0m\u001b[0;34m+=\u001b[0m\u001b[0;36m1\u001b[0m\u001b[0;34m\u001b[0m\u001b[0;34m\u001b[0m\u001b[0m\n\u001b[1;32m     20\u001b[0m                 \u001b[0;32mcontinue\u001b[0m\u001b[0;34m\u001b[0m\u001b[0;34m\u001b[0m\u001b[0m\n\u001b[0;32m---> 21\u001b[0;31m             \u001b[0;32mif\u001b[0m \u001b[0mabs\u001b[0m\u001b[0;34m(\u001b[0m\u001b[0mboard\u001b[0m\u001b[0;34m[\u001b[0m\u001b[0mi\u001b[0m\u001b[0;34m]\u001b[0m\u001b[0;34m-\u001b[0m\u001b[0mboard\u001b[0m\u001b[0;34m[\u001b[0m\u001b[0mj\u001b[0m\u001b[0;34m]\u001b[0m\u001b[0;34m)\u001b[0m\u001b[0;34m==\u001b[0m\u001b[0mabs\u001b[0m\u001b[0;34m(\u001b[0m\u001b[0mi\u001b[0m\u001b[0;34m-\u001b[0m\u001b[0mj\u001b[0m\u001b[0;34m)\u001b[0m\u001b[0;34m:\u001b[0m\u001b[0;34m\u001b[0m\u001b[0;34m\u001b[0m\u001b[0m\n\u001b[0m\u001b[1;32m     22\u001b[0m                 \u001b[0mscore\u001b[0m\u001b[0;34m+=\u001b[0m\u001b[0;36m1\u001b[0m\u001b[0;34m\u001b[0m\u001b[0;34m\u001b[0m\u001b[0m\n\u001b[1;32m     23\u001b[0m                 \u001b[0;32mcontinue\u001b[0m\u001b[0;34m\u001b[0m\u001b[0;34m\u001b[0m\u001b[0m\n",
      "\u001b[0;31mKeyboardInterrupt\u001b[0m: "
     ]
    }
   ],
   "source": [
    "import random\n",
    "\n",
    "def printSolution(board,n):\n",
    "    \n",
    "    print(\"\\n{}-Queen Solution:: \\n\".format(n))\n",
    "    for i in range(0,n):\n",
    "        for j in range(0,n):\n",
    "            if j==board[i]:\n",
    "                print(1,end=' ')\n",
    "            else:\n",
    "                print(0,end=' ')\n",
    "        print()        \n",
    "    \n",
    "def getScore(board,n):\n",
    "    score=0\n",
    "    for i in range(0,n-1):\n",
    "        for j in range(i+1,n):\n",
    "            if board[i]==board[j]:\n",
    "                score+=1\n",
    "                continue\n",
    "            if abs(board[i]-board[j])==abs(i-j):\n",
    "                score+=1\n",
    "                continue\n",
    "    return score\n",
    "\n",
    "def searchBoardHeuristic(board,n):\n",
    "    score = getScore(board,n)\n",
    "    newBoard=[ [0]*n ]*n\n",
    "    for i in range(0,n):\n",
    "        newBoard[i]=board[i]\n",
    "\n",
    "    for i in range(0,n):\n",
    "        choice=[]\n",
    "        choice.append(newBoard[i])\n",
    "        temp=newBoard[i]\n",
    "\n",
    "        for j in range(0,n):\n",
    "            newBoard[i]=j\n",
    "            k=getScore(newBoard,n)\n",
    "            if k==score:\n",
    "                choice.append(j)\n",
    "            if k<score:\n",
    "                choice=[]\n",
    "                choice.append(j)\n",
    "                score=k\n",
    "        newBoard[i] = choice[ random.randint(0,len(choice)-1) ]\n",
    "\n",
    "    return newBoard     \n",
    "\n",
    "def findNextState(board,n):\n",
    "    mainScore=getScore(board,n)\n",
    "    tempBoard=searchBoardHeuristic(board,n)\n",
    "\n",
    "    if getScore(tempBoard,n)<mainScore:\n",
    "        for i in range(n):\n",
    "            board[i]=tempBoard[i]\n",
    "        return True\n",
    "\n",
    "    return False        \n",
    "\n",
    "def makeRandomBoard(board,n):\n",
    "    for i in range(n):\n",
    "        board[i] = random.randint(0,n-1)\n",
    "\n",
    "def NQueenHillClimbing(n):\n",
    "    board=[ [0]*n ]*n\n",
    "    makeRandomBoard(board,n)\n",
    "\n",
    "    while getScore(board,n)!=0:\n",
    "        if findNextState(board,n)==False:\n",
    "            makeRandomBoard(board,n)\n",
    "\n",
    "    printSolution(board,n)\n",
    "    \n",
    "\n",
    "try:\n",
    "    n=int(input(\"Enter value of N: \"))\n",
    "    if n<4:\n",
    "        raise Exception\n",
    "    else:\n",
    "        NQueenHillClimbing(n)\n",
    "        \n",
    "except(Exception):\n",
    "    print(\"\\nThere is no solution for N less than 4\")"
   ]
  },
  {
   "cell_type": "code",
   "execution_count": null,
   "metadata": {},
   "outputs": [],
   "source": []
  },
  {
   "cell_type": "code",
   "execution_count": 105,
   "metadata": {},
   "outputs": [
    {
     "name": "stdout",
     "output_type": "stream",
     "text": [
      "\n",
      "4-Queen Solution:: \n",
      "\n",
      "0 0 1 0 \n",
      "0 0 0 1 \n",
      "0 0 1 0 \n",
      "0 0 1 0 \n"
     ]
    }
   ],
   "source": [
    "n=4\n",
    "board=[ [0]*n ]*n\n",
    "makeRandomBoard(board,n)\n",
    "printSolution(board,n)"
   ]
  },
  {
   "cell_type": "code",
   "execution_count": 107,
   "metadata": {},
   "outputs": [
    {
     "data": {
      "text/plain": [
       "[2, 3, 2, 2]"
      ]
     },
     "execution_count": 107,
     "metadata": {},
     "output_type": "execute_result"
    }
   ],
   "source": [
    "board"
   ]
  },
  {
   "cell_type": "code",
   "execution_count": null,
   "metadata": {},
   "outputs": [],
   "source": []
  },
  {
   "cell_type": "code",
   "execution_count": 162,
   "metadata": {},
   "outputs": [
    {
     "ename": "KeyboardInterrupt",
     "evalue": "",
     "output_type": "error",
     "traceback": [
      "\u001b[0;31m---------------------------------------------------------------------------\u001b[0m",
      "\u001b[0;31mKeyboardInterrupt\u001b[0m                         Traceback (most recent call last)",
      "\u001b[0;32m~/anaconda3/lib/python3.7/site-packages/ipykernel/kernelbase.py\u001b[0m in \u001b[0;36m_input_request\u001b[0;34m(self, prompt, ident, parent, password)\u001b[0m\n\u001b[1;32m    884\u001b[0m             \u001b[0;32mtry\u001b[0m\u001b[0;34m:\u001b[0m\u001b[0;34m\u001b[0m\u001b[0;34m\u001b[0m\u001b[0m\n\u001b[0;32m--> 885\u001b[0;31m                 \u001b[0mident\u001b[0m\u001b[0;34m,\u001b[0m \u001b[0mreply\u001b[0m \u001b[0;34m=\u001b[0m \u001b[0mself\u001b[0m\u001b[0;34m.\u001b[0m\u001b[0msession\u001b[0m\u001b[0;34m.\u001b[0m\u001b[0mrecv\u001b[0m\u001b[0;34m(\u001b[0m\u001b[0mself\u001b[0m\u001b[0;34m.\u001b[0m\u001b[0mstdin_socket\u001b[0m\u001b[0;34m,\u001b[0m \u001b[0;36m0\u001b[0m\u001b[0;34m)\u001b[0m\u001b[0;34m\u001b[0m\u001b[0;34m\u001b[0m\u001b[0m\n\u001b[0m\u001b[1;32m    886\u001b[0m             \u001b[0;32mexcept\u001b[0m \u001b[0mException\u001b[0m\u001b[0;34m:\u001b[0m\u001b[0;34m\u001b[0m\u001b[0;34m\u001b[0m\u001b[0m\n",
      "\u001b[0;32m~/anaconda3/lib/python3.7/site-packages/jupyter_client/session.py\u001b[0m in \u001b[0;36mrecv\u001b[0;34m(self, socket, mode, content, copy)\u001b[0m\n\u001b[1;32m    802\u001b[0m         \u001b[0;32mtry\u001b[0m\u001b[0;34m:\u001b[0m\u001b[0;34m\u001b[0m\u001b[0;34m\u001b[0m\u001b[0m\n\u001b[0;32m--> 803\u001b[0;31m             \u001b[0mmsg_list\u001b[0m \u001b[0;34m=\u001b[0m \u001b[0msocket\u001b[0m\u001b[0;34m.\u001b[0m\u001b[0mrecv_multipart\u001b[0m\u001b[0;34m(\u001b[0m\u001b[0mmode\u001b[0m\u001b[0;34m,\u001b[0m \u001b[0mcopy\u001b[0m\u001b[0;34m=\u001b[0m\u001b[0mcopy\u001b[0m\u001b[0;34m)\u001b[0m\u001b[0;34m\u001b[0m\u001b[0;34m\u001b[0m\u001b[0m\n\u001b[0m\u001b[1;32m    804\u001b[0m         \u001b[0;32mexcept\u001b[0m \u001b[0mzmq\u001b[0m\u001b[0;34m.\u001b[0m\u001b[0mZMQError\u001b[0m \u001b[0;32mas\u001b[0m \u001b[0me\u001b[0m\u001b[0;34m:\u001b[0m\u001b[0;34m\u001b[0m\u001b[0;34m\u001b[0m\u001b[0m\n",
      "\u001b[0;32m~/anaconda3/lib/python3.7/site-packages/zmq/sugar/socket.py\u001b[0m in \u001b[0;36mrecv_multipart\u001b[0;34m(self, flags, copy, track)\u001b[0m\n\u001b[1;32m    474\u001b[0m         \"\"\"\n\u001b[0;32m--> 475\u001b[0;31m         \u001b[0mparts\u001b[0m \u001b[0;34m=\u001b[0m \u001b[0;34m[\u001b[0m\u001b[0mself\u001b[0m\u001b[0;34m.\u001b[0m\u001b[0mrecv\u001b[0m\u001b[0;34m(\u001b[0m\u001b[0mflags\u001b[0m\u001b[0;34m,\u001b[0m \u001b[0mcopy\u001b[0m\u001b[0;34m=\u001b[0m\u001b[0mcopy\u001b[0m\u001b[0;34m,\u001b[0m \u001b[0mtrack\u001b[0m\u001b[0;34m=\u001b[0m\u001b[0mtrack\u001b[0m\u001b[0;34m)\u001b[0m\u001b[0;34m]\u001b[0m\u001b[0;34m\u001b[0m\u001b[0;34m\u001b[0m\u001b[0m\n\u001b[0m\u001b[1;32m    476\u001b[0m         \u001b[0;31m# have first part already, only loop while more to receive\u001b[0m\u001b[0;34m\u001b[0m\u001b[0;34m\u001b[0m\u001b[0;34m\u001b[0m\u001b[0m\n",
      "\u001b[0;32mzmq/backend/cython/socket.pyx\u001b[0m in \u001b[0;36mzmq.backend.cython.socket.Socket.recv\u001b[0;34m()\u001b[0m\n",
      "\u001b[0;32mzmq/backend/cython/socket.pyx\u001b[0m in \u001b[0;36mzmq.backend.cython.socket.Socket.recv\u001b[0;34m()\u001b[0m\n",
      "\u001b[0;32mzmq/backend/cython/socket.pyx\u001b[0m in \u001b[0;36mzmq.backend.cython.socket._recv_copy\u001b[0;34m()\u001b[0m\n",
      "\u001b[0;32m~/anaconda3/lib/python3.7/site-packages/zmq/backend/cython/checkrc.pxd\u001b[0m in \u001b[0;36mzmq.backend.cython.checkrc._check_rc\u001b[0;34m()\u001b[0m\n",
      "\u001b[0;31mKeyboardInterrupt\u001b[0m: ",
      "\nDuring handling of the above exception, another exception occurred:\n",
      "\u001b[0;31mKeyboardInterrupt\u001b[0m                         Traceback (most recent call last)",
      "\u001b[0;32m<ipython-input-162-80dd2bee5040>\u001b[0m in \u001b[0;36m<module>\u001b[0;34m\u001b[0m\n\u001b[1;32m     83\u001b[0m \u001b[0;34m\u001b[0m\u001b[0m\n\u001b[1;32m     84\u001b[0m \u001b[0;32mtry\u001b[0m\u001b[0;34m:\u001b[0m\u001b[0;34m\u001b[0m\u001b[0;34m\u001b[0m\u001b[0m\n\u001b[0;32m---> 85\u001b[0;31m     \u001b[0mn\u001b[0m\u001b[0;34m=\u001b[0m\u001b[0mint\u001b[0m\u001b[0;34m(\u001b[0m\u001b[0minput\u001b[0m\u001b[0;34m(\u001b[0m\u001b[0;34m\"Enter value of N: \"\u001b[0m\u001b[0;34m)\u001b[0m\u001b[0;34m)\u001b[0m\u001b[0;34m\u001b[0m\u001b[0;34m\u001b[0m\u001b[0m\n\u001b[0m\u001b[1;32m     86\u001b[0m     \u001b[0;32mif\u001b[0m \u001b[0mn\u001b[0m\u001b[0;34m<\u001b[0m\u001b[0;36m4\u001b[0m\u001b[0;34m:\u001b[0m\u001b[0;34m\u001b[0m\u001b[0;34m\u001b[0m\u001b[0m\n\u001b[1;32m     87\u001b[0m         \u001b[0;32mraise\u001b[0m \u001b[0mException\u001b[0m\u001b[0;34m\u001b[0m\u001b[0;34m\u001b[0m\u001b[0m\n",
      "\u001b[0;32m~/anaconda3/lib/python3.7/site-packages/ipykernel/kernelbase.py\u001b[0m in \u001b[0;36mraw_input\u001b[0;34m(self, prompt)\u001b[0m\n\u001b[1;32m    858\u001b[0m             \u001b[0mself\u001b[0m\u001b[0;34m.\u001b[0m\u001b[0m_parent_ident\u001b[0m\u001b[0;34m,\u001b[0m\u001b[0;34m\u001b[0m\u001b[0;34m\u001b[0m\u001b[0m\n\u001b[1;32m    859\u001b[0m             \u001b[0mself\u001b[0m\u001b[0;34m.\u001b[0m\u001b[0m_parent_header\u001b[0m\u001b[0;34m,\u001b[0m\u001b[0;34m\u001b[0m\u001b[0;34m\u001b[0m\u001b[0m\n\u001b[0;32m--> 860\u001b[0;31m             \u001b[0mpassword\u001b[0m\u001b[0;34m=\u001b[0m\u001b[0;32mFalse\u001b[0m\u001b[0;34m,\u001b[0m\u001b[0;34m\u001b[0m\u001b[0;34m\u001b[0m\u001b[0m\n\u001b[0m\u001b[1;32m    861\u001b[0m         )\n\u001b[1;32m    862\u001b[0m \u001b[0;34m\u001b[0m\u001b[0m\n",
      "\u001b[0;32m~/anaconda3/lib/python3.7/site-packages/ipykernel/kernelbase.py\u001b[0m in \u001b[0;36m_input_request\u001b[0;34m(self, prompt, ident, parent, password)\u001b[0m\n\u001b[1;32m    888\u001b[0m             \u001b[0;32mexcept\u001b[0m \u001b[0mKeyboardInterrupt\u001b[0m\u001b[0;34m:\u001b[0m\u001b[0;34m\u001b[0m\u001b[0;34m\u001b[0m\u001b[0m\n\u001b[1;32m    889\u001b[0m                 \u001b[0;31m# re-raise KeyboardInterrupt, to truncate traceback\u001b[0m\u001b[0;34m\u001b[0m\u001b[0;34m\u001b[0m\u001b[0;34m\u001b[0m\u001b[0m\n\u001b[0;32m--> 890\u001b[0;31m                 \u001b[0;32mraise\u001b[0m \u001b[0mKeyboardInterrupt\u001b[0m\u001b[0;34m\u001b[0m\u001b[0;34m\u001b[0m\u001b[0m\n\u001b[0m\u001b[1;32m    891\u001b[0m             \u001b[0;32melse\u001b[0m\u001b[0;34m:\u001b[0m\u001b[0;34m\u001b[0m\u001b[0;34m\u001b[0m\u001b[0m\n\u001b[1;32m    892\u001b[0m                 \u001b[0;32mbreak\u001b[0m\u001b[0;34m\u001b[0m\u001b[0;34m\u001b[0m\u001b[0m\n",
      "\u001b[0;31mKeyboardInterrupt\u001b[0m: "
     ]
    }
   ],
   "source": [
    "import random\n",
    "\n",
    "def printSolution(board,n):\n",
    "    \n",
    "    print(\"\\n{}-Queen Solution:: \\n\".format(n))\n",
    "    for i in range(0,n):\n",
    "        for j in range(0,n):\n",
    "            if j==board[i]:\n",
    "                print(1,end=' ')\n",
    "            else:\n",
    "                print(0,end=' ')\n",
    "        print()        \n",
    "    \n",
    "def getScore(board,i,n):\n",
    "    score=0\n",
    "    for j in range(0,n):\n",
    "        if i==j:\n",
    "            continue\n",
    "        if board[i]==board[j]:\n",
    "            score+=1\n",
    "            continue\n",
    "        if abs(board[i]-board[j])==abs(i-j):\n",
    "            score+=1\n",
    "            continue\n",
    "    return score\n",
    "\n",
    "def getBoardScore(board,n):\n",
    "    score=0\n",
    "    for i in range(0,n-1):\n",
    "        score+=getScore(board,i,n)\n",
    "    return score\n",
    "\n",
    "def searchBoardHeuristic(board,n):\n",
    "    newBoard=[ [0]*n ]*n\n",
    "    for i in range(0,n):\n",
    "        newBoard[i]=board[i]\n",
    "        \n",
    "    for i in range(0,n):\n",
    "        choice=[]\n",
    "        choice.append(newBoard[i])\n",
    "        temp=newBoard[i]\n",
    "        score=getScore(newBoard,i,n)\n",
    "        \n",
    "        for j in range(0,n):\n",
    "            newBoard[i]=j\n",
    "            k=getScore(newBoard,i,n)\n",
    "            if k==score:\n",
    "                choice.append(j)\n",
    "            if k<score:\n",
    "                choice=[]\n",
    "                choice.append(j)\n",
    "                score=k\n",
    "        newBoard[i] = choice[ random.randint(0,len(choice)-1) ]\n",
    "\n",
    "    return newBoard     \n",
    "\n",
    "def findNextState(board,n):\n",
    "    mainScore=getBoardScore(board,n)\n",
    "    tempBoard=searchBoardHeuristic(board,n)\n",
    "\n",
    "    if getBoardScore(tempBoard,n)<mainScore:\n",
    "        for i in range(n):\n",
    "            board[i]=tempBoard[i]\n",
    "        return True\n",
    "\n",
    "    return False        \n",
    "\n",
    "def makeRandomBoard(board,n):\n",
    "    for i in range(n):\n",
    "        board[i] = random.randint(0,n-1)\n",
    "\n",
    "def NQueenHillClimbing(n):\n",
    "    board=[ [0]*n ]*n\n",
    "    makeRandomBoard(board,n)\n",
    "\n",
    "    while getBoardScore(board,n)!=0:\n",
    "        if findNextState(board,n)==False:\n",
    "            makeRandomBoard(board,n)\n",
    "\n",
    "    printSolution(board,n)\n",
    "    \n",
    "\n",
    "try:\n",
    "    n=int(input(\"Enter value of N: \"))\n",
    "    if n<=0:\n",
    "        raise ValueError\n",
    "    elif n<4 and n>1:\n",
    "        raise Exception\n",
    "    else:\n",
    "        NQueenHillClimbing(n)\n",
    "\n",
    "except ValueError:\n",
    "    print(\"\\nerr! Please input non-negative integer for N\")        \n",
    "except Exception:\n",
    "    print(\"\\nThere is no solution for N = 2 and N = 3\")"
   ]
  },
  {
   "cell_type": "code",
   "execution_count": null,
   "metadata": {},
   "outputs": [],
   "source": []
  },
  {
   "cell_type": "code",
   "execution_count": 170,
   "metadata": {},
   "outputs": [
    {
     "name": "stdout",
     "output_type": "stream",
     "text": [
      "Enter value of N: 1\n",
      "\n",
      "1-Queen Solution:: \n",
      "\n",
      "1 \n"
     ]
    }
   ],
   "source": [
    "import random\n",
    "\n",
    "def printSolution(board,n):\n",
    "    \n",
    "    print(\"\\n{}-Queen Solution:: \\n\".format(n))\n",
    "    for i in range(0,n):\n",
    "        for j in range(0,n):\n",
    "            if j==board[i]:\n",
    "                print(1,end=' ')\n",
    "            else:\n",
    "                print(0,end=' ')\n",
    "        print()        \n",
    "    \n",
    "def getScore(board,i,n):\n",
    "    score=0\n",
    "    for j in range(0,n):\n",
    "        if i==j:\n",
    "            continue\n",
    "        if board[i]==board[j]:\n",
    "            score+=1\n",
    "            continue\n",
    "        if abs(board[i]-board[j])==abs(i-j):\n",
    "            score+=1\n",
    "            continue\n",
    "    return score\n",
    "\n",
    "def getBoardScore(board,n):\n",
    "    score=0\n",
    "    for i in range(0,n-1):\n",
    "        score+=getScore(board,i,n)\n",
    "    return score\n",
    "\n",
    "def searchBoardHeuristic(board,n):\n",
    "\n",
    "    newBoard=[ [0]*n ]*n\n",
    "    for i in range(0,n):\n",
    "        newBoard[i]=board[i]\n",
    "    \n",
    "    ids=[i for i in range(0,n)]\n",
    "    random.shuffle(ids)\n",
    "    \n",
    "    for i in ids:\n",
    "        choice=[]\n",
    "        choice.append(newBoard[i])\n",
    "        temp=newBoard[i]\n",
    "        score=getScore(newBoard,i,n)\n",
    "        \n",
    "        for j in range(0,n):\n",
    "            newBoard[i]=j\n",
    "            k=getScore(newBoard,i,n)\n",
    "            if k==score:\n",
    "                choice.append(j)\n",
    "            if k<score:\n",
    "                choice=[]\n",
    "                choice.append(j)\n",
    "                score=k\n",
    "        newBoard[i] = choice[ random.randint(0,len(choice)-1) ]\n",
    "\n",
    "    return newBoard     \n",
    "\n",
    "def findSolutionState(board,n):\n",
    "    max_itr=0\n",
    "    while max_itr<2000:\n",
    "        tempBoard=searchBoardHeuristic(board,n)\n",
    "        for i in range(n):\n",
    "            board[i]=tempBoard[i]\n",
    "        if getBoardScore(board,n)==0:\n",
    "            break\n",
    "        max_itr+=1    \n",
    "    \n",
    "    for i in range(n):\n",
    "        board[i]=tempBoard[i]\n",
    "    return board    \n",
    "                \n",
    "def makeRandomBoard(board,n):\n",
    "    for i in range(n):\n",
    "        board[i] = random.randint(0,n-1)\n",
    "\n",
    "def NQueenHillClimbing(n):\n",
    "    board=[ [0]*n ]*n\n",
    "    makeRandomBoard(board,n)\n",
    "    while getBoardScore(board,n)!=0:\n",
    "        makeRandomBoard(board,n)\n",
    "        findSolutionState(board,n)\n",
    "        \n",
    "    printSolution(board,n)\n",
    "    \n",
    "try:\n",
    "    n=int(input(\"Enter value of N: \"))\n",
    "    if n<=0:\n",
    "        raise ValueError\n",
    "    elif n<4 and n>1:\n",
    "        raise Exception\n",
    "    else:\n",
    "        NQueenHillClimbing(n)\n",
    "\n",
    "except ValueError:\n",
    "    print(\"\\nerr! Please input non-negative integer for N\")        \n",
    "except Exception:\n",
    "    print(\"\\nThere is no solution for N = 2 and N = 3\")"
   ]
  },
  {
   "cell_type": "code",
   "execution_count": null,
   "metadata": {},
   "outputs": [],
   "source": [
    "board=[2,3,3,0]\n",
    "getScore(board,3,4)"
   ]
  },
  {
   "cell_type": "code",
   "execution_count": 121,
   "metadata": {},
   "outputs": [
    {
     "name": "stdout",
     "output_type": "stream",
     "text": [
      "\n",
      "4-Queen Solution:: \n",
      "\n",
      "0 0 1 0 \n",
      "0 0 0 1 \n",
      "0 0 0 1 \n",
      "1 0 0 0 \n"
     ]
    }
   ],
   "source": [
    "printSolution(board,4)"
   ]
  },
  {
   "cell_type": "code",
   "execution_count": null,
   "metadata": {},
   "outputs": [],
   "source": []
  }
 ],
 "metadata": {
  "kernelspec": {
   "display_name": "Python 3",
   "language": "python",
   "name": "python3"
  },
  "language_info": {
   "codemirror_mode": {
    "name": "ipython",
    "version": 3
   },
   "file_extension": ".py",
   "mimetype": "text/x-python",
   "name": "python",
   "nbconvert_exporter": "python",
   "pygments_lexer": "ipython3",
   "version": "3.7.4"
  }
 },
 "nbformat": 4,
 "nbformat_minor": 2
}
