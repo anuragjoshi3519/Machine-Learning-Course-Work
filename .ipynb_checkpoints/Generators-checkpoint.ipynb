{
 "cells": [
  {
   "cell_type": "markdown",
   "metadata": {},
   "source": [
    "# iterable class (also iterater)"
   ]
  },
  {
   "cell_type": "code",
   "execution_count": 39,
   "metadata": {},
   "outputs": [],
   "source": [
    "class getRange:\n",
    "    def __init__(self,n):\n",
    "        self.i=2\n",
    "        self.n=n\n",
    "        \n",
    "    def __iter__(self): #magic function , whenever this class object is used as an iterable then the __iter__() will return an iterater object to iterate as per the __next__() function\n",
    "        return self\n",
    "    \n",
    "    def __next__(self):\n",
    "        if self.i<self.n:\n",
    "            self.i+=1\n",
    "            return self.i\n",
    "        else:\n",
    "            raise StopIteration()\n",
    "        \n",
    "for i in getRange(10):\n",
    "    print(i)        "
   ]
  },
  {
   "cell_type": "code",
   "execution_count": 451,
   "metadata": {},
   "outputs": [
    {
     "name": "stdout",
     "output_type": "stream",
     "text": [
      "1 2 3 4 5 6 7 8 9 10 11 12 13 "
     ]
    }
   ],
   "source": [
    "class getRange2:\n",
    "    def __init__(self,n):\n",
    "        self.n=n\n",
    "        \n",
    "    def __iter__(self):\n",
    "        return getRangeIter(self.n)\n",
    "    \n",
    "class getRangeIter:\n",
    "    def __init__(self,n):\n",
    "        self.i=0\n",
    "        self.n=n\n",
    "    def __next__(self):\n",
    "        if self.i<self.n:\n",
    "            self.i+=1\n",
    "            return self.i\n",
    "        else:\n",
    "            raise StopIteration()\n",
    "\n",
    "iterator=getRange2(13)\n",
    "for i in iterator:\n",
    "    print(i,end=' ')\n",
    "       "
   ]
  },
  {
   "cell_type": "code",
   "execution_count": 459,
   "metadata": {},
   "outputs": [
    {
     "name": "stdout",
     "output_type": "stream",
     "text": [
      "1 2 3 4 5 6 7 8 9 10 11 12 13 14 15 "
     ]
    }
   ],
   "source": [
    "it=getRange2(15).__iter__() \n",
    "for _ in range(15):\n",
    "    print(next(it),end=' ')"
   ]
  },
  {
   "cell_type": "markdown",
   "metadata": {},
   "source": [
    "# Generator Function"
   ]
  },
  {
   "cell_type": "code",
   "execution_count": 425,
   "metadata": {},
   "outputs": [],
   "source": [
    "class fib:\n",
    "    def __init__(self):\n",
    "        self.curr=1\n",
    "        self.prev=0\n",
    "    def __iter__(self):\n",
    "        return self\n",
    "    def __next__(self):\n",
    "        while True:\n",
    "            self.curr,self.prev = self.curr+self.prev, self.curr\n",
    "            return self.prev\n",
    "i=fib() "
   ]
  },
  {
   "cell_type": "code",
   "execution_count": 426,
   "metadata": {},
   "outputs": [
    {
     "data": {
      "text/plain": [
       "1"
      ]
     },
     "execution_count": 426,
     "metadata": {},
     "output_type": "execute_result"
    }
   ],
   "source": [
    "next(i)"
   ]
  },
  {
   "cell_type": "code",
   "execution_count": 114,
   "metadata": {},
   "outputs": [],
   "source": [
    "#Generator Function\n",
    "\n",
    "def fibGenerator():\n",
    "    prev,curr=0,1\n",
    "    while True:\n",
    "        yield prev\n",
    "        curr,prev = curr+prev, curr\n",
    "j=fibGenerator()"
   ]
  },
  {
   "cell_type": "code",
   "execution_count": 122,
   "metadata": {},
   "outputs": [
    {
     "data": {
      "text/plain": [
       "13"
      ]
     },
     "execution_count": 122,
     "metadata": {},
     "output_type": "execute_result"
    }
   ],
   "source": [
    "next(j)"
   ]
  },
  {
   "cell_type": "markdown",
   "metadata": {},
   "source": [
    "# Generator Expression"
   ]
  },
  {
   "cell_type": "code",
   "execution_count": 124,
   "metadata": {},
   "outputs": [],
   "source": [
    "gen = (x**3 for x in range(1,100))      #creates generator, not list comprehension like [x for x in range(10)]"
   ]
  },
  {
   "cell_type": "code",
   "execution_count": 128,
   "metadata": {},
   "outputs": [
    {
     "data": {
      "text/plain": [
       "64"
      ]
     },
     "execution_count": 128,
     "metadata": {},
     "output_type": "execute_result"
    }
   ],
   "source": [
    "next(gen)"
   ]
  },
  {
   "cell_type": "code",
   "execution_count": 495,
   "metadata": {},
   "outputs": [
    {
     "data": {
      "text/plain": [
       "generator"
      ]
     },
     "execution_count": 495,
     "metadata": {},
     "output_type": "execute_result"
    }
   ],
   "source": [
    "type(gen)"
   ]
  },
  {
   "cell_type": "code",
   "execution_count": null,
   "metadata": {},
   "outputs": [],
   "source": []
  }
 ],
 "metadata": {
  "kernelspec": {
   "display_name": "Python 3",
   "language": "python",
   "name": "python3"
  },
  "language_info": {
   "codemirror_mode": {
    "name": "ipython",
    "version": 3
   },
   "file_extension": ".py",
   "mimetype": "text/x-python",
   "name": "python",
   "nbconvert_exporter": "python",
   "pygments_lexer": "ipython3",
   "version": "3.7.2"
  }
 },
 "nbformat": 4,
 "nbformat_minor": 2
}
