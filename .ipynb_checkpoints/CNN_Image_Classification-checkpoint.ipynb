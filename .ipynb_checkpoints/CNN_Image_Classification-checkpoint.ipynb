{
 "cells": [
  {
   "cell_type": "markdown",
   "metadata": {
    "colab_type": "text",
    "id": "view-in-github"
   },
   "source": [
    "<a href=\"https://colab.research.google.com/github/anuragjoshi3519/Machine-Learning-Course-Work/blob/master/CNN_Image_Classification.ipynb\" target=\"_parent\"><img src=\"https://colab.research.google.com/assets/colab-badge.svg\" alt=\"Open In Colab\"/></a>"
   ]
  },
  {
   "cell_type": "code",
   "execution_count": 0,
   "metadata": {
    "colab": {},
    "colab_type": "code",
    "id": "uB7yUefg2zSr"
   },
   "outputs": [],
   "source": [
    "import random\n",
    "import os,shutil\n",
    "import numpy as np\n",
    "from pathlib import Path\n",
    "import matplotlib.pyplot as plt\n",
    "from sklearn.model_selection import train_test_split\n",
    "\n",
    "from keras.layers import *\n",
    "from keras import optimizers\n",
    "from keras.utils import np_utils\n",
    "from keras.models import Sequential\n",
    "from keras.preprocessing import image"
   ]
  },
  {
   "cell_type": "code",
   "execution_count": 0,
   "metadata": {
    "colab": {},
    "colab_type": "code",
    "id": "L79IJ0Do5zad"
   },
   "outputs": [],
   "source": [
    "!wget https://www.dropbox.com/s/hpinjwqeoi4l9cp/images.zip?dl=1\n",
    "!unzip images.zip?dl=1"
   ]
  },
  {
   "cell_type": "code",
   "execution_count": 0,
   "metadata": {
    "colab": {},
    "colab_type": "code",
    "id": "7JF7boGAiDIy"
   },
   "outputs": [],
   "source": [
    "## Creating Validation DataSet\n",
    "\n",
    "#shutil.rmtree('val_images')\n",
    "\n",
    "if not os.path.isdir('val_images'):\n",
    "  os.mkdir('val_images')\n",
    "\n",
    "classes=['dogs','cats','horses','humans']\n",
    "\n",
    "for c in classes:\n",
    "  p=os.path.join('val_images',c)\n",
    "  if not os.path.isdir('val_images'):\n",
    "    os.mkdir(p)\n",
    "\n",
    "SPLIT=0.8\n",
    "for f in os.listdir('images'):\n",
    "  path='images/'+f\n",
    "  split_size=int(SPLIT*len(os.listdir(path)))\n",
    "  files_to_move=os.listdir(path)[split_size:]\n",
    "\n",
    "  for img in files_to_move:\n",
    "    src=os.path.join(path,img)\n",
    "    dest=os.path.join('val_images/'+f,img)\n",
    "    shutil.move(src,dest)"
   ]
  },
  {
   "cell_type": "code",
   "execution_count": 197,
   "metadata": {
    "colab": {
     "base_uri": "https://localhost:8080/",
     "height": 158
    },
    "colab_type": "code",
    "id": "p5kcU98tnPgn",
    "outputId": "8b8f4fab-ccc2-4a57-d234-d225e79e75b0"
   },
   "outputs": [
    {
     "name": "stdout",
     "output_type": "stream",
     "text": [
      "dogs - 161\n",
      "horses - 161\n",
      "cats - 161\n",
      "humans - 161\n",
      "dogs - 41\n",
      "horses - 41\n",
      "cats - 41\n",
      "humans - 41\n"
     ]
    }
   ],
   "source": [
    "## train data\n",
    "for item in os.listdir('images'):\n",
    "  print(\"{} - {}\".format(item,len(os.listdir('images/'+item))))\n",
    "\n",
    "## validation data\n",
    "for item in os.listdir('val_images'):\n",
    "  print(\"{} - {}\".format(item,len(os.listdir('val_images/'+item))))"
   ]
  },
  {
   "cell_type": "code",
   "execution_count": 198,
   "metadata": {
    "colab": {
     "base_uri": "https://localhost:8080/",
     "height": 52
    },
    "colab_type": "code",
    "id": "daHfP6REOVV2",
    "outputId": "c4dcaa4d-39f2-4723-9a7b-c4494f40c9a0"
   },
   "outputs": [
    {
     "name": "stdout",
     "output_type": "stream",
     "text": [
      "Found 644 images belonging to 4 classes.\n",
      "Found 164 images belonging to 4 classes.\n"
     ]
    }
   ],
   "source": [
    "train_gen = image.ImageDataGenerator(rescale=1.0/255.0)\n",
    "\n",
    "train_generator= train_gen.flow_from_directory(\n",
    "    \"images/\",\n",
    "    target_size=(150,150),\n",
    "    batch_size=32,\n",
    "    class_mode='categorical'\n",
    "    )\n",
    "\n",
    "val_gen = image.ImageDataGenerator(rescale=1.0/255.0)\n",
    "\n",
    "val_generator= train_gen.flow_from_directory(\n",
    "    \"val_images/\",\n",
    "    target_size=(150,150),\n",
    "    batch_size=32,\n",
    "    class_mode='categorical'\n",
    "    )\n",
    "#x,y=train_generator.next()"
   ]
  },
  {
   "cell_type": "code",
   "execution_count": 230,
   "metadata": {
    "colab": {
     "base_uri": "https://localhost:8080/",
     "height": 618
    },
    "colab_type": "code",
    "id": "7G_QMj5jO2zC",
    "outputId": "86a81cc0-8d15-4cd7-97b3-0e63de37be36"
   },
   "outputs": [
    {
     "name": "stdout",
     "output_type": "stream",
     "text": [
      "Model: \"sequential_31\"\n",
      "_________________________________________________________________\n",
      "Layer (type)                 Output Shape              Param #   \n",
      "=================================================================\n",
      "conv2d_142 (Conv2D)          (None, 148, 148, 32)      896       \n",
      "_________________________________________________________________\n",
      "max_pooling2d_139 (MaxPoolin (None, 74, 74, 32)        0         \n",
      "_________________________________________________________________\n",
      "conv2d_143 (Conv2D)          (None, 72, 72, 64)        18496     \n",
      "_________________________________________________________________\n",
      "dropout_45 (Dropout)         (None, 72, 72, 64)        0         \n",
      "_________________________________________________________________\n",
      "max_pooling2d_140 (MaxPoolin (None, 36, 36, 64)        0         \n",
      "_________________________________________________________________\n",
      "conv2d_144 (Conv2D)          (None, 34, 34, 128)       73856     \n",
      "_________________________________________________________________\n",
      "max_pooling2d_141 (MaxPoolin (None, 17, 17, 128)       0         \n",
      "_________________________________________________________________\n",
      "conv2d_145 (Conv2D)          (None, 15, 15, 128)       147584    \n",
      "_________________________________________________________________\n",
      "dropout_46 (Dropout)         (None, 15, 15, 128)       0         \n",
      "_________________________________________________________________\n",
      "max_pooling2d_142 (MaxPoolin (None, 7, 7, 128)         0         \n",
      "_________________________________________________________________\n",
      "flatten_27 (Flatten)         (None, 6272)              0         \n",
      "_________________________________________________________________\n",
      "dense_57 (Dense)             (None, 64)                401472    \n",
      "_________________________________________________________________\n",
      "dense_58 (Dense)             (None, 4)                 260       \n",
      "=================================================================\n",
      "Total params: 642,564\n",
      "Trainable params: 642,564\n",
      "Non-trainable params: 0\n",
      "_________________________________________________________________\n"
     ]
    }
   ],
   "source": [
    "## creating model\n",
    "\n",
    "model=Sequential()\n",
    "model.add(Conv2D(32,(3,3),activation='relu',input_shape=(150,150,3)))\n",
    "model.add(MaxPool2D((2,2)))\n",
    "model.add(Conv2D(64,(3,3),activation='relu'))\n",
    "model.add(Dropout(rate=0.3))\n",
    "model.add(MaxPool2D((2,2)))\n",
    "model.add(Conv2D(128,(3,3),activation='relu'))\n",
    "model.add(MaxPool2D((2,2)))\n",
    "model.add(Conv2D(128,(3,3),activation='relu'))\n",
    "model.add(Dropout(rate=0.3))\n",
    "model.add(MaxPool2D((2,2)))\n",
    "# model.add(Conv2D(128,(3,3),activation='relu'))\n",
    "# model.add(MaxPool2D((2,2)))\n",
    "model.add(Flatten())\n",
    "model.add(Dense(64,activation='relu'))\n",
    "model.add(Dense(4,activation='softmax'))\n",
    "model.summary()\n",
    "\n",
    "adam=optimizers.adam(lr=0.0001)"
   ]
  },
  {
   "cell_type": "code",
   "execution_count": 0,
   "metadata": {
    "colab": {},
    "colab_type": "code",
    "id": "PNDFRFsqPE7g"
   },
   "outputs": [],
   "source": [
    "model.compile(optimizer=adam,loss='categorical_crossentropy',metrics=['accuracy'])"
   ]
  },
  {
   "cell_type": "code",
   "execution_count": 0,
   "metadata": {
    "colab": {},
    "colab_type": "code",
    "id": "EnRgTktCPWcW"
   },
   "outputs": [],
   "source": [
    "history=model.fit_generator(train_generator,epochs=50,steps_per_epoch=23,validation_data=val_generator,validation_steps=6)"
   ]
  },
  {
   "cell_type": "code",
   "execution_count": 226,
   "metadata": {
    "colab": {
     "base_uri": "https://localhost:8080/",
     "height": 545
    },
    "colab_type": "code",
    "id": "cF2lLNo0UTcM",
    "outputId": "f598d22c-b3be-480a-dc21-51c4734b75c5"
   },
   "outputs": [
    {
     "data": {
      "image/png": "[encoded data removed]",
      "text/plain": [
       "<Figure size 432x288 with 1 Axes>"
      ]
     },
     "metadata": {
      "tags": []
     },
     "output_type": "display_data"
    },
    {
     "data": {
      "image/png": "[encoded data removed]",
      "text/plain": [
       "<Figure size 432x288 with 1 Axes>"
      ]
     },
     "metadata": {
      "tags": []
     },
     "output_type": "display_data"
    }
   ],
   "source": [
    "plt.title('Accuracy')\n",
    "plt.plot(history.history['acc'],label='train')\n",
    "plt.plot(history.history['val_acc'],label='validation')\n",
    "plt.legend()\n",
    "plt.show()\n",
    "\n",
    "plt.title('Loss')\n",
    "plt.plot(history.history['loss'],label='train')\n",
    "plt.plot(history.history['val_loss'],label='validation')\n",
    "plt.legend()\n",
    "plt.show()"
   ]
  },
  {
   "cell_type": "markdown",
   "metadata": {
    "colab_type": "text",
    "id": "vTg9AM-1UXxZ"
   },
   "source": [
    "## Manually"
   ]
  },
  {
   "cell_type": "code",
   "execution_count": 0,
   "metadata": {
    "colab": {},
    "colab_type": "code",
    "id": "LMPJygevSOV2"
   },
   "outputs": [],
   "source": [
    "def getImageData(path):\n",
    "    p = Path(path)\n",
    "    dirs= p.glob('*')\n",
    "\n",
    "    label_dict={'cat':0,'dog':1,'horse':2,'human':3}\n",
    "    labels=[]\n",
    "    image_data=[]\n",
    "    \n",
    "    for folder in dirs:\n",
    "        label = str(folder).split('/')[-1][:-1]\n",
    "        for img_path in folder.glob('*.jpg'):\n",
    "            img=image.load_img(str(img_path),target_size=(150,150))\n",
    "            img=image.img_to_array(img)/255.0\n",
    "\n",
    "            image_data.append(img)\n",
    "            labels.append(label_dict[label])\n",
    "\n",
    "    image_data=np.array(image_data)\n",
    "    labels=np.array(labels)\n",
    "\n",
    "    ## Random Shuffling of image_data and labels\n",
    "\n",
    "    image_with_label= list(zip(image_data,labels))  ## zip\n",
    "    random.shuffle(image_with_label)\n",
    "    image_data[:],labels[:]=zip(*image_with_label)  #unzip\n",
    "    \n",
    "    return image_data,labels,label_dict\n",
    "\n",
    "image_data,labels,label_dict = getImageData('images/')\n",
    "labels=np_utils.to_categorical(labels)\n",
    "\n",
    "#train_X,test_X,train_Y,test_Y = train_test_split(image_data,labels,test_size=0.2)"
   ]
  },
  {
   "cell_type": "code",
   "execution_count": 232,
   "metadata": {
    "colab": {
     "base_uri": "https://localhost:8080/",
     "height": 1000
    },
    "colab_type": "code",
    "id": "_RS9IaoTzAxm",
    "outputId": "2f216c9b-c5f8-4323-83ff-249f6b83f2c0"
   },
   "outputs": [
    {
     "name": "stdout",
     "output_type": "stream",
     "text": [
      "Train on 515 samples, validate on 129 samples\n",
      "Epoch 1/50\n",
      "515/515 [==============================] - 4s 7ms/step - loss: 1.4006 - acc: 0.2136 - val_loss: 1.3871 - val_acc: 0.2326\n",
      "Epoch 2/50\n",
      "515/515 [==============================] - 1s 2ms/step - loss: 1.3763 - acc: 0.2718 - val_loss: 1.3874 - val_acc: 0.2713\n",
      "Epoch 3/50\n",
      "515/515 [==============================] - 1s 2ms/step - loss: 1.3602 - acc: 0.3087 - val_loss: 1.3833 - val_acc: 0.2713\n",
      "Epoch 4/50\n",
      "515/515 [==============================] - 1s 2ms/step - loss: 1.3466 - acc: 0.3379 - val_loss: 1.3837 - val_acc: 0.3256\n",
      "Epoch 5/50\n",
      "515/515 [==============================] - 1s 2ms/step - loss: 1.3008 - acc: 0.3961 - val_loss: 1.4024 - val_acc: 0.3101\n",
      "Epoch 6/50\n",
      "515/515 [==============================] - 1s 2ms/step - loss: 1.2790 - acc: 0.3981 - val_loss: 1.3855 - val_acc: 0.3411\n",
      "Epoch 7/50\n",
      "515/515 [==============================] - 1s 2ms/step - loss: 1.2366 - acc: 0.4485 - val_loss: 1.3970 - val_acc: 0.3256\n",
      "Epoch 8/50\n",
      "515/515 [==============================] - 1s 2ms/step - loss: 1.2269 - acc: 0.4485 - val_loss: 1.4096 - val_acc: 0.3411\n",
      "Epoch 9/50\n",
      "515/515 [==============================] - 1s 2ms/step - loss: 1.2344 - acc: 0.4291 - val_loss: 1.4210 - val_acc: 0.3023\n",
      "Epoch 10/50\n",
      "515/515 [==============================] - 1s 2ms/step - loss: 1.2135 - acc: 0.4602 - val_loss: 1.3837 - val_acc: 0.3178\n",
      "Epoch 11/50\n",
      "515/515 [==============================] - 1s 2ms/step - loss: 1.1815 - acc: 0.5029 - val_loss: 1.4070 - val_acc: 0.3411\n",
      "Epoch 12/50\n",
      "515/515 [==============================] - 1s 2ms/step - loss: 1.1422 - acc: 0.5184 - val_loss: 1.4017 - val_acc: 0.3566\n",
      "Epoch 13/50\n",
      "515/515 [==============================] - 1s 2ms/step - loss: 1.1345 - acc: 0.5165 - val_loss: 1.3915 - val_acc: 0.3333\n",
      "Epoch 14/50\n",
      "515/515 [==============================] - 1s 2ms/step - loss: 1.1016 - acc: 0.5379 - val_loss: 1.4109 - val_acc: 0.3488\n",
      "Epoch 15/50\n",
      "515/515 [==============================] - 1s 2ms/step - loss: 1.0842 - acc: 0.5320 - val_loss: 1.4051 - val_acc: 0.3643\n",
      "Epoch 16/50\n",
      "515/515 [==============================] - 1s 2ms/step - loss: 1.0623 - acc: 0.5592 - val_loss: 1.3939 - val_acc: 0.3488\n",
      "Epoch 17/50\n",
      "515/515 [==============================] - 1s 2ms/step - loss: 1.0602 - acc: 0.5456 - val_loss: 1.3904 - val_acc: 0.3798\n",
      "Epoch 18/50\n",
      "515/515 [==============================] - 1s 2ms/step - loss: 1.0552 - acc: 0.5495 - val_loss: 1.4139 - val_acc: 0.3643\n",
      "Epoch 19/50\n",
      "515/515 [==============================] - 1s 2ms/step - loss: 1.0569 - acc: 0.5282 - val_loss: 1.4189 - val_acc: 0.3566\n",
      "Epoch 20/50\n",
      "515/515 [==============================] - 1s 2ms/step - loss: 1.0277 - acc: 0.5806 - val_loss: 1.3900 - val_acc: 0.3721\n",
      "Epoch 21/50\n",
      "515/515 [==============================] - 1s 2ms/step - loss: 1.0122 - acc: 0.5612 - val_loss: 1.4081 - val_acc: 0.3798\n",
      "Epoch 22/50\n",
      "515/515 [==============================] - 1s 2ms/step - loss: 0.9866 - acc: 0.5981 - val_loss: 1.4113 - val_acc: 0.3876\n",
      "Epoch 23/50\n",
      "515/515 [==============================] - 1s 2ms/step - loss: 0.9660 - acc: 0.6117 - val_loss: 1.4007 - val_acc: 0.3643\n",
      "Epoch 24/50\n",
      "515/515 [==============================] - 1s 2ms/step - loss: 0.9773 - acc: 0.5864 - val_loss: 1.4231 - val_acc: 0.3798\n",
      "Epoch 25/50\n",
      "515/515 [==============================] - 1s 2ms/step - loss: 0.9361 - acc: 0.5942 - val_loss: 1.4162 - val_acc: 0.3876\n",
      "Epoch 26/50\n",
      "515/515 [==============================] - 1s 2ms/step - loss: 0.9274 - acc: 0.6136 - val_loss: 1.3843 - val_acc: 0.3721\n",
      "Epoch 27/50\n",
      "515/515 [==============================] - 1s 2ms/step - loss: 0.9542 - acc: 0.6019 - val_loss: 1.4288 - val_acc: 0.3256\n",
      "Epoch 28/50\n",
      "515/515 [==============================] - 1s 2ms/step - loss: 0.9294 - acc: 0.6078 - val_loss: 1.4449 - val_acc: 0.3721\n",
      "Epoch 29/50\n",
      "515/515 [==============================] - 1s 2ms/step - loss: 0.9441 - acc: 0.5709 - val_loss: 1.3904 - val_acc: 0.3488\n",
      "Epoch 30/50\n",
      "515/515 [==============================] - 1s 2ms/step - loss: 0.9107 - acc: 0.6058 - val_loss: 1.4089 - val_acc: 0.3566\n",
      "Epoch 31/50\n",
      "515/515 [==============================] - 1s 2ms/step - loss: 0.8849 - acc: 0.6330 - val_loss: 1.4392 - val_acc: 0.3643\n",
      "Epoch 32/50\n",
      "515/515 [==============================] - 1s 2ms/step - loss: 0.8690 - acc: 0.6330 - val_loss: 1.4695 - val_acc: 0.3721\n",
      "Epoch 33/50\n",
      "515/515 [==============================] - 1s 2ms/step - loss: 0.8573 - acc: 0.6350 - val_loss: 1.4262 - val_acc: 0.3876\n",
      "Epoch 34/50\n",
      "515/515 [==============================] - 1s 2ms/step - loss: 0.8755 - acc: 0.6194 - val_loss: 1.4208 - val_acc: 0.3721\n",
      "Epoch 35/50\n",
      "515/515 [==============================] - 1s 2ms/step - loss: 0.8361 - acc: 0.6427 - val_loss: 1.4629 - val_acc: 0.3721\n",
      "Epoch 36/50\n",
      "515/515 [==============================] - 1s 2ms/step - loss: 0.9219 - acc: 0.5922 - val_loss: 1.4420 - val_acc: 0.3876\n",
      "Epoch 37/50\n",
      "515/515 [==============================] - 1s 2ms/step - loss: 0.8850 - acc: 0.5903 - val_loss: 1.4228 - val_acc: 0.3798\n",
      "Epoch 38/50\n",
      "515/515 [==============================] - 1s 2ms/step - loss: 0.8191 - acc: 0.6408 - val_loss: 1.4994 - val_acc: 0.3953\n",
      "Epoch 39/50\n",
      "515/515 [==============================] - 1s 2ms/step - loss: 0.8230 - acc: 0.6583 - val_loss: 1.4798 - val_acc: 0.4031\n",
      "Epoch 40/50\n",
      "515/515 [==============================] - 1s 2ms/step - loss: 0.8309 - acc: 0.6330 - val_loss: 1.4601 - val_acc: 0.3953\n",
      "Epoch 41/50\n",
      "515/515 [==============================] - 1s 2ms/step - loss: 0.7774 - acc: 0.6524 - val_loss: 1.4780 - val_acc: 0.3876\n",
      "Epoch 42/50\n",
      "515/515 [==============================] - 1s 2ms/step - loss: 0.7796 - acc: 0.6388 - val_loss: 1.5083 - val_acc: 0.3643\n",
      "Epoch 43/50\n",
      "515/515 [==============================] - 1s 2ms/step - loss: 0.8063 - acc: 0.6214 - val_loss: 1.4843 - val_acc: 0.3643\n",
      "Epoch 44/50\n",
      "515/515 [==============================] - 1s 2ms/step - loss: 0.7936 - acc: 0.6350 - val_loss: 1.4911 - val_acc: 0.3488\n",
      "Epoch 45/50\n",
      "515/515 [==============================] - 1s 2ms/step - loss: 0.8233 - acc: 0.6175 - val_loss: 1.5747 - val_acc: 0.3256\n",
      "Epoch 46/50\n",
      "515/515 [==============================] - 1s 2ms/step - loss: 0.7957 - acc: 0.6350 - val_loss: 1.4974 - val_acc: 0.3566\n",
      "Epoch 47/50\n",
      "515/515 [==============================] - 1s 2ms/step - loss: 0.7634 - acc: 0.6466 - val_loss: 1.4967 - val_acc: 0.3953\n",
      "Epoch 48/50\n",
      "515/515 [==============================] - 1s 2ms/step - loss: 0.7409 - acc: 0.6447 - val_loss: 1.5221 - val_acc: 0.3643\n",
      "Epoch 49/50\n",
      "515/515 [==============================] - 1s 2ms/step - loss: 0.7944 - acc: 0.6039 - val_loss: 1.5433 - val_acc: 0.3101\n",
      "Epoch 50/50\n",
      "515/515 [==============================] - 1s 2ms/step - loss: 0.7310 - acc: 0.6388 - val_loss: 1.5701 - val_acc: 0.3488\n"
     ]
    }
   ],
   "source": [
    "hist=model.fit(image_data,labels,batch_size=32,epochs=50,validation_split=0.2)"
   ]
  },
  {
   "cell_type": "code",
   "execution_count": 233,
   "metadata": {
    "colab": {
     "base_uri": "https://localhost:8080/",
     "height": 545
    },
    "colab_type": "code",
    "id": "XP8al5HyUBxc",
    "outputId": "302ad295-852f-454d-ad85-5c47ceae554b"
   },
   "outputs": [
    {
     "data": {
      "image/png": "[encoded data removed]",
      "text/plain": [
       "<Figure size 432x288 with 1 Axes>"
      ]
     },
     "metadata": {
      "tags": []
     },
     "output_type": "display_data"
    },
    {
     "data": {
      "image/png": "[encoded data removed]",
      "text/plain": [
       "<Figure size 432x288 with 1 Axes>"
      ]
     },
     "metadata": {
      "tags": []
     },
     "output_type": "display_data"
    }
   ],
   "source": [
    "plt.title('Accuracy')\n",
    "plt.plot(hist.history['acc'],label='train')\n",
    "plt.plot(hist.history['val_acc'],label='validation')\n",
    "plt.legend()\n",
    "plt.show()\n",
    "\n",
    "plt.title('Loss')\n",
    "plt.plot(hist.history['loss'],label='train')\n",
    "plt.plot(hist.history['val_loss'],label='validation')\n",
    "plt.legend()\n",
    "plt.show()"
   ]
  },
  {
   "cell_type": "code",
   "execution_count": 0,
   "metadata": {
    "colab": {},
    "colab_type": "code",
    "id": "Qmx1SzSV4FYp"
   },
   "outputs": [],
   "source": []
  }
 ],
 "metadata": {
  "accelerator": "GPU",
  "colab": {
   "include_colab_link": true,
   "name": "CNN- Image Classification",
   "provenance": []
  },
  "kernelspec": {
   "display_name": "Python 3",
   "language": "python",
   "name": "python3"
  },
  "language_info": {
   "codemirror_mode": {
    "name": "ipython",
    "version": 3
   },
   "file_extension": ".py",
   "mimetype": "text/x-python",
   "name": "python",
   "nbconvert_exporter": "python",
   "pygments_lexer": "ipython3",
   "version": "3.7.4"
  }
 },
 "nbformat": 4,
 "nbformat_minor": 1
}
