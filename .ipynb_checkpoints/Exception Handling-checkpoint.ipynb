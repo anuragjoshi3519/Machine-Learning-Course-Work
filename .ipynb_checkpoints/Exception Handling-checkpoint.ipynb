{
 "cells": [
  {
   "cell_type": "markdown",
   "metadata": {},
   "source": [
    "# Exception Handling"
   ]
  },
  {
   "cell_type": "code",
   "execution_count": 11,
   "metadata": {},
   "outputs": [
    {
     "name": "stdout",
     "output_type": "stream",
     "text": [
      "Enter Your Name: jbnkj\n",
      "No error in try block\n",
      "I always run.\n"
     ]
    }
   ],
   "source": [
    "try:\n",
    "    #f=open(\"file24.txt\",\"r\")  # will throw FileNotFoundError exception\n",
    "    #a=10/0     # will throw ZeroDivisionError exception \n",
    "    # a=b      # will throw NameError exception\n",
    "    name=input(\"Enter Your Name: \")\n",
    "    if(len(name)<4):\n",
    "        raise Exception\n",
    "        \n",
    "except FileNotFoundError :               # specific Exception\n",
    "    print(\"no file with this name\")\n",
    "    \n",
    "except NameError:    \n",
    "    print(Exception)\n",
    "    \n",
    "except ZeroDivisionError:\n",
    "    print(\"Can't divide by 0\")\n",
    "    print(ZeroDivisionError)\n",
    "    \n",
    "except Exception:                      # for all exception other than listed above  (general exception class)\n",
    "    print(\"Please Enter a valid name\")\n",
    "    \n",
    "else:\n",
    "    print(\"No error in try block\")\n",
    "\n",
    "finally:\n",
    "    print(\"I always run.\")\n",
    "        "
   ]
  },
  {
   "cell_type": "code",
   "execution_count": null,
   "metadata": {},
   "outputs": [],
   "source": []
  }
 ],
 "metadata": {
  "kernelspec": {
   "display_name": "Python 3",
   "language": "python",
   "name": "python3"
  },
  "language_info": {
   "codemirror_mode": {
    "name": "ipython",
    "version": 3
   },
   "file_extension": ".py",
   "mimetype": "text/x-python",
   "name": "python",
   "nbconvert_exporter": "python",
   "pygments_lexer": "ipython3",
   "version": "3.7.2"
  }
 },
 "nbformat": 4,
 "nbformat_minor": 2
}
