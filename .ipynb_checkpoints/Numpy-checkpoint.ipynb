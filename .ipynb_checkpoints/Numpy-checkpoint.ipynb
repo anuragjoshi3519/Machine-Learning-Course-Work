{
 "cells": [
  {
   "cell_type": "code",
   "execution_count": 1,
   "metadata": {},
   "outputs": [],
   "source": [
    "import numpy as np"
   ]
  },
  {
   "cell_type": "code",
   "execution_count": 2,
   "metadata": {},
   "outputs": [
    {
     "name": "stdout",
     "output_type": "stream",
     "text": [
      "[[5 5 5 5]\n",
      " [5 5 5 5]\n",
      " [5 5 5 5]]\n"
     ]
    }
   ],
   "source": [
    "arrOf5=np.full((3,4),5)\n",
    "print(arrOf5)"
   ]
  },
  {
   "cell_type": "code",
   "execution_count": 5,
   "metadata": {},
   "outputs": [
    {
     "name": "stdout",
     "output_type": "stream",
     "text": [
      "[[1. 1. 1. 1. 1.]\n",
      " [1. 1. 1. 1. 1.]\n",
      " [1. 1. 1. 1. 1.]\n",
      " [1. 1. 1. 1. 1.]]\n"
     ]
    }
   ],
   "source": [
    "print(np.ones((4,5)))"
   ]
  },
  {
   "cell_type": "code",
   "execution_count": 8,
   "metadata": {},
   "outputs": [
    {
     "name": "stdout",
     "output_type": "stream",
     "text": [
      "[[0. 0. 0. 0.]\n",
      " [0. 0. 0. 0.]\n",
      " [0. 0. 0. 0.]\n",
      " [0. 0. 0. 0.]]\n"
     ]
    }
   ],
   "source": [
    "print(np.zeros((4,4)))"
   ]
  },
  {
   "cell_type": "code",
   "execution_count": 10,
   "metadata": {},
   "outputs": [
    {
     "name": "stdout",
     "output_type": "stream",
     "text": [
      "[[1. 0. 0. 0. 0. 0.]\n",
      " [0. 1. 0. 0. 0. 0.]\n",
      " [0. 0. 1. 0. 0. 0.]\n",
      " [0. 0. 0. 1. 0. 0.]\n",
      " [0. 0. 0. 0. 1. 0.]\n",
      " [0. 0. 0. 0. 0. 1.]]\n"
     ]
    }
   ],
   "source": [
    "#identity matrix (always square)\n",
    "identity = np.eye(6)\n",
    "print(identity)"
   ]
  },
  {
   "cell_type": "code",
   "execution_count": 13,
   "metadata": {},
   "outputs": [],
   "source": [
    "randomMatrix = np.random.random((3,4))*10//1"
   ]
  },
  {
   "cell_type": "code",
   "execution_count": 14,
   "metadata": {},
   "outputs": [
    {
     "name": "stdout",
     "output_type": "stream",
     "text": [
      "[[4. 4. 9. 2.]\n",
      " [8. 7. 5. 2.]\n",
      " [3. 7. 1. 8.]]\n"
     ]
    }
   ],
   "source": [
    "print(randomMatrix)"
   ]
  },
  {
   "cell_type": "code",
   "execution_count": 19,
   "metadata": {},
   "outputs": [
    {
     "name": "stdout",
     "output_type": "stream",
     "text": [
      "[[99.  4.  9.  2.]\n",
      " [99.  4.  4.  4.]\n",
      " [99.  1.  1.  1.]]\n"
     ]
    }
   ],
   "source": [
    "randomMatrix[2 , 1:4]=1\n",
    "print(randomMatrix)"
   ]
  },
  {
   "cell_type": "code",
   "execution_count": 20,
   "metadata": {},
   "outputs": [
    {
     "name": "stdout",
     "output_type": "stream",
     "text": [
      "[[99.  4.  9.  2.]\n",
      " [ 4.  4.  4.  4.]\n",
      " [99.  1.  1.  1.]]\n"
     ]
    }
   ],
   "source": [
    "randomMatrix[1 , :]=4\n",
    "print(randomMatrix)"
   ]
  },
  {
   "cell_type": "code",
   "execution_count": 21,
   "metadata": {},
   "outputs": [
    {
     "name": "stdout",
     "output_type": "stream",
     "text": [
      "[[99.  4.  9.  2.]\n",
      " [99.  4.  4.  4.]\n",
      " [99.  1.  1.  1.]]\n"
     ]
    }
   ],
   "source": [
    "randomMatrix[: ,0]=99\n",
    "print(randomMatrix)"
   ]
  },
  {
   "cell_type": "code",
   "execution_count": 26,
   "metadata": {},
   "outputs": [
    {
     "name": "stdout",
     "output_type": "stream",
     "text": [
      "Addition: \n",
      "[[ 6  8]\n",
      " [10 12]]\n",
      "\n",
      "[[ 6  8]\n",
      " [10 12]]\n",
      "\n",
      "Subtraction: \n",
      "[[-4 -4]\n",
      " [-4 -4]]\n",
      "\n",
      "[[-4 -4]\n",
      " [-4 -4]]\n",
      "\n",
      "Multiplication: \n",
      "[[ 5 12]\n",
      " [21 32]]\n",
      "\n",
      "[[ 5 12]\n",
      " [21 32]]\n",
      "\n",
      "Division: \n",
      "[[0.2        0.33333333]\n",
      " [0.42857143 0.5       ]]\n",
      "\n",
      "[[0.2        0.33333333]\n",
      " [0.42857143 0.5       ]]\n",
      "\n"
     ]
    }
   ],
   "source": [
    "x=np.array( [[1,2],[3,4]] )\n",
    "y=np.array( [[5,6],[7,8]] )\n",
    "\n",
    "print(\"Addition: \")\n",
    "print(x+y,end=\"\\n\\n\")\n",
    "print( np.add(x,y),end='\\n\\n' )\n",
    "\n",
    "print(\"Subtraction: \")\n",
    "print(x-y,end=\"\\n\\n\")\n",
    "print( np.subtract(x,y),end='\\n\\n' )\n",
    "\n",
    "print(\"Multiplication: \")         # element-wise\n",
    "print(x*y,end=\"\\n\\n\")\n",
    "print( np.multiply(x,y),end='\\n\\n' )\n",
    " \n",
    "print(\"Division: \")               # element-wise\n",
    "print(x/y,end=\"\\n\\n\")\n",
    "print( np.divide(x,y),end='\\n\\n' )"
   ]
  },
  {
   "cell_type": "code",
   "execution_count": 58,
   "metadata": {},
   "outputs": [
    {
     "name": "stdout",
     "output_type": "stream",
     "text": [
      "Dot Product: \n",
      "[[19 22]\n",
      " [43 50]]\n",
      "\n",
      "[[19 22]\n",
      " [43 50]]\n",
      "\n"
     ]
    }
   ],
   "source": [
    "# matrix multiplication or Dot product\n",
    "\n",
    "print(\"Dot Product: \")\n",
    "print(x.dot(y),end=\"\\n\\n\")\n",
    "print( np.dot(x,y),end='\\n\\n' )"
   ]
  },
  {
   "cell_type": "code",
   "execution_count": 2,
   "metadata": {},
   "outputs": [
    {
     "name": "stdout",
     "output_type": "stream",
     "text": [
      "70\n"
     ]
    }
   ],
   "source": [
    "# multiplication of vectors => scalar value\n",
    "a=np.array([1,2,3,4])\n",
    "b=np.array([5,6,7,8])\n",
    "print( np.dot(a,b) )\n",
    "\n",
    "#  [1 2 3 4][5]\n",
    "#           [6]\n",
    "#           [7]   = 70\n",
    "#           [8]\n"
   ]
  },
  {
   "cell_type": "code",
   "execution_count": 60,
   "metadata": {},
   "outputs": [
    {
     "name": "stdout",
     "output_type": "stream",
     "text": [
      "10\n"
     ]
    }
   ],
   "source": [
    "print( np.sum(a) )"
   ]
  },
  {
   "cell_type": "code",
   "execution_count": 61,
   "metadata": {},
   "outputs": [
    {
     "name": "stdout",
     "output_type": "stream",
     "text": [
      "26\n"
     ]
    }
   ],
   "source": [
    "print( np.sum(b) )"
   ]
  },
  {
   "cell_type": "code",
   "execution_count": 62,
   "metadata": {},
   "outputs": [
    {
     "name": "stdout",
     "output_type": "stream",
     "text": [
      "[ 6  8 10 12]\n"
     ]
    }
   ],
   "source": [
    "print( np.sum((a,b),axis=0) )"
   ]
  },
  {
   "cell_type": "code",
   "execution_count": 63,
   "metadata": {},
   "outputs": [
    {
     "name": "stdout",
     "output_type": "stream",
     "text": [
      "[10 26]\n"
     ]
    }
   ],
   "source": [
    "print( np.sum((a,b),axis=1) )"
   ]
  },
  {
   "cell_type": "code",
   "execution_count": 7,
   "metadata": {},
   "outputs": [
    {
     "name": "stdout",
     "output_type": "stream",
     "text": [
      "[[1 2 3 4]\n",
      " [5 6 7 8]]\n"
     ]
    }
   ],
   "source": [
    "# Stacking arrays\n",
    "\n",
    "print( np.stack((a,b),axis=0 ))"
   ]
  },
  {
   "cell_type": "code",
   "execution_count": 9,
   "metadata": {},
   "outputs": [
    {
     "name": "stdout",
     "output_type": "stream",
     "text": [
      "[[1 5]\n",
      " [2 6]\n",
      " [3 7]\n",
      " [4 8]]\n"
     ]
    }
   ],
   "source": [
    "arr = np.stack((a,b),axis=1 )\n",
    "print(arr)"
   ]
  },
  {
   "cell_type": "code",
   "execution_count": 69,
   "metadata": {},
   "outputs": [
    {
     "name": "stdout",
     "output_type": "stream",
     "text": [
      "[[1 5 2 6]\n",
      " [3 7 4 8]]\n"
     ]
    }
   ],
   "source": [
    "#reshape\n",
    "reshapedArray=arr.reshape((2,4))\n",
    "print(reshapedArray)"
   ]
  },
  {
   "cell_type": "code",
   "execution_count": 70,
   "metadata": {},
   "outputs": [
    {
     "name": "stdout",
     "output_type": "stream",
     "text": [
      "[1 5 2 6 3 7 4 8]\n"
     ]
    }
   ],
   "source": [
    "brr= arr.reshape((8,))\n",
    "print(brr)"
   ]
  },
  {
   "cell_type": "code",
   "execution_count": 73,
   "metadata": {},
   "outputs": [
    {
     "name": "stdout",
     "output_type": "stream",
     "text": [
      "[[1 5 2 6 3 7 4 8]]\n"
     ]
    }
   ],
   "source": [
    "crr=arr.reshape((-1,8))\n",
    "print(crr)"
   ]
  },
  {
   "cell_type": "code",
   "execution_count": 75,
   "metadata": {},
   "outputs": [
    {
     "name": "stdout",
     "output_type": "stream",
     "text": [
      "[[1]\n",
      " [5]\n",
      " [2]\n",
      " [6]\n",
      " [3]\n",
      " [7]\n",
      " [4]\n",
      " [8]]\n"
     ]
    }
   ],
   "source": [
    "drr=arr.reshape((8,-1))\n",
    "print(drr)"
   ]
  },
  {
   "cell_type": "code",
   "execution_count": 76,
   "metadata": {},
   "outputs": [
    {
     "name": "stdout",
     "output_type": "stream",
     "text": [
      "[[1 5]\n",
      " [2 6]\n",
      " [3 7]\n",
      " [4 8]]\n"
     ]
    }
   ],
   "source": [
    "err=arr.reshape((4,-1))  #  -1 is place holder, reshape will itself decide its value"
   ]
  },
  {
   "cell_type": "markdown",
   "metadata": {},
   "source": [
    "# Norms Calculations"
   ]
  },
  {
   "cell_type": "code",
   "execution_count": 10,
   "metadata": {},
   "outputs": [
    {
     "name": "stdout",
     "output_type": "stream",
     "text": [
      "14.7648230602334\n"
     ]
    }
   ],
   "source": [
    "X=[-5,-7,12]\n",
    "lp2= np.linalg.norm(X)  # L2 norm, default\n",
    "print(lp2)"
   ]
  },
  {
   "cell_type": "code",
   "execution_count": 12,
   "metadata": {},
   "outputs": [
    {
     "name": "stdout",
     "output_type": "stream",
     "text": [
      "24.0\n"
     ]
    }
   ],
   "source": [
    "X=[-5,-7,12]\n",
    "lp1= np.linalg.norm(X,ord=1)\n",
    "print(lp1)"
   ]
  },
  {
   "cell_type": "code",
   "execution_count": 13,
   "metadata": {},
   "outputs": [
    {
     "name": "stdout",
     "output_type": "stream",
     "text": [
      "12.998027314082005\n"
     ]
    }
   ],
   "source": [
    "X=[-5,-7,12]\n",
    "lp3= np.linalg.norm(X,ord=3)\n",
    "print(lp3)"
   ]
  },
  {
   "cell_type": "code",
   "execution_count": 14,
   "metadata": {},
   "outputs": [
    {
     "name": "stdout",
     "output_type": "stream",
     "text": [
      "12.0\n"
     ]
    }
   ],
   "source": [
    "X=[-5,-7,12]\n",
    "lpInf= np.linalg.norm(X,ord=np.inf)\n",
    "print(lpInf)"
   ]
  },
  {
   "cell_type": "code",
   "execution_count": null,
   "metadata": {},
   "outputs": [],
   "source": []
  }
 ],
 "metadata": {
  "kernelspec": {
   "display_name": "Python 3",
   "language": "python",
   "name": "python3"
  },
  "language_info": {
   "codemirror_mode": {
    "name": "ipython",
    "version": 3
   },
   "file_extension": ".py",
   "mimetype": "text/x-python",
   "name": "python",
   "nbconvert_exporter": "python",
   "pygments_lexer": "ipython3",
   "version": "3.7.2"
  }
 },
 "nbformat": 4,
 "nbformat_minor": 2
}
