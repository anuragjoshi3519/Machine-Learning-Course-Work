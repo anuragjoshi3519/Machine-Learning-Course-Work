{
 "cells": [
  {
   "cell_type": "code",
   "execution_count": 1,
   "metadata": {},
   "outputs": [],
   "source": [
    "import numpy as np"
   ]
  },
  {
   "cell_type": "code",
   "execution_count": 115,
   "metadata": {},
   "outputs": [],
   "source": [
    "def getDict(text,k=4):\n",
    "    T={}\n",
    "    word=text[:k]\n",
    "    for i in text[k:]:\n",
    "        if T.get(word) is None:\n",
    "            T[word]={}\n",
    "        if T[word].get(i) is None:\n",
    "            T[word][i]=1\n",
    "        else:\n",
    "            T[word][i]+=1\n",
    "        word=word[1:k]+i\n",
    "    \n",
    "    for w in T.keys():\n",
    "        s=sum(T[w].values())\n",
    "        for i in T[w]:\n",
    "            T[w][i]=T[w][i]/s\n",
    "    \n",
    "    return T\n",
    "\n",
    "def getTextFile(file):\n",
    "    with open(file) as f:\n",
    "        return f.read().lower()\n",
    "\n",
    "model=getDict(getTextFile('mario_cuomo.txt'))\n",
    "\n",
    "def generateText(start_text,model,max_len=500,k=4):\n",
    "    word=start_text[-k:]\n",
    "    sentence=start_text\n",
    "    for i in range(max_len):\n",
    "        choice=np.random.choice(list(model[word].keys()),p=list(model[word].values()))\n",
    "        sentence+=choice\n",
    "        word=word[1:]+choice\n",
    "    return sentence"
   ]
  },
  {
   "cell_type": "code",
   "execution_count": 116,
   "metadata": {},
   "outputs": [],
   "source": [
    "text=generateText('ten ',model,max_len=200,k=4)"
   ]
  },
  {
   "cell_type": "code",
   "execution_count": 117,
   "metadata": {},
   "outputs": [
    {
     "name": "stdout",
     "output_type": "stream",
     "text": [
      "ten beforeign policies; the america.\n",
      "\n",
      "we believe were are or sensus, for not be that the mirrorized for those with bankers for his rights, the probless so-calluses the made bound; more homeless unrests an\n"
     ]
    }
   ],
   "source": [
    "print(text)"
   ]
  },
  {
   "cell_type": "code",
   "execution_count": 92,
   "metadata": {},
   "outputs": [
    {
     "data": {
      "text/plain": [
       "list"
      ]
     },
     "execution_count": 92,
     "metadata": {},
     "output_type": "execute_result"
    }
   ],
   "source": [
    "type(list(model['hazā'].keys()))"
   ]
  },
  {
   "cell_type": "code",
   "execution_count": 122,
   "metadata": {},
   "outputs": [
    {
     "data": {
      "text/plain": [
       "{'g': 1.0}"
      ]
     },
     "execution_count": 122,
     "metadata": {},
     "output_type": "execute_result"
    }
   ],
   "source": [
    "model['orei']"
   ]
  },
  {
   "cell_type": "code",
   "execution_count": null,
   "metadata": {},
   "outputs": [],
   "source": []
  }
 ],
 "metadata": {
  "kernelspec": {
   "display_name": "Python 3",
   "language": "python",
   "name": "python3"
  },
  "language_info": {
   "codemirror_mode": {
    "name": "ipython",
    "version": 3
   },
   "file_extension": ".py",
   "mimetype": "text/x-python",
   "name": "python",
   "nbconvert_exporter": "python",
   "pygments_lexer": "ipython3",
   "version": "3.7.4"
  }
 },
 "nbformat": 4,
 "nbformat_minor": 2
}
