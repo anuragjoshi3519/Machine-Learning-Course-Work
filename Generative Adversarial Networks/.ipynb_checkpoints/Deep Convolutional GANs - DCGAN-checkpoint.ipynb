{
 "cells": [
  {
   "cell_type": "code",
   "execution_count": 1,
   "metadata": {},
   "outputs": [
    {
     "name": "stderr",
     "output_type": "stream",
     "text": [
      "Using TensorFlow backend.\n"
     ]
    }
   ],
   "source": [
    "from keras.datasets import mnist\n",
    "from keras.layers import *\n",
    "from keras.models import Sequential,Model\n",
    "from keras.optimizers import Adam\n",
    "import numpy as np\n",
    "import matplotlib.pyplot as plt"
   ]
  },
  {
   "cell_type": "code",
   "execution_count": 29,
   "metadata": {},
   "outputs": [
    {
     "data": {
      "text/plain": [
       "(60000, 28, 28, 1)"
      ]
     },
     "execution_count": 29,
     "metadata": {},
     "output_type": "execute_result"
    }
   ],
   "source": [
    "(X_train,_),(_,_) = mnist.load_data()      # Loading Mnist Data\n",
    "X_train=XTrain.reshape((*XTrain.shape,1))  # reshaping data\n",
    "X_train=(XTrain-127.5)/127.5               # Normalize to [-1,1]\n",
    "X_train.shape"
   ]
  },
  {
   "cell_type": "markdown",
   "metadata": {},
   "source": [
    "## Generator"
   ]
  },
  {
   "cell_type": "code",
   "execution_count": 42,
   "metadata": {},
   "outputs": [
    {
     "name": "stdout",
     "output_type": "stream",
     "text": [
      "Model: \"sequential_10\"\n",
      "_________________________________________________________________\n",
      "Layer (type)                 Output Shape              Param #   \n",
      "=================================================================\n",
      "dense_8 (Dense)              (None, 6272)              633472    \n",
      "_________________________________________________________________\n",
      "reshape_6 (Reshape)          (None, 7, 7, 128)         0         \n",
      "_________________________________________________________________\n",
      "leaky_re_lu_13 (LeakyReLU)   (None, 7, 7, 128)         0         \n",
      "_________________________________________________________________\n",
      "batch_normalization_11 (Batc (None, 7, 7, 128)         512       \n",
      "_________________________________________________________________\n",
      "up_sampling2d_11 (UpSampling (None, 14, 14, 128)       0         \n",
      "_________________________________________________________________\n",
      "conv2d_18 (Conv2D)           (None, 14, 14, 64)        204864    \n",
      "_________________________________________________________________\n",
      "leaky_re_lu_14 (LeakyReLU)   (None, 14, 14, 64)        0         \n",
      "_________________________________________________________________\n",
      "batch_normalization_12 (Batc (None, 14, 14, 64)        256       \n",
      "_________________________________________________________________\n",
      "up_sampling2d_12 (UpSampling (None, 28, 28, 64)        0         \n",
      "_________________________________________________________________\n",
      "conv2d_19 (Conv2D)           (None, 28, 28, 1)         1601      \n",
      "=================================================================\n",
      "Total params: 840,705\n",
      "Trainable params: 840,321\n",
      "Non-trainable params: 384\n",
      "_________________________________________________________________\n"
     ]
    }
   ],
   "source": [
    "BATCH_SIZE = 256\n",
    "HALF_BATCH_SIZE = int(BATCH_SIZE/2)\n",
    "NOISE_SHAPE = (100,)\n",
    "TOTAL_BATCHES=int((X_train.shape[0])/BATCH_SIZE)\n",
    "TOTAL_EPOCHS=100\n",
    "\n",
    "generator = Sequential()\n",
    "generator.add(Dense(7*7*128,input_shape=NOISE_SHAPE))\n",
    "\n",
    "generator.add(Reshape((7,7,128)))\n",
    "generator.add(LeakyReLU(0.2))\n",
    "generator.add(BatchNormalization())\n",
    "\n",
    "generator.add(UpSampling2D())\n",
    "generator.add(Conv2D(64,(5,5),padding='same'))\n",
    "generator.add(LeakyReLU(0.2))\n",
    "generator.add(BatchNormalization())\n",
    "\n",
    "generator.add(UpSampling2D())\n",
    "generator.add(Conv2D(1,(5,5),padding='same',activation='tanh'))\n",
    "\n",
    "generator.compile(loss='binary_crossentropy',optimizer=Adam(lr=2e-4,beta_1=0.5))\n",
    "generator.summary()"
   ]
  },
  {
   "cell_type": "markdown",
   "metadata": {},
   "source": [
    "## Discriminator"
   ]
  },
  {
   "cell_type": "code",
   "execution_count": 37,
   "metadata": {},
   "outputs": [
    {
     "name": "stdout",
     "output_type": "stream",
     "text": [
      "WARNING:tensorflow:From /home/joshi_anurag/anaconda3/lib/python3.7/site-packages/tensorflow/python/ops/nn_impl.py:180: add_dispatch_support.<locals>.wrapper (from tensorflow.python.ops.array_ops) is deprecated and will be removed in a future version.\n",
      "Instructions for updating:\n",
      "Use tf.where in 2.0, which has the same broadcast rule as np.where\n"
     ]
    },
    {
     "name": "stderr",
     "output_type": "stream",
     "text": [
      "WARNING:tensorflow:From /home/joshi_anurag/anaconda3/lib/python3.7/site-packages/tensorflow/python/ops/nn_impl.py:180: add_dispatch_support.<locals>.wrapper (from tensorflow.python.ops.array_ops) is deprecated and will be removed in a future version.\n",
      "Instructions for updating:\n",
      "Use tf.where in 2.0, which has the same broadcast rule as np.where\n"
     ]
    },
    {
     "name": "stdout",
     "output_type": "stream",
     "text": [
      "Model: \"sequential_5\"\n",
      "_________________________________________________________________\n",
      "Layer (type)                 Output Shape              Param #   \n",
      "=================================================================\n",
      "conv2d_5 (Conv2D)            (None, 14, 14, 64)        1664      \n",
      "_________________________________________________________________\n",
      "leaky_re_lu_3 (LeakyReLU)    (None, 14, 14, 64)        0         \n",
      "_________________________________________________________________\n",
      "conv2d_6 (Conv2D)            (None, 7, 7, 128)         204928    \n",
      "_________________________________________________________________\n",
      "leaky_re_lu_4 (LeakyReLU)    (None, 7, 7, 128)         0         \n",
      "_________________________________________________________________\n",
      "flatten_1 (Flatten)          (None, 6272)              0         \n",
      "_________________________________________________________________\n",
      "dense_3 (Dense)              (None, 1)                 6273      \n",
      "=================================================================\n",
      "Total params: 212,865\n",
      "Trainable params: 212,865\n",
      "Non-trainable params: 0\n",
      "_________________________________________________________________\n"
     ]
    }
   ],
   "source": [
    "# 28x28x1  -->  1\n",
    "discriminator=Sequential()\n",
    "discriminator.add(Conv2D(64,(5,5),strides=(2,2),padding='same',input_shape=(28,28,1)))\n",
    "discriminator.add(LeakyReLU(0.2))\n",
    "\n",
    "discriminator.add(Conv2D(128,(5,5),strides=(2,2),padding='same'))\n",
    "discriminator.add(LeakyReLU(0.2))\n",
    "\n",
    "discriminator.add(Flatten())\n",
    "discriminator.add(Dense(1,activation='sigmoid'))\n",
    "\n",
    "discriminator.compile(loss='binary_crossentropy',optimizer=Adam(lr=2e-4,beta_1=0.5))\n",
    "\n",
    "discriminator.summary()"
   ]
  },
  {
   "cell_type": "code",
   "execution_count": 43,
   "metadata": {},
   "outputs": [],
   "source": [
    "discriminator.trainable=False\n",
    "gan_input = Input(shape=NOISE_SHAPE)\n",
    "generator_img = generator(gan_input)\n",
    "gan_out = discriminator(generator_img)\n",
    "\n",
    "#Functional API\n",
    "model = Model(gan_input,gan_out)\n",
    "model.compile(loss='binary_crossentropy',optimizer=Adam(lr=2e-4,beta_1=0.5))"
   ]
  },
  {
   "cell_type": "code",
   "execution_count": null,
   "metadata": {},
   "outputs": [],
   "source": [
    "!mkdir models\n",
    "!mkdir images\n",
    "!ls"
   ]
  },
  {
   "cell_type": "code",
   "execution_count": 44,
   "metadata": {},
   "outputs": [],
   "source": [
    "def save_imgs(epoch,samples=100):\n",
    "    \n",
    "    noise = np.random.normal(0,1,size=(samples,100))\n",
    "    generated_imgs = generator.predict(noise)\n",
    "    generated_imgs = generated_imgs.reshape(samples,28,28)\n",
    "    \n",
    "    plt.figure(figsize=(10,10))\n",
    "    for i in range(samples):\n",
    "        plt.subplot(10,10,i+1)\n",
    "        plt.imshow(generated_imgs[i],interpolation='nearest',cmap='gray')\n",
    "        plt.axis(\"off\")\n",
    "        \n",
    "    plt.tight_layout()\n",
    "    plt.savefig('images/gan_output_epoch_{0}.png'.format(epoch+1))\n",
    "    plt.show()"
   ]
  },
  {
   "cell_type": "code",
   "execution_count": null,
   "metadata": {},
   "outputs": [],
   "source": [
    "d_losses=[]\n",
    "g_losses=[]\n",
    "\n",
    "for epoch in range(TOTAL_EPOCHS):\n",
    "    \n",
    "    epoch_d_loss=0\n",
    "    epoch_g_loss=0\n",
    "    \n",
    "    for step in range(TOTAL_BATCHES):\n",
    "    \n",
    "        # training Discriminator - needs real and fake image data to train\n",
    "        idx=np.random.randint(0,X_train.shape[0],HALF_BATCH_SIZE)\n",
    "        real_images=X_train[idx]\n",
    "\n",
    "        noise=np.random.normal(0,1,(HALF_BATCH_SIZE,100))\n",
    "        fake_images=generator.predict(noise)\n",
    "        \n",
    "        real_y = np.ones((HALF_BATCH_SIZE,1))*0.9  # One side label smoothing for training Discriminator\n",
    "        fake_y = np.zeros((HALF_BATCH_SIZE,1))\n",
    "        \n",
    "        real_d_loss=discriminator.train_on_batch(real_images,real_y)\n",
    "        fake_d_loss=discriminator.train_on_batch(fake_images,fake_y)\n",
    "        epoch_d_loss+= real_d_loss*0.5 + fake_d_loss*0.5 \n",
    "        \n",
    "        #Training Model (Discriminator Frozen)\n",
    "        noise = np.random.normal(0,1,(BATCH_SIZE,100))\n",
    "        generator_y = np.ones((BATCH_SIZE,1))\n",
    "        g_loss = model.train_on_batch(noise,generator_y)\n",
    "        epoch_g_loss+=g_loss\n",
    "        \n",
    "    print(\"Epoch %d Disc Loss %.4f Generator Loss %.4f\" %((epoch+1),epoch_d_loss/TOTAL_BATCHES,epoch_g_loss/TOTAL_BATCHES))\n",
    "    d_losses.append(epoch_d_loss/TOTAL_BATCHES)\n",
    "    g_losses.append(epoch_g_loss/TOTAL_BATCHES)\n",
    "    \n",
    "    if (epoch+1)%10==0:\n",
    "        generator.save('model/gan_generator_{0}.h5'.format(epoch+1))\n",
    "        save_imgs(epoch)"
   ]
  }
 ],
 "metadata": {
  "kernelspec": {
   "display_name": "Python 3",
   "language": "python",
   "name": "python3"
  },
  "language_info": {
   "codemirror_mode": {
    "name": "ipython",
    "version": 3
   },
   "file_extension": ".py",
   "mimetype": "text/x-python",
   "name": "python",
   "nbconvert_exporter": "python",
   "pygments_lexer": "ipython3",
   "version": "3.7.4"
  }
 },
 "nbformat": 4,
 "nbformat_minor": 2
}
