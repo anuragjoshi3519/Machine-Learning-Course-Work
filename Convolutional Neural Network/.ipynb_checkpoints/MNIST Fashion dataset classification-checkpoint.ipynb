{
 "cells": [
  {
   "cell_type": "code",
   "execution_count": 1,
   "metadata": {},
   "outputs": [],
   "source": [
    "from keras.datasets import fashion_mnist\n",
    "from keras.models import Sequential\n",
    "from keras.layers import Convolution2D,Dense,MaxPool2D,Dropout,Flatten\n",
    "from keras.callbacks import ModelCheckpoint\n",
    "from keras.utils import np_utils\n",
    "from sklearn.model_selection import train_test_split\n",
    "import numpy as np\n",
    "import matplotlib.pyplot as plt"
   ]
  },
  {
   "cell_type": "code",
   "execution_count": 3,
   "metadata": {},
   "outputs": [],
   "source": [
    "(XT,YT),(Xt,Yt) = fashion_mnist.load_data()\n",
    "XT=XT.reshape(-1,28,28,1)\n",
    "Xt=Xt.reshape(-1,28,28,1)\n",
    "YT=np_utils.to_categorical(YT)\n",
    "Yt=np_utils.to_categorical(Yt)"
   ]
  },
  {
   "cell_type": "code",
   "execution_count": null,
   "metadata": {},
   "outputs": [],
   "source": [
    "model=Sequential()\n",
    "model.add(Convolution2D(filters=64,kernel_size=(3,3),activation='relu',input_shape=(28,28,1)))\n",
    "model.add(Convolution2D(filters=32,kernel_size=(5,5),activation='relu'))\n",
    "model.add(Dropout(0.3))\n",
    "model.add(MaxPool2D(pool_size=(2,2)))\n",
    "model.add(Convolution2D(filters=32,kernel_size=(3,3),activation='relu'))\n",
    "model.add(Convolution2D(filters=32,kernel_size=(3,3),activation='relu'))\n",
    "model.add(Dropout(rate=0.3))\n",
    "model.add(MaxPool2D(pool_size=(2,2)))\n",
    "model.add(Flatten())\n",
    "model.add(Dense(10,activation='softmax'))\n",
    "model.summary()"
   ]
  },
  {
   "cell_type": "code",
   "execution_count": null,
   "metadata": {},
   "outputs": [],
   "source": [
    "model.compile(loss='categorical_crossentropy',optimizer='adam',metrics=['accuracy'])"
   ]
  },
  {
   "cell_type": "code",
   "execution_count": null,
   "metadata": {},
   "outputs": [],
   "source": [
    "checkpoint_name='Checkpoints/{epochs:03d}--{val_loss:.5f}.hdf5'\n",
    "checkpoint=ModelCheckpoint(checkpoint_name,moniter='val_loss',verbose=1,save_only_best=True,mode='auto')\n",
    "callbacks_list=[checkpoint]\n",
    "\n",
    "hist=model.fit(XT,YT,batch_size=500,epochs=10,shuffle=True,validation_split=0.3,callbacks=callbacks_list)"
   ]
  },
  {
   "cell_type": "code",
   "execution_count": null,
   "metadata": {},
   "outputs": [],
   "source": [
    "loss=hist.history['loss']\n",
    "val_loss=hist.history['val_loss']\n",
    "acc=hist.history['acc']\n",
    "val_acc=hist.history['val_acc']\n",
    "\n",
    "plt.style.use('seaborn')\n",
    "plt.figure(0)\n",
    "plt.plot(loss,label='Training Loss')\n",
    "plt.plot(val_loss,label='Validation Loss')\n",
    "plt.title('Loss')\n",
    "plt.legend()\n",
    "\n",
    "plt.figure(1)\n",
    "plt.plot(acc,label='Training Accuracy')\n",
    "plt.plot(val_acc,label='Validation Accuracy')\n",
    "plt.title('Accuracy')\n",
    "plt.legend()\n",
    "plt.show()"
   ]
  },
  {
   "cell_type": "code",
   "execution_count": null,
   "metadata": {},
   "outputs": [],
   "source": []
  },
  {
   "cell_type": "code",
   "execution_count": null,
   "metadata": {},
   "outputs": [],
   "source": []
  },
  {
   "cell_type": "code",
   "execution_count": null,
   "metadata": {},
   "outputs": [],
   "source": []
  }
 ],
 "metadata": {
  "kernelspec": {
   "display_name": "Python 3",
   "language": "python",
   "name": "python3"
  },
  "language_info": {
   "codemirror_mode": {
    "name": "ipython",
    "version": 3
   },
   "file_extension": ".py",
   "mimetype": "text/x-python",
   "name": "python",
   "nbconvert_exporter": "python",
   "pygments_lexer": "ipython3",
   "version": "3.7.4"
  }
 },
 "nbformat": 4,
 "nbformat_minor": 2
}
