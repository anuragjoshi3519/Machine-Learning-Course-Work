{
 "cells": [
  {
   "cell_type": "code",
   "execution_count": 25,
   "metadata": {},
   "outputs": [],
   "source": [
    "import tensorflow as tf\n",
    "import numpy as np\n",
    "from sklearn.datasets import load_boston\n",
    "from sklearn.model_selection import train_test_split"
   ]
  },
  {
   "cell_type": "markdown",
   "metadata": {},
   "source": [
    "## Data Preprocessing"
   ]
  },
  {
   "cell_type": "code",
   "execution_count": 180,
   "metadata": {},
   "outputs": [],
   "source": [
    "boston =load_boston()\n",
    "dataX=boston.data\n",
    "dataY=boston.target\n",
    "\n",
    "## mean normalization\n",
    "dataX=(dataX-np.mean(dataX))/np.std(dataX)\n",
    "dataY=(dataY-np.mean(dataY))/np.std(dataY)\n",
    "\n",
    "bias_vector=np.ones((dataX.shape[0],1))\n",
    "dataX=np.concatenate((bias_vector,dataX),axis=1)\n",
    "dataY=dataY.reshape(-1,1)\n",
    "\n",
    "XT,Xt,YT,Yt = train_test_split(dataX,dataY,test_size=0.2)"
   ]
  },
  {
   "cell_type": "markdown",
   "metadata": {},
   "source": [
    "## Tensorflow Model"
   ]
  },
  {
   "cell_type": "code",
   "execution_count": 181,
   "metadata": {},
   "outputs": [],
   "source": [
    "n_features=XT.shape[1]\n",
    "epochs=50\n",
    "\n",
    "X=tf.compat.v1.placeholder(dtype=tf.float32,shape=[None,n_features])\n",
    "Y=tf.compat.v1.placeholder(dtype=tf.float32,shape=[None,1])"
   ]
  },
  {
   "cell_type": "code",
   "execution_count": 182,
   "metadata": {},
   "outputs": [],
   "source": [
    "W=tf.Variable( tf.random_normal(shape=(n_features,1)) )"
   ]
  },
  {
   "cell_type": "code",
   "execution_count": 183,
   "metadata": {},
   "outputs": [],
   "source": [
    "Y_pred=tf.matmul(X,W)"
   ]
  },
  {
   "cell_type": "code",
   "execution_count": 184,
   "metadata": {},
   "outputs": [],
   "source": [
    "cost=tf.reduce_mean(tf.square(Y_pred-Y))"
   ]
  },
  {
   "cell_type": "code",
   "execution_count": 185,
   "metadata": {},
   "outputs": [],
   "source": [
    "opt=tf.train.GradientDescentOptimizer(learning_rate=0.03).minimize(cost)"
   ]
  },
  {
   "cell_type": "code",
   "execution_count": 186,
   "metadata": {},
   "outputs": [
    {
     "name": "stdout",
     "output_type": "stream",
     "text": [
      "Epoch#1 ->  Train Loss: 4.4753 # Test Loss: 5.0652\n",
      "Epoch#2 ->  Train Loss: 1.6961 # Test Loss: 2.0135\n",
      "Epoch#3 ->  Train Loss: 1.4254 # Test Loss: 1.7163\n",
      "Epoch#4 ->  Train Loss: 1.3258 # Test Loss: 1.6153\n",
      "Epoch#5 ->  Train Loss: 1.2485 # Test Loss: 1.5397\n",
      "Epoch#6 ->  Train Loss: 1.1827 # Test Loss: 1.4754\n",
      "Epoch#7 ->  Train Loss: 1.1261 # Test Loss: 1.4198\n",
      "Epoch#8 ->  Train Loss: 1.0774 # Test Loss: 1.3714\n",
      "Epoch#9 ->  Train Loss: 1.0356 # Test Loss: 1.3292\n",
      "Epoch#10 ->  Train Loss: 0.9996 # Test Loss: 1.2925\n",
      "Epoch#11 ->  Train Loss: 0.9686 # Test Loss: 1.2605\n",
      "Epoch#12 ->  Train Loss: 0.9420 # Test Loss: 1.2325\n",
      "Epoch#13 ->  Train Loss: 0.9191 # Test Loss: 1.2081\n",
      "Epoch#14 ->  Train Loss: 0.8993 # Test Loss: 1.1866\n",
      "Epoch#15 ->  Train Loss: 0.8823 # Test Loss: 1.1679\n",
      "Epoch#16 ->  Train Loss: 0.8677 # Test Loss: 1.1514\n",
      "Epoch#17 ->  Train Loss: 0.8551 # Test Loss: 1.1369\n",
      "Epoch#18 ->  Train Loss: 0.8442 # Test Loss: 1.1242\n",
      "Epoch#19 ->  Train Loss: 0.8348 # Test Loss: 1.1129\n",
      "Epoch#20 ->  Train Loss: 0.8267 # Test Loss: 1.1030\n",
      "Epoch#21 ->  Train Loss: 0.8197 # Test Loss: 1.0942\n",
      "Epoch#22 ->  Train Loss: 0.8137 # Test Loss: 1.0864\n",
      "Epoch#23 ->  Train Loss: 0.8084 # Test Loss: 1.0795\n",
      "Epoch#24 ->  Train Loss: 0.8039 # Test Loss: 1.0733\n",
      "Epoch#25 ->  Train Loss: 0.8000 # Test Loss: 1.0678\n",
      "Epoch#26 ->  Train Loss: 0.7966 # Test Loss: 1.0629\n",
      "Epoch#27 ->  Train Loss: 0.7936 # Test Loss: 1.0585\n",
      "Epoch#28 ->  Train Loss: 0.7910 # Test Loss: 1.0546\n",
      "Epoch#29 ->  Train Loss: 0.7887 # Test Loss: 1.0510\n",
      "Epoch#30 ->  Train Loss: 0.7867 # Test Loss: 1.0478\n",
      "Epoch#31 ->  Train Loss: 0.7850 # Test Loss: 1.0450\n",
      "Epoch#32 ->  Train Loss: 0.7835 # Test Loss: 1.0423\n",
      "Epoch#33 ->  Train Loss: 0.7821 # Test Loss: 1.0399\n",
      "Epoch#34 ->  Train Loss: 0.7809 # Test Loss: 1.0378\n",
      "Epoch#35 ->  Train Loss: 0.7798 # Test Loss: 1.0358\n",
      "Epoch#36 ->  Train Loss: 0.7789 # Test Loss: 1.0340\n",
      "Epoch#37 ->  Train Loss: 0.7780 # Test Loss: 1.0323\n",
      "Epoch#38 ->  Train Loss: 0.7772 # Test Loss: 1.0308\n",
      "Epoch#39 ->  Train Loss: 0.7765 # Test Loss: 1.0293\n",
      "Epoch#40 ->  Train Loss: 0.7759 # Test Loss: 1.0280\n",
      "Epoch#41 ->  Train Loss: 0.7753 # Test Loss: 1.0268\n",
      "Epoch#42 ->  Train Loss: 0.7748 # Test Loss: 1.0256\n",
      "Epoch#43 ->  Train Loss: 0.7743 # Test Loss: 1.0246\n",
      "Epoch#44 ->  Train Loss: 0.7738 # Test Loss: 1.0236\n",
      "Epoch#45 ->  Train Loss: 0.7734 # Test Loss: 1.0226\n",
      "Epoch#46 ->  Train Loss: 0.7730 # Test Loss: 1.0218\n",
      "Epoch#47 ->  Train Loss: 0.7726 # Test Loss: 1.0209\n",
      "Epoch#48 ->  Train Loss: 0.7722 # Test Loss: 1.0201\n",
      "Epoch#49 ->  Train Loss: 0.7719 # Test Loss: 1.0194\n",
      "Epoch#50 ->  Train Loss: 0.7716 # Test Loss: 1.0187\n"
     ]
    }
   ],
   "source": [
    "with tf.Session() as sess:\n",
    "    \n",
    "    sess.run(tf.global_variables_initializer())\n",
    "    \n",
    "    for epoch in range(epochs):\n",
    "        \n",
    "        sess.run(opt, feed_dict={\n",
    "            X:XT,\n",
    "            Y:YT\n",
    "        })\n",
    "        \n",
    "        train_loss = sess.run(cost, feed_dict={\n",
    "            X:XT,\n",
    "            Y:YT\n",
    "        }) \n",
    "        \n",
    "        test_loss = sess.run(cost, feed_dict={\n",
    "            X:Xt,\n",
    "            Y:Yt\n",
    "        })\n",
    "        \n",
    "        print(\"Epoch#{} -> \".format(epoch+1),end=\" \")\n",
    "        print(\"Train Loss: {:.04f} # Test Loss: {:.04f}\".format(train_loss,test_loss))"
   ]
  },
  {
   "cell_type": "code",
   "execution_count": null,
   "metadata": {},
   "outputs": [],
   "source": []
  },
  {
   "cell_type": "code",
   "execution_count": null,
   "metadata": {},
   "outputs": [],
   "source": []
  },
  {
   "cell_type": "code",
   "execution_count": null,
   "metadata": {},
   "outputs": [],
   "source": []
  },
  {
   "cell_type": "code",
   "execution_count": null,
   "metadata": {},
   "outputs": [],
   "source": []
  }
 ],
 "metadata": {
  "kernelspec": {
   "display_name": "Python 3",
   "language": "python",
   "name": "python3"
  },
  "language_info": {
   "codemirror_mode": {
    "name": "ipython",
    "version": 3
   },
   "file_extension": ".py",
   "mimetype": "text/x-python",
   "name": "python",
   "nbconvert_exporter": "python",
   "pygments_lexer": "ipython3",
   "version": "3.7.4"
  }
 },
 "nbformat": 4,
 "nbformat_minor": 2
}
