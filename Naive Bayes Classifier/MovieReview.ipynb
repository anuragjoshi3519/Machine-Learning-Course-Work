{
 "cells": [
  {
   "cell_type": "code",
   "execution_count": 12,
   "metadata": {},
   "outputs": [],
   "source": [
    "import pandas as pd\n",
    "import numpy as np\n",
    "from nltk.stem import PorterStemmer\n",
    "from nltk.corpus import stopwords\n",
    "from nltk.tokenize import RegexpTokenizer"
   ]
  },
  {
   "cell_type": "code",
   "execution_count": 14,
   "metadata": {},
   "outputs": [],
   "source": [
    "tokenizer=RegexpTokenizer(r'\\w+')\n",
    "ps=PorterStemmer()\n",
    "stopword=set(stopwords.words('english'))"
   ]
  },
  {
   "cell_type": "code",
   "execution_count": 18,
   "metadata": {},
   "outputs": [],
   "source": [
    "def getCleanedReview(doc):\n",
    "    doc=doc.lower()\n",
    "    doc=doc.replace('<br />',' ')\n",
    "\n",
    "    doc=tokenizer.tokenize(doc)\n",
    "    doc=[token for token in doc if token not in stopword ]\n",
    "    doc=[ps.stem(token) for token in doc]\n",
    "    \n",
    "    cleanedReview= ' '.join(doc)\n",
    "    \n",
    "    return cleanedReview"
   ]
  },
  {
   "cell_type": "code",
   "execution_count": 20,
   "metadata": {},
   "outputs": [],
   "source": [
    "def getCleanedReviewFile(inputFile,outputFile):\n",
    "    out = open(outputFile,'w')\n",
    "    \n",
    "    with open(inputFile) as f:\n",
    "        reviews=f.readlines()\n",
    "    for review in reviews:\n",
    "        print((getCleanedReview(review)),file=out)"
   ]
  },
  {
   "cell_type": "code",
   "execution_count": 22,
   "metadata": {},
   "outputs": [],
   "source": [
    "getCleanedReviewFile('IMDB/imdb_trainX.txt','IMDB/processedReview.txt')"
   ]
  },
  {
   "cell_type": "code",
   "execution_count": null,
   "metadata": {},
   "outputs": [],
   "source": []
  }
 ],
 "metadata": {
  "kernelspec": {
   "display_name": "Python 3",
   "language": "python",
   "name": "python3"
  },
  "language_info": {
   "codemirror_mode": {
    "name": "ipython",
    "version": 3
   },
   "file_extension": ".py",
   "mimetype": "text/x-python",
   "name": "python",
   "nbconvert_exporter": "python",
   "pygments_lexer": "ipython3",
   "version": "3.7.2"
  }
 },
 "nbformat": 4,
 "nbformat_minor": 2
}
