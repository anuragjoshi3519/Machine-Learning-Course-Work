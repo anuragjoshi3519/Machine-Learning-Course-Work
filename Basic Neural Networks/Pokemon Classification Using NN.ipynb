{
 "cells": [
  {
   "cell_type": "code",
   "execution_count": 33,
   "metadata": {},
   "outputs": [],
   "source": [
    "from keras.preprocessing import image\n",
    "from matplotlib import pyplot as plt\n",
    "from pathlib import Path\n",
    "import numpy as np\n",
    "import random"
   ]
  },
  {
   "cell_type": "markdown",
   "metadata": {},
   "source": [
    "### Data Image Pipeline"
   ]
  },
  {
   "cell_type": "code",
   "execution_count": 189,
   "metadata": {},
   "outputs": [],
   "source": [
    "def getImageData(path):\n",
    "    p = Path(path)\n",
    "    dirs= p.glob('*')\n",
    "\n",
    "    label_dict={'Pikachu':0,'Bulbasaur':1,'Meowth':2}\n",
    "    label_dict_inverse={0:'Pikachu',1:'Bulbasaur',2:'Meowth'}\n",
    "    labels=[]\n",
    "    image_data=[]\n",
    "    \n",
    "    for folder in dirs:\n",
    "        label = str(folder).split('/')[-1]\n",
    "        for img_path in folder.glob('*.jpg'):\n",
    "            img=image.load_img(img_path,target_size=(40,40))\n",
    "            img=image.img_to_array(img)\n",
    "            image_data.append(img/255.0)\n",
    "            labels.append(label_dict[label])\n",
    "\n",
    "    image_data=np.array(image_data)\n",
    "    labels=np.array(labels)\n",
    "\n",
    "    ## Random Shuffling of image_data and labels\n",
    "\n",
    "    image_with_label= list(zip(image_data,labels))  ## zip\n",
    "    random.shuffle(image_with_label)\n",
    "    image_data[:],labels[:]=zip(*image_with_label)  #unzip\n",
    "    \n",
    "    return image_data.reshape(image_data.shape[0],-1),labels,label_dict_inverse\n",
    "\n",
    "def drawImg(img,label):\n",
    "    plt.imshow(img.reshape((40,40,3)))\n",
    "    plt.title(label)\n",
    "    plt.show()"
   ]
  },
  {
   "cell_type": "code",
   "execution_count": 190,
   "metadata": {},
   "outputs": [],
   "source": [
    "image_data,labels,label_dict_inverse=getImageData('Dataset')\n",
    "#drawImg(image_data[1],label_dict_inverse[labels[1]])"
   ]
  },
  {
   "cell_type": "markdown",
   "metadata": {},
   "source": [
    "### Multi Layer Perceptron"
   ]
  },
  {
   "cell_type": "code",
   "execution_count": 191,
   "metadata": {},
   "outputs": [],
   "source": [
    "from numpy import tanh\n",
    "from sklearn.model_selection import train_test_split"
   ]
  },
  {
   "cell_type": "code",
   "execution_count": 321,
   "metadata": {},
   "outputs": [],
   "source": [
    "def softmax(z):\n",
    "    return np.exp(z)/np.sum(np.exp(z),axis=1,keepdims=True)\n",
    "\n",
    "class MultilayerPerceptron:\n",
    "    \n",
    "    def __init__(self,X,Y,hidden_layers):\n",
    "        np.random.seed(0)\n",
    "        weights = {}\n",
    "        bias= {} \n",
    "        layers = [X.shape[1]]+hidden_layers+[len(np.unique(Y))]\n",
    "        ## One Hot Matrix\n",
    "        Y_=np.zeros((Y.shape[0],len(np.unique(Y))) )\n",
    "        Y_[np.arange(Y.shape[0]),Y]=1\n",
    "        \n",
    "        for i in range(len(layers)-1):\n",
    "            #W=np.random.randn(layers[i],layers[i+1])\n",
    "            W=np.random.uniform(low=-0.5, high=0.5, size=(layers[i],layers[i+1]))\n",
    "            #b=np.random.randn(1,layers[i+1])\n",
    "            b=np.random.uniform(low=-0.5, high=0.5, size=(1,layers[i+1]))\n",
    "            weights[i]=W\n",
    "            bias[i]=b\n",
    "        \n",
    "        self.X=X\n",
    "        self.Y=Y_\n",
    "        self.weights=weights\n",
    "        self.bias=bias\n",
    "        self.no_of_layers=len(layers)\n",
    "        self.cost=[]\n",
    "    \n",
    "    def forwardPropagation(self,X):\n",
    "        activations={}\n",
    "        Z={}\n",
    "        activations[0]=X\n",
    "        n=self.no_of_layers\n",
    "        for i in range(1,n):\n",
    "            Z[i] = np.dot(activations[i-1],self.weights[i-1]) + self.bias[i-1]\n",
    "            if i<n-1:\n",
    "                activations[i]=tanh(Z[i])\n",
    "            else:\n",
    "                activations[n-1]=softmax(Z[i])\n",
    "        return activations\n",
    "    \n",
    "    def backPropagation(self,activations,learning_rate):\n",
    "        l=self.no_of_layers-1\n",
    "        m=self.X.shape[0]\n",
    "\n",
    "        delta={}\n",
    "        gradW={}\n",
    "        gradB={}\n",
    "\n",
    "        delta[l]=activations[l]-self.Y\n",
    "        gradW[l-1]=np.dot(activations[l-1].T,delta[l])\n",
    "        gradB[l-1]=np.sum(delta[l],axis=0)\n",
    "        \n",
    "        for i in range(l-1,0,-1):\n",
    "            delta[i]=np.dot(delta[i+1],self.weights[i].T)*(1-np.square(activations[i])) # tanh derivative= 1-tanh^2\n",
    "            gradW[i-1]=np.dot(activations[i-1].T,delta[i])\n",
    "            gradB[i-1]=np.sum(delta[i],axis=0)\n",
    "            \n",
    "\n",
    "        for i in range(0,l-1):   \n",
    "            self.weights[i]=self.weights[i]-learning_rate*gradW[i]\n",
    "            self.bias[i][0]=self.bias[i][0]-learning_rate*gradB[i]   \n",
    "        \n",
    "    def fit(self,learning_rate=0.0002,max_epochs=700):\n",
    "        j=0\n",
    "        for i in range(max_epochs):\n",
    "            activations=self.forwardPropagation(self.X)\n",
    "            self.backPropagation(activations,learning_rate)\n",
    "            \n",
    "            self.cost.append(self.loss(self.Y, activations[self.no_of_layers-1]))   \n",
    "            \n",
    "    def score(self,X,Y):\n",
    "        activations=self.forwardPropagation(X)\n",
    "        Y_pred=activations[self.no_of_layers-1]  \n",
    "        return np.sum(Y==np.argmax(Y_pred,axis=1))/X.shape[0]\n",
    "    \n",
    "    def predict(self,X):\n",
    "        act=self.forwardPropagation(X)\n",
    "        pred=act[self.no_of_layers-1]\n",
    "        return np.argmax(pred,axis=1)\n",
    "    \n",
    "    def loss(self,Y,prob):\n",
    "        return -np.mean(Y*np.log(prob))"
   ]
  },
  {
   "cell_type": "code",
   "execution_count": 322,
   "metadata": {},
   "outputs": [],
   "source": [
    "train_images,test_images,train_labels,test_labels=train_test_split(image_data,labels,test_size=0.2)"
   ]
  },
  {
   "cell_type": "code",
   "execution_count": 331,
   "metadata": {},
   "outputs": [],
   "source": [
    "mlp=MultilayerPerceptron(train_images,train_labels,[100,50])"
   ]
  },
  {
   "cell_type": "code",
   "execution_count": 332,
   "metadata": {},
   "outputs": [],
   "source": [
    "mlp.fit()"
   ]
  },
  {
   "cell_type": "code",
   "execution_count": 333,
   "metadata": {},
   "outputs": [
    {
     "name": "stdout",
     "output_type": "stream",
     "text": [
      "0.7613636363636364\n",
      "0.4431818181818182\n"
     ]
    }
   ],
   "source": [
    "print(mlp.score(train_images,train_labels))\n",
    "print(mlp.score(test_images,test_labels))"
   ]
  },
  {
   "cell_type": "code",
   "execution_count": 330,
   "metadata": {},
   "outputs": [
    {
     "data": {
      "image/png": "[encoded data removed]",
      "text/plain": [
       "<Figure size 432x288 with 1 Axes>"
      ]
     },
     "metadata": {
      "needs_background": "light"
     },
     "output_type": "display_data"
    }
   ],
   "source": [
    "plt.plot(mlp.cost)\n",
    "plt.show()"
   ]
  },
  {
   "cell_type": "code",
   "execution_count": 320,
   "metadata": {},
   "outputs": [
    {
     "name": "stdout",
     "output_type": "stream",
     "text": [
      "[[27 10  7]\n",
      " [14 16  6]\n",
      " [ 4  3  1]]\n",
      "[[132  28  20]\n",
      " [ 20 109  19]\n",
      " [  2   5  17]]\n"
     ]
    }
   ],
   "source": [
    "## Confusion Matrix\n",
    "from sklearn.metrics import confusion_matrix\n",
    "\n",
    "test_outputs=mlp.predict(test_images)\n",
    "train_outputs=mlp.predict(train_images)\n",
    "cnm1=confusion_matrix(test_outputs,test_labels)\n",
    "cnm2=confusion_matrix(train_outputs,train_labels)\n",
    "print(cnm1)\n",
    "print(cnm2)"
   ]
  },
  {
   "cell_type": "code",
   "execution_count": 127,
   "metadata": {},
   "outputs": [
    {
     "name": "stdout",
     "output_type": "stream",
     "text": [
      "Confusion matrix, without normalization\n",
      "[[26 16  8]\n",
      " [30 28  6]\n",
      " [ 7  8  3]]\n"
     ]
    },
    {
     "data": {
      "image/png": "[encoded data removed]",
      "text/plain": [
       "<Figure size 432x288 with 2 Axes>"
      ]
     },
     "metadata": {
      "needs_background": "light"
     },
     "output_type": "display_data"
    }
   ],
   "source": [
    "from visualize import plot_confusion_matrix\n",
    "plot_confusion_matrix(cnm1,classes=['Pikachu','Bulbasaur','Meowth'])"
   ]
  },
  {
   "cell_type": "code",
   "execution_count": 128,
   "metadata": {},
   "outputs": [
    {
     "name": "stdout",
     "output_type": "stream",
     "text": [
      "Confusion matrix, without normalization\n",
      "[[106  16   8]\n",
      " [ 24  92  16]\n",
      " [  6  11  29]]\n"
     ]
    },
    {
     "data": {
      "image/png": "[encoded data removed]",
      "text/plain": [
       "<Figure size 432x288 with 2 Axes>"
      ]
     },
     "metadata": {
      "needs_background": "light"
     },
     "output_type": "display_data"
    }
   ],
   "source": [
    "plot_confusion_matrix(cnm2,classes=['Pikachu','Bulbasaur','Meowth'])"
   ]
  },
  {
   "cell_type": "code",
   "execution_count": null,
   "metadata": {},
   "outputs": [],
   "source": []
  },
  {
   "cell_type": "code",
   "execution_count": null,
   "metadata": {},
   "outputs": [],
   "source": []
  },
  {
   "cell_type": "code",
   "execution_count": null,
   "metadata": {},
   "outputs": [],
   "source": []
  }
 ],
 "metadata": {
  "kernelspec": {
   "display_name": "Python 3",
   "language": "python",
   "name": "python3"
  },
  "language_info": {
   "codemirror_mode": {
    "name": "ipython",
    "version": 3
   },
   "file_extension": ".py",
   "mimetype": "text/x-python",
   "name": "python",
   "nbconvert_exporter": "python",
   "pygments_lexer": "ipython3",
   "version": "3.7.4"
  }
 },
 "nbformat": 4,
 "nbformat_minor": 2
}
