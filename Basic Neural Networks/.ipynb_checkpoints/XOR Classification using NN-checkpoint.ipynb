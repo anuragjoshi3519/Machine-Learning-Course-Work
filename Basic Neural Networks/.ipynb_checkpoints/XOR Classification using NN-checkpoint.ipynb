{
 "cells": [
  {
   "cell_type": "code",
   "execution_count": 80,
   "metadata": {},
   "outputs": [],
   "source": [
    "# activation function 1\n",
    "def sigmoid(z):\n",
    "    return 1.0/(1+np.exp(-z))\n",
    "# activation function 2\n",
    "def softmax(z):\n",
    "    return np.exp(z)/np.sum(np.exp(z),axis=1,keepdims=True)\n",
    "\n",
    "class MultilayerPerceptron:\n",
    "    \n",
    "    def __init__(self,X,Y,hidden_layers):\n",
    "        np.random.seed(0)\n",
    "        weights = {}\n",
    "        bias= {} \n",
    "        layers = [X.shape[1]]+hidden_layers+[len(np.unique(Y))]\n",
    "        ## One Hot Matrix\n",
    "        Y_=np.zeros((Y.shape[0],len(np.unique(Y))) )\n",
    "        Y_[np.arange(Y.shape[0]),Y]=1\n",
    "        \n",
    "        for i in range(len(layers)-1):\n",
    "            W=np.random.randn(layers[i],layers[i+1])\n",
    "            b=np.random.randn(1,layers[i+1])\n",
    "            weights[i]=W\n",
    "            bias[i]=b\n",
    "        \n",
    "        self.X=X\n",
    "        self.Y=Y_\n",
    "        self.weights=weights\n",
    "        self.bias=bias\n",
    "        self.no_of_layers=len(layers)\n",
    "        self.cost=[]\n",
    "    \n",
    "    def forwardPropagation(self,X):\n",
    "        activations={}\n",
    "        Z={}\n",
    "        activations[0]=X\n",
    "        n=self.no_of_layers\n",
    "        for i in range(1,n):\n",
    "            Z[i] = np.dot(activations[i-1],self.weights[i-1]) + self.bias[i-1]\n",
    "            if i<n-1:\n",
    "                activations[i]=tanh(Z[i])\n",
    "            else:\n",
    "                activations[n-1]=softmax(Z[i])\n",
    "        return activations\n",
    "    \n",
    "    def backPropagation(self,activations,learning_rate=0.1):\n",
    "        l=self.no_of_layers-1\n",
    "        m=self.X.shape[0]\n",
    "\n",
    "        delta={}\n",
    "        gradW={}\n",
    "        gradB={}\n",
    "\n",
    "        delta[l]=activations[l]-self.Y\n",
    "        gradW[l-1]=(1.0/m)*np.dot(activations[l-1].T,delta[l])\n",
    "        gradB[l-1]=(1.0/m)*np.sum(delta[l],axis=0)\n",
    "\n",
    "        for i in range(l-1,0,-1):\n",
    "            delta[i]=np.dot(delta[i+1],self.weights[i].T)*(1-np.square(activations[i])) # tanh derivative= 1-tanh^2\n",
    "            gradW[i-1]=(1.0/m)*np.dot(activations[i-1].T,delta[i])\n",
    "            gradB[i-1]=(1.0/m)*np.sum(delta[i],axis=0)\n",
    "\n",
    "        for i in range(0,l-1):   \n",
    "            self.weights[i]=self.weights[i]-learning_rate*gradW[i]\n",
    "            self.bias[i][0]=self.bias[i][0]-learning_rate*gradB[i]   \n",
    "        \n",
    "    def fit(self,max_epochs=2000):\n",
    "        j=0\n",
    "        for i in range(max_epochs):\n",
    "            activations=self.forwardPropagation(self.X)\n",
    "            self.backPropagation(activations)\n",
    "            \n",
    "            self.cost.append(self.loss(self.Y, activations[self.no_of_layers-1]))   \n",
    "            \n",
    "    def score(self,X,Y):\n",
    "        activations=self.forwardPropagation(X)\n",
    "        Y_pred=activations[self.no_of_layers-1]  \n",
    "        return np.sum(Y==np.argmax(Y_pred,axis=1))/X.shape[0]\n",
    "    \n",
    "    def predict(self,X):\n",
    "        act=self.forwardPropagation(X)\n",
    "        pred=act[self.no_of_layers-1]\n",
    "        return np.argmax(pred,axis=1)\n",
    "    \n",
    "    def loss(self,Y,prob):\n",
    "        return -np.mean(Y*np.log(prob))"
   ]
  },
  {
   "cell_type": "code",
   "execution_count": 81,
   "metadata": {},
   "outputs": [],
   "source": [
    "X=np.array([[0,0],[0,1],[1,0],[1,1]])\n",
    "Y=np.array([0,1,1,0])"
   ]
  },
  {
   "cell_type": "code",
   "execution_count": 88,
   "metadata": {},
   "outputs": [],
   "source": [
    "mlp=MultilayerPerceptron(X,Y,[6,6])"
   ]
  },
  {
   "cell_type": "code",
   "execution_count": 89,
   "metadata": {},
   "outputs": [
    {
     "data": {
      "text/plain": [
       "1.0"
      ]
     },
     "execution_count": 89,
     "metadata": {},
     "output_type": "execute_result"
    }
   ],
   "source": [
    "mlp.fit(max_epochs=100)\n",
    "mlp.score(X,Y)"
   ]
  },
  {
   "cell_type": "code",
   "execution_count": 90,
   "metadata": {},
   "outputs": [],
   "source": [
    "from visualize import plot_decision_boundary"
   ]
  },
  {
   "cell_type": "code",
   "execution_count": 91,
   "metadata": {},
   "outputs": [
    {
     "data": {
      "image/png": "[encoded data removed]",
      "text/plain": [
       "<Figure size 576x396 with 1 Axes>"
      ]
     },
     "metadata": {},
     "output_type": "display_data"
    }
   ],
   "source": [
    "plot_decision_boundary(lambda x:mlp.predict(x),X,Y)"
   ]
  },
  {
   "cell_type": "code",
   "execution_count": null,
   "metadata": {},
   "outputs": [],
   "source": []
  },
  {
   "cell_type": "code",
   "execution_count": null,
   "metadata": {},
   "outputs": [],
   "source": []
  }
 ],
 "metadata": {
  "kernelspec": {
   "display_name": "Python 3",
   "language": "python",
   "name": "python3"
  },
  "language_info": {
   "codemirror_mode": {
    "name": "ipython",
    "version": 3
   },
   "file_extension": ".py",
   "mimetype": "text/x-python",
   "name": "python",
   "nbconvert_exporter": "python",
   "pygments_lexer": "ipython3",
   "version": "3.7.4"
  }
 },
 "nbformat": 4,
 "nbformat_minor": 2
}
