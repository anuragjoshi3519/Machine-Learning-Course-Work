{
 "cells": [
  {
   "cell_type": "code",
   "execution_count": 22,
   "metadata": {},
   "outputs": [],
   "source": [
    "import gym"
   ]
  },
  {
   "cell_type": "code",
   "execution_count": 23,
   "metadata": {},
   "outputs": [],
   "source": [
    "env = gym.make('CartPole-v0')"
   ]
  },
  {
   "cell_type": "code",
   "execution_count": 32,
   "metadata": {},
   "outputs": [],
   "source": [
    "env.reset()\n",
    "for _ in range(10000):\n",
    "    env.render()\n",
    "    env.step(env.action_space.sample())\n",
    "    \n",
    "env.close()    "
   ]
  },
  {
   "cell_type": "code",
   "execution_count": 10,
   "metadata": {},
   "outputs": [
    {
     "name": "stdout",
     "output_type": "stream",
     "text": [
      "Discrete(2)\n",
      "Box(4,)\n",
      "(-inf, inf)\n"
     ]
    }
   ],
   "source": [
    "print(env.action_space)\n",
    "print(env.observation_space)\n",
    "print(env.reward_range)"
   ]
  },
  {
   "cell_type": "markdown",
   "metadata": {},
   "source": [
    "## Episodes"
   ]
  },
  {
   "cell_type": "code",
   "execution_count": 35,
   "metadata": {
    "collapsed": true
   },
   "outputs": [
    {
     "name": "stdout",
     "output_type": "stream",
     "text": [
      "Episode 0/100 :: High Score - 36\n",
      "Episode 1/100 :: High Score - 13\n",
      "Episode 2/100 :: High Score - 25\n",
      "Episode 3/100 :: High Score - 17\n",
      "Episode 4/100 :: High Score - 14\n",
      "Episode 5/100 :: High Score - 15\n",
      "Episode 6/100 :: High Score - 10\n",
      "Episode 7/100 :: High Score - 10\n",
      "Episode 8/100 :: High Score - 35\n",
      "Episode 9/100 :: High Score - 21\n",
      "Episode 10/100 :: High Score - 16\n",
      "Episode 11/100 :: High Score - 17\n",
      "Episode 12/100 :: High Score - 11\n",
      "Episode 13/100 :: High Score - 16\n",
      "Episode 14/100 :: High Score - 14\n",
      "Episode 15/100 :: High Score - 9\n",
      "Episode 16/100 :: High Score - 20\n",
      "Episode 17/100 :: High Score - 29\n",
      "Episode 18/100 :: High Score - 16\n",
      "Episode 19/100 :: High Score - 17\n",
      "Episode 20/100 :: High Score - 14\n",
      "Episode 21/100 :: High Score - 13\n",
      "Episode 22/100 :: High Score - 13\n",
      "Episode 23/100 :: High Score - 17\n",
      "Episode 24/100 :: High Score - 36\n",
      "Episode 25/100 :: High Score - 11\n",
      "Episode 26/100 :: High Score - 13\n",
      "Episode 27/100 :: High Score - 27\n",
      "Episode 28/100 :: High Score - 18\n",
      "Episode 29/100 :: High Score - 32\n",
      "Episode 30/100 :: High Score - 10\n",
      "Episode 31/100 :: High Score - 12\n",
      "Episode 32/100 :: High Score - 16\n",
      "Episode 33/100 :: High Score - 34\n",
      "Episode 34/100 :: High Score - 36\n",
      "Episode 35/100 :: High Score - 33\n",
      "Episode 36/100 :: High Score - 11\n",
      "Episode 37/100 :: High Score - 31\n",
      "Episode 38/100 :: High Score - 26\n",
      "Episode 39/100 :: High Score - 13\n",
      "Episode 40/100 :: High Score - 13\n",
      "Episode 41/100 :: High Score - 8\n",
      "Episode 42/100 :: High Score - 12\n",
      "Episode 43/100 :: High Score - 9\n",
      "Episode 44/100 :: High Score - 24\n",
      "Episode 45/100 :: High Score - 35\n",
      "Episode 46/100 :: High Score - 20\n",
      "Episode 47/100 :: High Score - 21\n",
      "Episode 48/100 :: High Score - 18\n",
      "Episode 49/100 :: High Score - 15\n",
      "Episode 50/100 :: High Score - 22\n",
      "Episode 51/100 :: High Score - 29\n",
      "Episode 52/100 :: High Score - 19\n",
      "Episode 53/100 :: High Score - 59\n",
      "Episode 54/100 :: High Score - 14\n",
      "Episode 55/100 :: High Score - 18\n",
      "Episode 56/100 :: High Score - 15\n",
      "Episode 57/100 :: High Score - 8\n",
      "Episode 58/100 :: High Score - 51\n",
      "Episode 59/100 :: High Score - 10\n",
      "Episode 60/100 :: High Score - 37\n",
      "Episode 61/100 :: High Score - 24\n",
      "Episode 62/100 :: High Score - 20\n",
      "Episode 63/100 :: High Score - 18\n",
      "Episode 64/100 :: High Score - 25\n",
      "Episode 65/100 :: High Score - 37\n",
      "Episode 66/100 :: High Score - 27\n",
      "Episode 67/100 :: High Score - 30\n",
      "Episode 68/100 :: High Score - 28\n",
      "Episode 69/100 :: High Score - 10\n",
      "Episode 70/100 :: High Score - 11\n",
      "Episode 71/100 :: High Score - 12\n",
      "Episode 72/100 :: High Score - 21\n",
      "Episode 73/100 :: High Score - 9\n",
      "Episode 74/100 :: High Score - 23\n",
      "Episode 75/100 :: High Score - 16\n",
      "Episode 76/100 :: High Score - 16\n",
      "Episode 77/100 :: High Score - 8\n",
      "Episode 78/100 :: High Score - 22\n",
      "Episode 79/100 :: High Score - 18\n",
      "Episode 80/100 :: High Score - 13\n",
      "Episode 81/100 :: High Score - 14\n",
      "Episode 82/100 :: High Score - 56\n",
      "Episode 83/100 :: High Score - 18\n",
      "Episode 84/100 :: High Score - 32\n",
      "Episode 85/100 :: High Score - 19\n",
      "Episode 86/100 :: High Score - 15\n",
      "Episode 87/100 :: High Score - 19\n",
      "Episode 88/100 :: High Score - 13\n",
      "Episode 89/100 :: High Score - 25\n",
      "Episode 90/100 :: High Score - 27\n",
      "Episode 91/100 :: High Score - 11\n",
      "Episode 92/100 :: High Score - 27\n",
      "Episode 93/100 :: High Score - 14\n",
      "Episode 94/100 :: High Score - 16\n",
      "Episode 95/100 :: High Score - 48\n",
      "Episode 96/100 :: High Score - 8\n",
      "Episode 97/100 :: High Score - 15\n",
      "Episode 98/100 :: High Score - 8\n",
      "Episode 99/100 :: High Score - 27\n"
     ]
    }
   ],
   "source": [
    "for e in range(100):   ## No.of episodes\n",
    "    env.reset()\n",
    "    for t in range(100):\n",
    "        observation,reward,done,info=env.step(env.action_space.sample())\n",
    "        env.render()\n",
    "        if done==True:\n",
    "            print(\"Episode {}/{} :: High Score - {}\".format(e,100,t))\n",
    "            break\n",
    "env.close()         "
   ]
  },
  {
   "cell_type": "code",
   "execution_count": null,
   "metadata": {},
   "outputs": [],
   "source": []
  },
  {
   "cell_type": "code",
   "execution_count": null,
   "metadata": {},
   "outputs": [],
   "source": []
  }
 ],
 "metadata": {
  "kernelspec": {
   "display_name": "Python 3",
   "language": "python",
   "name": "python3"
  },
  "language_info": {
   "codemirror_mode": {
    "name": "ipython",
    "version": 3
   },
   "file_extension": ".py",
   "mimetype": "text/x-python",
   "name": "python",
   "nbconvert_exporter": "python",
   "pygments_lexer": "ipython3",
   "version": "3.7.4"
  }
 },
 "nbformat": 4,
 "nbformat_minor": 2
}
