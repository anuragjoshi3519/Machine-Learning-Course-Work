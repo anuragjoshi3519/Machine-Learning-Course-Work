{
 "cells": [
  {
   "cell_type": "code",
   "execution_count": 1,
   "metadata": {},
   "outputs": [],
   "source": [
    "import gym"
   ]
  },
  {
   "cell_type": "code",
   "execution_count": 2,
   "metadata": {},
   "outputs": [],
   "source": [
    "env=gym.make('MountainCar-v0')"
   ]
  },
  {
   "cell_type": "code",
   "execution_count": 3,
   "metadata": {},
   "outputs": [
    {
     "name": "stdout",
     "output_type": "stream",
     "text": [
      "Box(2,)\n",
      "Discrete(3)\n"
     ]
    }
   ],
   "source": [
    "print(env.observation_space)\n",
    "print(env.action_space)"
   ]
  },
  {
   "cell_type": "code",
   "execution_count": 4,
   "metadata": {},
   "outputs": [],
   "source": [
    "env.reset()\n",
    "for _ in range(10):\n",
    "    env.render()\n",
    "    env.step(env.action_space.sample())\n",
    "env.close()    "
   ]
  },
  {
   "cell_type": "code",
   "execution_count": 5,
   "metadata": {},
   "outputs": [
    {
     "name": "stderr",
     "output_type": "stream",
     "text": [
      "Using TensorFlow backend.\n"
     ]
    }
   ],
   "source": [
    "from collections import deque\n",
    "from keras.layers import Dense\n",
    "from keras.models import Sequential\n",
    "from keras.optimizers import Adam\n",
    "import numpy as np\n",
    "import random\n",
    "import os"
   ]
  },
  {
   "cell_type": "code",
   "execution_count": 6,
   "metadata": {},
   "outputs": [],
   "source": [
    "class Agent:\n",
    "    def __init__(self,state_size,action_size):\n",
    "        self.state_size=state_size\n",
    "        self.action_size=action_size\n",
    "        self.memory=deque(maxlen=2000)\n",
    "        self.epsilon=1.0\n",
    "        self.epsilon_decay=0.995\n",
    "        self.epsilon_min=0.1\n",
    "        self.gamma=0.95 ## Discount factor\n",
    "        self.model = self._create_model()\n",
    "    \n",
    "    def _create_model(self):\n",
    "        #neural network to approximate Q-learning Function\n",
    "        model=Sequential()\n",
    "        model.add(Dense(24,input_dim=self.state_size,activation='relu'))\n",
    "        model.add(Dense(48,activation='tanh'))\n",
    "        model.add(Dense(self.action_size,activation='linear'))\n",
    "        model.compile(optimizer=Adam(lr=0.001),loss='mse')\n",
    "        return model\n",
    "    \n",
    "    def remember(self,state,action,reward,next_state,done):\n",
    "        self.memory.append((state,action,reward,next_state,done)) # remember previous experiences\n",
    "        \n",
    "    def act(self,state):\n",
    "        if np.random.rand()<self.epsilon:\n",
    "            return random.randrange(self.action_size)\n",
    "        action = self.model.predict(state)\n",
    "        return np.argmax(action[0])\n",
    "    \n",
    "    def train(self,batch_size=32):\n",
    "        minibatch=random.sample(self.memory,batch_size)\n",
    "        \n",
    "        for state,action,reward,next_state,done in minibatch:\n",
    "            if not done:\n",
    "                target = reward + self.gamma*np.amax(self.model.predict(next_state)[0])\n",
    "            else:\n",
    "                target = reward\n",
    "            \n",
    "            target_f = self.model.predict(state)\n",
    "            target_f[0][action] = target\n",
    "            \n",
    "            self.model.fit(state,target_f,epochs=1,verbose=0)\n",
    "            \n",
    "        if self.epsilon > self.epsilon_min:\n",
    "            self.epsilon *= self.epsilon_decay\n",
    "            \n",
    "    def load(self,name):\n",
    "        self.model.load_weights(name)\n",
    "        \n",
    "    def save(self,name):\n",
    "        self.model.save_weights(name)                  "
   ]
  },
  {
   "cell_type": "code",
   "execution_count": null,
   "metadata": {
    "scrolled": true
   },
   "outputs": [
    {
     "name": "stdout",
     "output_type": "stream",
     "text": [
      "Game Episode :0/1000, High Score:199,Exploration Rate:1.0\n",
      "WARNING:tensorflow:From /home/joshi_anurag/anaconda3/lib/python3.7/site-packages/keras/backend/tensorflow_backend.py:422: The name tf.global_variables is deprecated. Please use tf.compat.v1.global_variables instead.\n",
      "\n",
      "Game Episode :1/1000, High Score:199,Exploration Rate:0.99\n",
      "Game Episode :2/1000, High Score:199,Exploration Rate:0.99\n",
      "Game Episode :3/1000, High Score:199,Exploration Rate:0.99\n",
      "Game Episode :4/1000, High Score:199,Exploration Rate:0.98\n",
      "Game Episode :5/1000, High Score:199,Exploration Rate:0.98\n",
      "Game Episode :6/1000, High Score:199,Exploration Rate:0.97\n",
      "Game Episode :7/1000, High Score:199,Exploration Rate:0.97\n",
      "Game Episode :8/1000, High Score:199,Exploration Rate:0.96\n",
      "Game Episode :9/1000, High Score:199,Exploration Rate:0.96\n",
      "Game Episode :10/1000, High Score:199,Exploration Rate:0.95\n",
      "Game Episode :11/1000, High Score:199,Exploration Rate:0.95\n",
      "Game Episode :12/1000, High Score:199,Exploration Rate:0.94\n",
      "Game Episode :13/1000, High Score:199,Exploration Rate:0.94\n",
      "Game Episode :14/1000, High Score:199,Exploration Rate:0.93\n",
      "Game Episode :15/1000, High Score:199,Exploration Rate:0.93\n",
      "Game Episode :16/1000, High Score:199,Exploration Rate:0.92\n",
      "Game Episode :17/1000, High Score:199,Exploration Rate:0.92\n",
      "Game Episode :18/1000, High Score:199,Exploration Rate:0.91\n",
      "Game Episode :19/1000, High Score:199,Exploration Rate:0.91\n",
      "Game Episode :20/1000, High Score:199,Exploration Rate:0.9\n",
      "Game Episode :21/1000, High Score:199,Exploration Rate:0.9\n",
      "Game Episode :22/1000, High Score:199,Exploration Rate:0.9\n",
      "Game Episode :23/1000, High Score:199,Exploration Rate:0.89\n",
      "Game Episode :24/1000, High Score:199,Exploration Rate:0.89\n"
     ]
    }
   ],
   "source": [
    "n_episodes = 1000\n",
    "#os.mkdir('MountainCar_model/')\n",
    "output_dir = \"MountainCar_model/\"\n",
    "\n",
    "state_size = 2\n",
    "action_size =3\n",
    "batch_size = 32\n",
    "\n",
    "agent = Agent(state_size, action_size) # initialise agent\n",
    "done = False\n",
    "for e in range(n_episodes):\n",
    "    state = env.reset()\n",
    "    state = np.reshape(state,[1,state_size])\n",
    "    \n",
    "    for time in range(5000):\n",
    "        env.render()\n",
    "        action = agent.act(state)\n",
    "        next_state,reward,done,other_info = env.step(action) \n",
    "        reward = reward if not done else -10\n",
    "        next_state = np.reshape(next_state,[1,state_size])\n",
    "        agent.remember(state,action,reward,next_state,done)\n",
    "        state = next_state\n",
    "        \n",
    "        if done:\n",
    "            print(\"Game Episode :{}/{}, High Score:{},Exploration Rate:{:.2}\".format(e,n_episodes,time,agent.epsilon))\n",
    "            break\n",
    "            \n",
    "    if len(agent.memory)>batch_size:\n",
    "        agent.train(batch_size)\n",
    "    \n",
    "    if e%50==0:\n",
    "        agent.save(output_dir+\"weights_\"+'{:04d}'.format(e)+\".hdf5\")\n",
    "        \n",
    "env.close()"
   ]
  },
  {
   "cell_type": "code",
   "execution_count": 4,
   "metadata": {},
   "outputs": [],
   "source": []
  },
  {
   "cell_type": "code",
   "execution_count": null,
   "metadata": {},
   "outputs": [],
   "source": []
  }
 ],
 "metadata": {
  "kernelspec": {
   "display_name": "Python 3",
   "language": "python",
   "name": "python3"
  },
  "language_info": {
   "codemirror_mode": {
    "name": "ipython",
    "version": 3
   },
   "file_extension": ".py",
   "mimetype": "text/x-python",
   "name": "python",
   "nbconvert_exporter": "python",
   "pygments_lexer": "ipython3",
   "version": "3.7.4"
  }
 },
 "nbformat": 4,
 "nbformat_minor": 2
}
